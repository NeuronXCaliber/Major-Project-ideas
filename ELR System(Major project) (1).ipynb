{
 "cells": [
  {
   "cell_type": "code",
   "execution_count": 1,
   "metadata": {},
   "outputs": [
    {
     "data": {
      "text/html": [
       "<div>\n",
       "<style scoped>\n",
       "    .dataframe tbody tr th:only-of-type {\n",
       "        vertical-align: middle;\n",
       "    }\n",
       "\n",
       "    .dataframe tbody tr th {\n",
       "        vertical-align: top;\n",
       "    }\n",
       "\n",
       "    .dataframe thead th {\n",
       "        text-align: right;\n",
       "    }\n",
       "</style>\n",
       "<table border=\"1\" class=\"dataframe\">\n",
       "  <thead>\n",
       "    <tr style=\"text-align: right;\">\n",
       "      <th></th>\n",
       "      <th>s_id</th>\n",
       "      <th>s_name</th>\n",
       "      <th>age</th>\n",
       "      <th>sc_%</th>\n",
       "      <th>hsc_%</th>\n",
       "      <th>ent_%</th>\n",
       "      <th>category</th>\n",
       "      <th>course</th>\n",
       "    </tr>\n",
       "  </thead>\n",
       "  <tbody>\n",
       "    <tr>\n",
       "      <th>0</th>\n",
       "      <td>1</td>\n",
       "      <td>s_kumar</td>\n",
       "      <td>19</td>\n",
       "      <td>73</td>\n",
       "      <td>64</td>\n",
       "      <td>32</td>\n",
       "      <td>gc</td>\n",
       "      <td>btech</td>\n",
       "    </tr>\n",
       "    <tr>\n",
       "      <th>1</th>\n",
       "      <td>2</td>\n",
       "      <td>p_das</td>\n",
       "      <td>21</td>\n",
       "      <td>61</td>\n",
       "      <td>61</td>\n",
       "      <td>55</td>\n",
       "      <td>gc</td>\n",
       "      <td>btech</td>\n",
       "    </tr>\n",
       "    <tr>\n",
       "      <th>2</th>\n",
       "      <td>3</td>\n",
       "      <td>c_kumar</td>\n",
       "      <td>21</td>\n",
       "      <td>61</td>\n",
       "      <td>73</td>\n",
       "      <td>71</td>\n",
       "      <td>sc</td>\n",
       "      <td>btech</td>\n",
       "    </tr>\n",
       "    <tr>\n",
       "      <th>3</th>\n",
       "      <td>4</td>\n",
       "      <td>s_bose</td>\n",
       "      <td>18</td>\n",
       "      <td>84</td>\n",
       "      <td>84</td>\n",
       "      <td>89</td>\n",
       "      <td>st</td>\n",
       "      <td>bca</td>\n",
       "    </tr>\n",
       "    <tr>\n",
       "      <th>4</th>\n",
       "      <td>5</td>\n",
       "      <td>p_das</td>\n",
       "      <td>23</td>\n",
       "      <td>92</td>\n",
       "      <td>67</td>\n",
       "      <td>53</td>\n",
       "      <td>gc</td>\n",
       "      <td>bca</td>\n",
       "    </tr>\n",
       "  </tbody>\n",
       "</table>\n",
       "</div>"
      ],
      "text/plain": [
       "   s_id   s_name  age  sc_%  hsc_%  ent_% category course\n",
       "0     1  s_kumar   19    73     64     32       gc  btech\n",
       "1     2    p_das   21    61     61     55       gc  btech\n",
       "2     3  c_kumar   21    61     73     71       sc  btech\n",
       "3     4   s_bose   18    84     84     89       st    bca\n",
       "4     5    p_das   23    92     67     53       gc    bca"
      ]
     },
     "execution_count": 1,
     "metadata": {},
     "output_type": "execute_result"
    }
   ],
   "source": [
    "from sklearn.metrics import mean_squared_error\n",
    "import pandas as pd\n",
    "dataset1=pd.read_csv('studentdatabase.csv')\n",
    "dataset1.head()"
   ]
  },
  {
   "cell_type": "code",
   "execution_count": 2,
   "metadata": {},
   "outputs": [
    {
     "data": {
      "text/html": [
       "<div>\n",
       "<style scoped>\n",
       "    .dataframe tbody tr th:only-of-type {\n",
       "        vertical-align: middle;\n",
       "    }\n",
       "\n",
       "    .dataframe tbody tr th {\n",
       "        vertical-align: top;\n",
       "    }\n",
       "\n",
       "    .dataframe thead th {\n",
       "        text-align: right;\n",
       "    }\n",
       "</style>\n",
       "<table border=\"1\" class=\"dataframe\">\n",
       "  <thead>\n",
       "    <tr style=\"text-align: right;\">\n",
       "      <th></th>\n",
       "      <th>s_id</th>\n",
       "      <th>s_name</th>\n",
       "      <th>age</th>\n",
       "      <th>sc_%</th>\n",
       "      <th>hsc_%</th>\n",
       "      <th>ent_%</th>\n",
       "      <th>category</th>\n",
       "      <th>course</th>\n",
       "    </tr>\n",
       "  </thead>\n",
       "  <tbody>\n",
       "    <tr>\n",
       "      <th>46</th>\n",
       "      <td>47</td>\n",
       "      <td>j_ansari</td>\n",
       "      <td>17</td>\n",
       "      <td>93</td>\n",
       "      <td>88</td>\n",
       "      <td>89</td>\n",
       "      <td>obc_a</td>\n",
       "      <td>bba</td>\n",
       "    </tr>\n",
       "    <tr>\n",
       "      <th>47</th>\n",
       "      <td>48</td>\n",
       "      <td>f_mitra</td>\n",
       "      <td>15</td>\n",
       "      <td>67</td>\n",
       "      <td>67</td>\n",
       "      <td>61</td>\n",
       "      <td>sc</td>\n",
       "      <td>mba</td>\n",
       "    </tr>\n",
       "    <tr>\n",
       "      <th>48</th>\n",
       "      <td>49</td>\n",
       "      <td>s_g</td>\n",
       "      <td>21</td>\n",
       "      <td>44</td>\n",
       "      <td>49</td>\n",
       "      <td>50</td>\n",
       "      <td>gc</td>\n",
       "      <td>mba</td>\n",
       "    </tr>\n",
       "    <tr>\n",
       "      <th>49</th>\n",
       "      <td>50</td>\n",
       "      <td>a_mitra</td>\n",
       "      <td>17</td>\n",
       "      <td>78</td>\n",
       "      <td>71</td>\n",
       "      <td>66</td>\n",
       "      <td>sc</td>\n",
       "      <td>mcom</td>\n",
       "    </tr>\n",
       "    <tr>\n",
       "      <th>50</th>\n",
       "      <td>51</td>\n",
       "      <td>c_sharma</td>\n",
       "      <td>16</td>\n",
       "      <td>59</td>\n",
       "      <td>65</td>\n",
       "      <td>56</td>\n",
       "      <td>gc</td>\n",
       "      <td>mcom</td>\n",
       "    </tr>\n",
       "  </tbody>\n",
       "</table>\n",
       "</div>"
      ],
      "text/plain": [
       "    s_id    s_name  age  sc_%  hsc_%  ent_% category course\n",
       "46    47  j_ansari   17    93     88     89    obc_a    bba\n",
       "47    48   f_mitra   15    67     67     61       sc    mba\n",
       "48    49       s_g   21    44     49     50       gc    mba\n",
       "49    50   a_mitra   17    78     71     66       sc   mcom\n",
       "50    51  c_sharma   16    59     65     56       gc   mcom"
      ]
     },
     "execution_count": 2,
     "metadata": {},
     "output_type": "execute_result"
    }
   ],
   "source": [
    "dataset1.tail()"
   ]
  },
  {
   "cell_type": "code",
   "execution_count": 3,
   "metadata": {},
   "outputs": [
    {
     "data": {
      "text/plain": [
       "(51, 8)"
      ]
     },
     "execution_count": 3,
     "metadata": {},
     "output_type": "execute_result"
    }
   ],
   "source": [
    "dataset1.shape"
   ]
  },
  {
   "cell_type": "code",
   "execution_count": 4,
   "metadata": {},
   "outputs": [
    {
     "name": "stdout",
     "output_type": "stream",
     "text": [
      "<class 'pandas.core.frame.DataFrame'>\n",
      "RangeIndex: 51 entries, 0 to 50\n",
      "Data columns (total 8 columns):\n",
      " #   Column    Non-Null Count  Dtype \n",
      "---  ------    --------------  ----- \n",
      " 0   s_id      51 non-null     int64 \n",
      " 1   s_name    51 non-null     object\n",
      " 2   age       51 non-null     int64 \n",
      " 3   sc_%      51 non-null     int64 \n",
      " 4   hsc_%     51 non-null     int64 \n",
      " 5   ent_%     51 non-null     int64 \n",
      " 6   category  51 non-null     object\n",
      " 7   course    51 non-null     object\n",
      "dtypes: int64(5), object(3)\n",
      "memory usage: 3.3+ KB\n"
     ]
    }
   ],
   "source": [
    "dataset1.info()"
   ]
  },
  {
   "cell_type": "code",
   "execution_count": 5,
   "metadata": {},
   "outputs": [
    {
     "data": {
      "text/html": [
       "<div>\n",
       "<style scoped>\n",
       "    .dataframe tbody tr th:only-of-type {\n",
       "        vertical-align: middle;\n",
       "    }\n",
       "\n",
       "    .dataframe tbody tr th {\n",
       "        vertical-align: top;\n",
       "    }\n",
       "\n",
       "    .dataframe thead th {\n",
       "        text-align: right;\n",
       "    }\n",
       "</style>\n",
       "<table border=\"1\" class=\"dataframe\">\n",
       "  <thead>\n",
       "    <tr style=\"text-align: right;\">\n",
       "      <th></th>\n",
       "      <th>s_id</th>\n",
       "      <th>age</th>\n",
       "      <th>sc_%</th>\n",
       "      <th>hsc_%</th>\n",
       "      <th>ent_%</th>\n",
       "    </tr>\n",
       "  </thead>\n",
       "  <tbody>\n",
       "    <tr>\n",
       "      <th>count</th>\n",
       "      <td>51.000000</td>\n",
       "      <td>51.000000</td>\n",
       "      <td>51.000000</td>\n",
       "      <td>51.000000</td>\n",
       "      <td>51.000000</td>\n",
       "    </tr>\n",
       "    <tr>\n",
       "      <th>mean</th>\n",
       "      <td>26.000000</td>\n",
       "      <td>20.549020</td>\n",
       "      <td>72.196078</td>\n",
       "      <td>70.549020</td>\n",
       "      <td>62.784314</td>\n",
       "    </tr>\n",
       "    <tr>\n",
       "      <th>std</th>\n",
       "      <td>14.866069</td>\n",
       "      <td>2.220934</td>\n",
       "      <td>15.367524</td>\n",
       "      <td>13.416876</td>\n",
       "      <td>18.492500</td>\n",
       "    </tr>\n",
       "    <tr>\n",
       "      <th>min</th>\n",
       "      <td>1.000000</td>\n",
       "      <td>15.000000</td>\n",
       "      <td>43.000000</td>\n",
       "      <td>43.000000</td>\n",
       "      <td>23.000000</td>\n",
       "    </tr>\n",
       "    <tr>\n",
       "      <th>25%</th>\n",
       "      <td>13.500000</td>\n",
       "      <td>19.000000</td>\n",
       "      <td>61.000000</td>\n",
       "      <td>61.000000</td>\n",
       "      <td>51.500000</td>\n",
       "    </tr>\n",
       "    <tr>\n",
       "      <th>50%</th>\n",
       "      <td>26.000000</td>\n",
       "      <td>21.000000</td>\n",
       "      <td>73.000000</td>\n",
       "      <td>69.000000</td>\n",
       "      <td>63.000000</td>\n",
       "    </tr>\n",
       "    <tr>\n",
       "      <th>75%</th>\n",
       "      <td>38.500000</td>\n",
       "      <td>22.000000</td>\n",
       "      <td>85.500000</td>\n",
       "      <td>81.000000</td>\n",
       "      <td>77.500000</td>\n",
       "    </tr>\n",
       "    <tr>\n",
       "      <th>max</th>\n",
       "      <td>51.000000</td>\n",
       "      <td>24.000000</td>\n",
       "      <td>96.000000</td>\n",
       "      <td>96.000000</td>\n",
       "      <td>94.000000</td>\n",
       "    </tr>\n",
       "  </tbody>\n",
       "</table>\n",
       "</div>"
      ],
      "text/plain": [
       "            s_id        age       sc_%      hsc_%      ent_%\n",
       "count  51.000000  51.000000  51.000000  51.000000  51.000000\n",
       "mean   26.000000  20.549020  72.196078  70.549020  62.784314\n",
       "std    14.866069   2.220934  15.367524  13.416876  18.492500\n",
       "min     1.000000  15.000000  43.000000  43.000000  23.000000\n",
       "25%    13.500000  19.000000  61.000000  61.000000  51.500000\n",
       "50%    26.000000  21.000000  73.000000  69.000000  63.000000\n",
       "75%    38.500000  22.000000  85.500000  81.000000  77.500000\n",
       "max    51.000000  24.000000  96.000000  96.000000  94.000000"
      ]
     },
     "execution_count": 5,
     "metadata": {},
     "output_type": "execute_result"
    }
   ],
   "source": [
    "dataset1.describe()"
   ]
  },
  {
   "cell_type": "code",
   "execution_count": 6,
   "metadata": {},
   "outputs": [
    {
     "data": {
      "text/plain": [
       "array(['gc', 'sc', 'st', 'obc_a', 'obc_b'], dtype=object)"
      ]
     },
     "execution_count": 6,
     "metadata": {},
     "output_type": "execute_result"
    }
   ],
   "source": [
    "dataset1['category'].unique()"
   ]
  },
  {
   "cell_type": "code",
   "execution_count": 7,
   "metadata": {},
   "outputs": [
    {
     "data": {
      "text/plain": [
       "array(['btech', 'bca', 'bba', 'bhm', 'barch', 'mba', 'mcom'], dtype=object)"
      ]
     },
     "execution_count": 7,
     "metadata": {},
     "output_type": "execute_result"
    }
   ],
   "source": [
    "dataset1['course'].unique()"
   ]
  },
  {
   "cell_type": "code",
   "execution_count": 8,
   "metadata": {},
   "outputs": [
    {
     "data": {
      "text/plain": [
       "bba      13\n",
       "bca      12\n",
       "bhm       8\n",
       "btech     6\n",
       "mba       6\n",
       "barch     4\n",
       "mcom      2\n",
       "Name: course, dtype: int64"
      ]
     },
     "execution_count": 8,
     "metadata": {},
     "output_type": "execute_result"
    }
   ],
   "source": [
    "dataset1['course'].value_counts()"
   ]
  },
  {
   "cell_type": "code",
   "execution_count": 9,
   "metadata": {},
   "outputs": [
    {
     "data": {
      "text/plain": [
       "gc       19\n",
       "st       11\n",
       "sc       10\n",
       "obc_a     6\n",
       "obc_b     5\n",
       "Name: category, dtype: int64"
      ]
     },
     "execution_count": 9,
     "metadata": {},
     "output_type": "execute_result"
    }
   ],
   "source": [
    "dataset1['category'].value_counts()"
   ]
  },
  {
   "cell_type": "code",
   "execution_count": 10,
   "metadata": {},
   "outputs": [
    {
     "data": {
      "text/plain": [
       "s_id        0\n",
       "s_name      0\n",
       "age         0\n",
       "sc_%        0\n",
       "hsc_%       0\n",
       "ent_%       0\n",
       "category    0\n",
       "course      0\n",
       "dtype: int64"
      ]
     },
     "execution_count": 10,
     "metadata": {},
     "output_type": "execute_result"
    }
   ],
   "source": [
    "dataset1.isnull().sum()"
   ]
  },
  {
   "cell_type": "code",
   "execution_count": 11,
   "metadata": {},
   "outputs": [
    {
     "data": {
      "text/html": [
       "<div>\n",
       "<style scoped>\n",
       "    .dataframe tbody tr th:only-of-type {\n",
       "        vertical-align: middle;\n",
       "    }\n",
       "\n",
       "    .dataframe tbody tr th {\n",
       "        vertical-align: top;\n",
       "    }\n",
       "\n",
       "    .dataframe thead th {\n",
       "        text-align: right;\n",
       "    }\n",
       "</style>\n",
       "<table border=\"1\" class=\"dataframe\">\n",
       "  <thead>\n",
       "    <tr style=\"text-align: right;\">\n",
       "      <th></th>\n",
       "      <th>s_id</th>\n",
       "      <th>s_name</th>\n",
       "      <th>age</th>\n",
       "      <th>sc_%</th>\n",
       "      <th>hsc_%</th>\n",
       "      <th>ent_%</th>\n",
       "      <th>category</th>\n",
       "      <th>course</th>\n",
       "    </tr>\n",
       "  </thead>\n",
       "  <tbody>\n",
       "    <tr>\n",
       "      <th>0</th>\n",
       "      <td>1</td>\n",
       "      <td>s_kumar</td>\n",
       "      <td>19</td>\n",
       "      <td>73</td>\n",
       "      <td>64</td>\n",
       "      <td>32</td>\n",
       "      <td>gc</td>\n",
       "      <td>btech</td>\n",
       "    </tr>\n",
       "    <tr>\n",
       "      <th>1</th>\n",
       "      <td>2</td>\n",
       "      <td>p_das</td>\n",
       "      <td>21</td>\n",
       "      <td>61</td>\n",
       "      <td>61</td>\n",
       "      <td>55</td>\n",
       "      <td>gc</td>\n",
       "      <td>btech</td>\n",
       "    </tr>\n",
       "    <tr>\n",
       "      <th>2</th>\n",
       "      <td>3</td>\n",
       "      <td>c_kumar</td>\n",
       "      <td>21</td>\n",
       "      <td>61</td>\n",
       "      <td>73</td>\n",
       "      <td>71</td>\n",
       "      <td>sc</td>\n",
       "      <td>btech</td>\n",
       "    </tr>\n",
       "    <tr>\n",
       "      <th>3</th>\n",
       "      <td>4</td>\n",
       "      <td>s_bose</td>\n",
       "      <td>18</td>\n",
       "      <td>84</td>\n",
       "      <td>84</td>\n",
       "      <td>89</td>\n",
       "      <td>st</td>\n",
       "      <td>bca</td>\n",
       "    </tr>\n",
       "    <tr>\n",
       "      <th>4</th>\n",
       "      <td>5</td>\n",
       "      <td>p_das</td>\n",
       "      <td>23</td>\n",
       "      <td>92</td>\n",
       "      <td>67</td>\n",
       "      <td>53</td>\n",
       "      <td>gc</td>\n",
       "      <td>bca</td>\n",
       "    </tr>\n",
       "    <tr>\n",
       "      <th>5</th>\n",
       "      <td>6</td>\n",
       "      <td>c_singh</td>\n",
       "      <td>22</td>\n",
       "      <td>43</td>\n",
       "      <td>43</td>\n",
       "      <td>56</td>\n",
       "      <td>gc</td>\n",
       "      <td>bca</td>\n",
       "    </tr>\n",
       "    <tr>\n",
       "      <th>6</th>\n",
       "      <td>7</td>\n",
       "      <td>v_das</td>\n",
       "      <td>18</td>\n",
       "      <td>71</td>\n",
       "      <td>71</td>\n",
       "      <td>55</td>\n",
       "      <td>st</td>\n",
       "      <td>bca</td>\n",
       "    </tr>\n",
       "    <tr>\n",
       "      <th>7</th>\n",
       "      <td>8</td>\n",
       "      <td>b_kumar</td>\n",
       "      <td>18</td>\n",
       "      <td>44</td>\n",
       "      <td>44</td>\n",
       "      <td>55</td>\n",
       "      <td>obc_a</td>\n",
       "      <td>bca</td>\n",
       "    </tr>\n",
       "    <tr>\n",
       "      <th>8</th>\n",
       "      <td>9</td>\n",
       "      <td>s_dey</td>\n",
       "      <td>18</td>\n",
       "      <td>45</td>\n",
       "      <td>55</td>\n",
       "      <td>55</td>\n",
       "      <td>obc_a</td>\n",
       "      <td>bca</td>\n",
       "    </tr>\n",
       "    <tr>\n",
       "      <th>9</th>\n",
       "      <td>10</td>\n",
       "      <td>s_bose</td>\n",
       "      <td>19</td>\n",
       "      <td>67</td>\n",
       "      <td>67</td>\n",
       "      <td>55</td>\n",
       "      <td>sc</td>\n",
       "      <td>bca</td>\n",
       "    </tr>\n",
       "    <tr>\n",
       "      <th>10</th>\n",
       "      <td>11</td>\n",
       "      <td>t_halder</td>\n",
       "      <td>24</td>\n",
       "      <td>96</td>\n",
       "      <td>96</td>\n",
       "      <td>55</td>\n",
       "      <td>sc</td>\n",
       "      <td>bca</td>\n",
       "    </tr>\n",
       "    <tr>\n",
       "      <th>11</th>\n",
       "      <td>12</td>\n",
       "      <td>p_halder</td>\n",
       "      <td>23</td>\n",
       "      <td>43</td>\n",
       "      <td>67</td>\n",
       "      <td>55</td>\n",
       "      <td>sc</td>\n",
       "      <td>bba</td>\n",
       "    </tr>\n",
       "    <tr>\n",
       "      <th>12</th>\n",
       "      <td>13</td>\n",
       "      <td>s_khatun</td>\n",
       "      <td>21</td>\n",
       "      <td>55</td>\n",
       "      <td>81</td>\n",
       "      <td>67</td>\n",
       "      <td>gc</td>\n",
       "      <td>bba</td>\n",
       "    </tr>\n",
       "    <tr>\n",
       "      <th>13</th>\n",
       "      <td>14</td>\n",
       "      <td>s_ansari</td>\n",
       "      <td>21</td>\n",
       "      <td>62</td>\n",
       "      <td>62</td>\n",
       "      <td>78</td>\n",
       "      <td>obc_b</td>\n",
       "      <td>bba</td>\n",
       "    </tr>\n",
       "    <tr>\n",
       "      <th>14</th>\n",
       "      <td>15</td>\n",
       "      <td>d_das</td>\n",
       "      <td>21</td>\n",
       "      <td>68</td>\n",
       "      <td>68</td>\n",
       "      <td>42</td>\n",
       "      <td>obc_b</td>\n",
       "      <td>bba</td>\n",
       "    </tr>\n",
       "    <tr>\n",
       "      <th>15</th>\n",
       "      <td>16</td>\n",
       "      <td>k_chatter</td>\n",
       "      <td>21</td>\n",
       "      <td>87</td>\n",
       "      <td>77</td>\n",
       "      <td>78</td>\n",
       "      <td>obc_b</td>\n",
       "      <td>bba</td>\n",
       "    </tr>\n",
       "    <tr>\n",
       "      <th>16</th>\n",
       "      <td>17</td>\n",
       "      <td>a_das</td>\n",
       "      <td>21</td>\n",
       "      <td>79</td>\n",
       "      <td>79</td>\n",
       "      <td>33</td>\n",
       "      <td>obc_a</td>\n",
       "      <td>bba</td>\n",
       "    </tr>\n",
       "    <tr>\n",
       "      <th>17</th>\n",
       "      <td>18</td>\n",
       "      <td>a_ganguly</td>\n",
       "      <td>21</td>\n",
       "      <td>59</td>\n",
       "      <td>60</td>\n",
       "      <td>43</td>\n",
       "      <td>gc</td>\n",
       "      <td>bba</td>\n",
       "    </tr>\n",
       "    <tr>\n",
       "      <th>18</th>\n",
       "      <td>19</td>\n",
       "      <td>p_sharma</td>\n",
       "      <td>21</td>\n",
       "      <td>81</td>\n",
       "      <td>69</td>\n",
       "      <td>70</td>\n",
       "      <td>gc</td>\n",
       "      <td>bba</td>\n",
       "    </tr>\n",
       "    <tr>\n",
       "      <th>19</th>\n",
       "      <td>20</td>\n",
       "      <td>r_sharma</td>\n",
       "      <td>21</td>\n",
       "      <td>81</td>\n",
       "      <td>81</td>\n",
       "      <td>80</td>\n",
       "      <td>st</td>\n",
       "      <td>bhm</td>\n",
       "    </tr>\n",
       "    <tr>\n",
       "      <th>20</th>\n",
       "      <td>21</td>\n",
       "      <td>a_gupta</td>\n",
       "      <td>21</td>\n",
       "      <td>77</td>\n",
       "      <td>77</td>\n",
       "      <td>71</td>\n",
       "      <td>st</td>\n",
       "      <td>bhm</td>\n",
       "    </tr>\n",
       "    <tr>\n",
       "      <th>21</th>\n",
       "      <td>22</td>\n",
       "      <td>g_gupta</td>\n",
       "      <td>21</td>\n",
       "      <td>96</td>\n",
       "      <td>92</td>\n",
       "      <td>90</td>\n",
       "      <td>st</td>\n",
       "      <td>bca</td>\n",
       "    </tr>\n",
       "    <tr>\n",
       "      <th>22</th>\n",
       "      <td>23</td>\n",
       "      <td>s_roy</td>\n",
       "      <td>21</td>\n",
       "      <td>95</td>\n",
       "      <td>87</td>\n",
       "      <td>63</td>\n",
       "      <td>obc_b</td>\n",
       "      <td>barch</td>\n",
       "    </tr>\n",
       "    <tr>\n",
       "      <th>23</th>\n",
       "      <td>24</td>\n",
       "      <td>a_sharma</td>\n",
       "      <td>23</td>\n",
       "      <td>65</td>\n",
       "      <td>65</td>\n",
       "      <td>67</td>\n",
       "      <td>gc</td>\n",
       "      <td>barch</td>\n",
       "    </tr>\n",
       "    <tr>\n",
       "      <th>24</th>\n",
       "      <td>25</td>\n",
       "      <td>r_roy</td>\n",
       "      <td>24</td>\n",
       "      <td>66</td>\n",
       "      <td>61</td>\n",
       "      <td>49</td>\n",
       "      <td>gc</td>\n",
       "      <td>btech</td>\n",
       "    </tr>\n",
       "    <tr>\n",
       "      <th>25</th>\n",
       "      <td>26</td>\n",
       "      <td>d_kumar</td>\n",
       "      <td>22</td>\n",
       "      <td>76</td>\n",
       "      <td>81</td>\n",
       "      <td>53</td>\n",
       "      <td>sc</td>\n",
       "      <td>bhm</td>\n",
       "    </tr>\n",
       "    <tr>\n",
       "      <th>26</th>\n",
       "      <td>27</td>\n",
       "      <td>h_sharma</td>\n",
       "      <td>22</td>\n",
       "      <td>83</td>\n",
       "      <td>80</td>\n",
       "      <td>41</td>\n",
       "      <td>sc</td>\n",
       "      <td>bhm</td>\n",
       "    </tr>\n",
       "    <tr>\n",
       "      <th>27</th>\n",
       "      <td>28</td>\n",
       "      <td>r_sharma</td>\n",
       "      <td>22</td>\n",
       "      <td>58</td>\n",
       "      <td>86</td>\n",
       "      <td>41</td>\n",
       "      <td>st</td>\n",
       "      <td>bhm</td>\n",
       "    </tr>\n",
       "    <tr>\n",
       "      <th>28</th>\n",
       "      <td>29</td>\n",
       "      <td>a_roy</td>\n",
       "      <td>22</td>\n",
       "      <td>88</td>\n",
       "      <td>45</td>\n",
       "      <td>41</td>\n",
       "      <td>st</td>\n",
       "      <td>bhm</td>\n",
       "    </tr>\n",
       "    <tr>\n",
       "      <th>29</th>\n",
       "      <td>30</td>\n",
       "      <td>r_khatun</td>\n",
       "      <td>21</td>\n",
       "      <td>87</td>\n",
       "      <td>56</td>\n",
       "      <td>41</td>\n",
       "      <td>st</td>\n",
       "      <td>bba</td>\n",
       "    </tr>\n",
       "    <tr>\n",
       "      <th>30</th>\n",
       "      <td>31</td>\n",
       "      <td>p_bose</td>\n",
       "      <td>18</td>\n",
       "      <td>87</td>\n",
       "      <td>87</td>\n",
       "      <td>89</td>\n",
       "      <td>gc</td>\n",
       "      <td>bba</td>\n",
       "    </tr>\n",
       "    <tr>\n",
       "      <th>31</th>\n",
       "      <td>32</td>\n",
       "      <td>s_sharma</td>\n",
       "      <td>19</td>\n",
       "      <td>87</td>\n",
       "      <td>87</td>\n",
       "      <td>94</td>\n",
       "      <td>obc_a</td>\n",
       "      <td>bba</td>\n",
       "    </tr>\n",
       "    <tr>\n",
       "      <th>32</th>\n",
       "      <td>33</td>\n",
       "      <td>d_ansari</td>\n",
       "      <td>18</td>\n",
       "      <td>91</td>\n",
       "      <td>91</td>\n",
       "      <td>92</td>\n",
       "      <td>gc</td>\n",
       "      <td>btech</td>\n",
       "    </tr>\n",
       "    <tr>\n",
       "      <th>33</th>\n",
       "      <td>34</td>\n",
       "      <td>l_roy</td>\n",
       "      <td>18</td>\n",
       "      <td>90</td>\n",
       "      <td>78</td>\n",
       "      <td>91</td>\n",
       "      <td>gc</td>\n",
       "      <td>barch</td>\n",
       "    </tr>\n",
       "    <tr>\n",
       "      <th>34</th>\n",
       "      <td>35</td>\n",
       "      <td>a_bose</td>\n",
       "      <td>24</td>\n",
       "      <td>76</td>\n",
       "      <td>61</td>\n",
       "      <td>77</td>\n",
       "      <td>gc</td>\n",
       "      <td>bca</td>\n",
       "    </tr>\n",
       "    <tr>\n",
       "      <th>35</th>\n",
       "      <td>36</td>\n",
       "      <td>d_sanyal</td>\n",
       "      <td>23</td>\n",
       "      <td>60</td>\n",
       "      <td>60</td>\n",
       "      <td>23</td>\n",
       "      <td>obc_a</td>\n",
       "      <td>bca</td>\n",
       "    </tr>\n",
       "    <tr>\n",
       "      <th>36</th>\n",
       "      <td>37</td>\n",
       "      <td>p_khatun</td>\n",
       "      <td>23</td>\n",
       "      <td>50</td>\n",
       "      <td>50</td>\n",
       "      <td>34</td>\n",
       "      <td>sc</td>\n",
       "      <td>bca</td>\n",
       "    </tr>\n",
       "    <tr>\n",
       "      <th>37</th>\n",
       "      <td>38</td>\n",
       "      <td>c_sanyal</td>\n",
       "      <td>22</td>\n",
       "      <td>82</td>\n",
       "      <td>85</td>\n",
       "      <td>89</td>\n",
       "      <td>st</td>\n",
       "      <td>btech</td>\n",
       "    </tr>\n",
       "    <tr>\n",
       "      <th>38</th>\n",
       "      <td>39</td>\n",
       "      <td>a_p</td>\n",
       "      <td>22</td>\n",
       "      <td>77</td>\n",
       "      <td>72</td>\n",
       "      <td>79</td>\n",
       "      <td>st</td>\n",
       "      <td>barch</td>\n",
       "    </tr>\n",
       "    <tr>\n",
       "      <th>39</th>\n",
       "      <td>40</td>\n",
       "      <td>s_k</td>\n",
       "      <td>22</td>\n",
       "      <td>67</td>\n",
       "      <td>67</td>\n",
       "      <td>76</td>\n",
       "      <td>gc</td>\n",
       "      <td>bhm</td>\n",
       "    </tr>\n",
       "    <tr>\n",
       "      <th>40</th>\n",
       "      <td>41</td>\n",
       "      <td>p_das</td>\n",
       "      <td>22</td>\n",
       "      <td>89</td>\n",
       "      <td>89</td>\n",
       "      <td>69</td>\n",
       "      <td>st</td>\n",
       "      <td>bhm</td>\n",
       "    </tr>\n",
       "    <tr>\n",
       "      <th>41</th>\n",
       "      <td>42</td>\n",
       "      <td>b_dash</td>\n",
       "      <td>21</td>\n",
       "      <td>54</td>\n",
       "      <td>55</td>\n",
       "      <td>38</td>\n",
       "      <td>sc</td>\n",
       "      <td>bba</td>\n",
       "    </tr>\n",
       "    <tr>\n",
       "      <th>42</th>\n",
       "      <td>43</td>\n",
       "      <td>g_gupta</td>\n",
       "      <td>24</td>\n",
       "      <td>64</td>\n",
       "      <td>64</td>\n",
       "      <td>65</td>\n",
       "      <td>gc</td>\n",
       "      <td>mba</td>\n",
       "    </tr>\n",
       "    <tr>\n",
       "      <th>43</th>\n",
       "      <td>44</td>\n",
       "      <td>g_sharma</td>\n",
       "      <td>19</td>\n",
       "      <td>71</td>\n",
       "      <td>60</td>\n",
       "      <td>77</td>\n",
       "      <td>gc</td>\n",
       "      <td>mba</td>\n",
       "    </tr>\n",
       "    <tr>\n",
       "      <th>44</th>\n",
       "      <td>45</td>\n",
       "      <td>k_das</td>\n",
       "      <td>19</td>\n",
       "      <td>70</td>\n",
       "      <td>70</td>\n",
       "      <td>70</td>\n",
       "      <td>gc</td>\n",
       "      <td>mba</td>\n",
       "    </tr>\n",
       "    <tr>\n",
       "      <th>45</th>\n",
       "      <td>46</td>\n",
       "      <td>k_bose</td>\n",
       "      <td>17</td>\n",
       "      <td>83</td>\n",
       "      <td>83</td>\n",
       "      <td>83</td>\n",
       "      <td>obc_b</td>\n",
       "      <td>mba</td>\n",
       "    </tr>\n",
       "    <tr>\n",
       "      <th>46</th>\n",
       "      <td>47</td>\n",
       "      <td>j_ansari</td>\n",
       "      <td>17</td>\n",
       "      <td>93</td>\n",
       "      <td>88</td>\n",
       "      <td>89</td>\n",
       "      <td>obc_a</td>\n",
       "      <td>bba</td>\n",
       "    </tr>\n",
       "    <tr>\n",
       "      <th>47</th>\n",
       "      <td>48</td>\n",
       "      <td>f_mitra</td>\n",
       "      <td>15</td>\n",
       "      <td>67</td>\n",
       "      <td>67</td>\n",
       "      <td>61</td>\n",
       "      <td>sc</td>\n",
       "      <td>mba</td>\n",
       "    </tr>\n",
       "    <tr>\n",
       "      <th>48</th>\n",
       "      <td>49</td>\n",
       "      <td>s_g</td>\n",
       "      <td>21</td>\n",
       "      <td>44</td>\n",
       "      <td>49</td>\n",
       "      <td>50</td>\n",
       "      <td>gc</td>\n",
       "      <td>mba</td>\n",
       "    </tr>\n",
       "    <tr>\n",
       "      <th>49</th>\n",
       "      <td>50</td>\n",
       "      <td>a_mitra</td>\n",
       "      <td>17</td>\n",
       "      <td>78</td>\n",
       "      <td>71</td>\n",
       "      <td>66</td>\n",
       "      <td>sc</td>\n",
       "      <td>mcom</td>\n",
       "    </tr>\n",
       "    <tr>\n",
       "      <th>50</th>\n",
       "      <td>51</td>\n",
       "      <td>c_sharma</td>\n",
       "      <td>16</td>\n",
       "      <td>59</td>\n",
       "      <td>65</td>\n",
       "      <td>56</td>\n",
       "      <td>gc</td>\n",
       "      <td>mcom</td>\n",
       "    </tr>\n",
       "  </tbody>\n",
       "</table>\n",
       "</div>"
      ],
      "text/plain": [
       "    s_id     s_name  age  sc_%  hsc_%  ent_% category course\n",
       "0      1    s_kumar   19    73     64     32       gc  btech\n",
       "1      2      p_das   21    61     61     55       gc  btech\n",
       "2      3    c_kumar   21    61     73     71       sc  btech\n",
       "3      4     s_bose   18    84     84     89       st    bca\n",
       "4      5      p_das   23    92     67     53       gc    bca\n",
       "5      6    c_singh   22    43     43     56       gc    bca\n",
       "6      7      v_das   18    71     71     55       st    bca\n",
       "7      8    b_kumar   18    44     44     55    obc_a    bca\n",
       "8      9      s_dey   18    45     55     55    obc_a    bca\n",
       "9     10     s_bose   19    67     67     55       sc    bca\n",
       "10    11   t_halder   24    96     96     55       sc    bca\n",
       "11    12   p_halder   23    43     67     55       sc    bba\n",
       "12    13   s_khatun   21    55     81     67       gc    bba\n",
       "13    14   s_ansari   21    62     62     78    obc_b    bba\n",
       "14    15      d_das   21    68     68     42    obc_b    bba\n",
       "15    16  k_chatter   21    87     77     78    obc_b    bba\n",
       "16    17      a_das   21    79     79     33    obc_a    bba\n",
       "17    18  a_ganguly   21    59     60     43       gc    bba\n",
       "18    19   p_sharma   21    81     69     70       gc    bba\n",
       "19    20   r_sharma   21    81     81     80       st    bhm\n",
       "20    21    a_gupta   21    77     77     71       st    bhm\n",
       "21    22    g_gupta   21    96     92     90       st    bca\n",
       "22    23      s_roy   21    95     87     63    obc_b  barch\n",
       "23    24   a_sharma   23    65     65     67       gc  barch\n",
       "24    25      r_roy   24    66     61     49       gc  btech\n",
       "25    26    d_kumar   22    76     81     53       sc    bhm\n",
       "26    27   h_sharma   22    83     80     41       sc    bhm\n",
       "27    28   r_sharma   22    58     86     41       st    bhm\n",
       "28    29      a_roy   22    88     45     41       st    bhm\n",
       "29    30   r_khatun   21    87     56     41       st    bba\n",
       "30    31     p_bose   18    87     87     89       gc    bba\n",
       "31    32   s_sharma   19    87     87     94    obc_a    bba\n",
       "32    33   d_ansari   18    91     91     92       gc  btech\n",
       "33    34      l_roy   18    90     78     91       gc  barch\n",
       "34    35     a_bose   24    76     61     77       gc    bca\n",
       "35    36   d_sanyal   23    60     60     23    obc_a    bca\n",
       "36    37   p_khatun   23    50     50     34       sc    bca\n",
       "37    38   c_sanyal   22    82     85     89       st  btech\n",
       "38    39        a_p   22    77     72     79       st  barch\n",
       "39    40        s_k   22    67     67     76       gc    bhm\n",
       "40    41      p_das   22    89     89     69       st    bhm\n",
       "41    42     b_dash   21    54     55     38       sc    bba\n",
       "42    43    g_gupta   24    64     64     65       gc    mba\n",
       "43    44   g_sharma   19    71     60     77       gc    mba\n",
       "44    45      k_das   19    70     70     70       gc    mba\n",
       "45    46     k_bose   17    83     83     83    obc_b    mba\n",
       "46    47   j_ansari   17    93     88     89    obc_a    bba\n",
       "47    48    f_mitra   15    67     67     61       sc    mba\n",
       "48    49        s_g   21    44     49     50       gc    mba\n",
       "49    50    a_mitra   17    78     71     66       sc   mcom\n",
       "50    51   c_sharma   16    59     65     56       gc   mcom"
      ]
     },
     "execution_count": 11,
     "metadata": {},
     "output_type": "execute_result"
    }
   ],
   "source": [
    "dataset1.dropna(axis=1)"
   ]
  },
  {
   "cell_type": "code",
   "execution_count": 12,
   "metadata": {},
   "outputs": [],
   "source": [
    "course=dataset1['course']"
   ]
  },
  {
   "cell_type": "code",
   "execution_count": 13,
   "metadata": {},
   "outputs": [
    {
     "name": "stderr",
     "output_type": "stream",
     "text": [
      "C:\\Users\\souvik\\anaconda3\\envs\\tensorflow\\lib\\site-packages\\seaborn\\_decorators.py:43: FutureWarning: Pass the following variable as a keyword arg: x. From version 0.12, the only valid positional argument will be `data`, and passing other arguments without an explicit keyword will result in an error or misinterpretation.\n",
      "  FutureWarning\n"
     ]
    },
    {
     "data": {
      "text/plain": [
       "<AxesSubplot:xlabel='course', ylabel='count'>"
      ]
     },
     "execution_count": 13,
     "metadata": {},
     "output_type": "execute_result"
    },
    {
     "data": {
      "image/png": "[encoded data removed]",
      "text/plain": [
       "<Figure size 432x288 with 1 Axes>"
      ]
     },
     "metadata": {
      "needs_background": "light"
     },
     "output_type": "display_data"
    }
   ],
   "source": [
    "import seaborn as sns\n",
    "sns.countplot(course)"
   ]
  },
  {
   "cell_type": "code",
   "execution_count": 14,
   "metadata": {},
   "outputs": [
    {
     "name": "stderr",
     "output_type": "stream",
     "text": [
      "C:\\Users\\souvik\\anaconda3\\envs\\tensorflow\\lib\\site-packages\\seaborn\\_decorators.py:43: FutureWarning: Pass the following variable as a keyword arg: x. From version 0.12, the only valid positional argument will be `data`, and passing other arguments without an explicit keyword will result in an error or misinterpretation.\n",
      "  FutureWarning\n"
     ]
    },
    {
     "data": {
      "text/plain": [
       "<AxesSubplot:xlabel='category', ylabel='count'>"
      ]
     },
     "execution_count": 14,
     "metadata": {},
     "output_type": "execute_result"
    },
    {
     "data": {
      "image/png": "[encoded data removed]",
      "text/plain": [
       "<Figure size 432x288 with 1 Axes>"
      ]
     },
     "metadata": {
      "needs_background": "light"
     },
     "output_type": "display_data"
    }
   ],
   "source": [
    "sns.countplot(dataset1['category'])"
   ]
  },
  {
   "cell_type": "code",
   "execution_count": 15,
   "metadata": {},
   "outputs": [
    {
     "name": "stderr",
     "output_type": "stream",
     "text": [
      "C:\\Users\\souvik\\anaconda3\\envs\\tensorflow\\lib\\site-packages\\seaborn\\_decorators.py:43: FutureWarning: Pass the following variable as a keyword arg: x. From version 0.12, the only valid positional argument will be `data`, and passing other arguments without an explicit keyword will result in an error or misinterpretation.\n",
      "  FutureWarning\n"
     ]
    },
    {
     "data": {
      "text/plain": [
       "<AxesSubplot:xlabel='sc_%', ylabel='count'>"
      ]
     },
     "execution_count": 15,
     "metadata": {},
     "output_type": "execute_result"
    },
    {
     "data": {
      "image/png": "[encoded data removed]",
      "text/plain": [
       "<Figure size 1080x720 with 1 Axes>"
      ]
     },
     "metadata": {
      "needs_background": "light"
     },
     "output_type": "display_data"
    }
   ],
   "source": [
    "import matplotlib.pyplot as plt\n",
    "plt.figure(figsize=(15,10))\n",
    "sns.countplot(dataset1['sc_%'])"
   ]
  },
  {
   "cell_type": "code",
   "execution_count": 16,
   "metadata": {},
   "outputs": [
    {
     "name": "stderr",
     "output_type": "stream",
     "text": [
      "C:\\Users\\souvik\\anaconda3\\envs\\tensorflow\\lib\\site-packages\\seaborn\\_decorators.py:43: FutureWarning: Pass the following variable as a keyword arg: x. From version 0.12, the only valid positional argument will be `data`, and passing other arguments without an explicit keyword will result in an error or misinterpretation.\n",
      "  FutureWarning\n"
     ]
    },
    {
     "data": {
      "text/plain": [
       "<AxesSubplot:xlabel='hsc_%', ylabel='count'>"
      ]
     },
     "execution_count": 16,
     "metadata": {},
     "output_type": "execute_result"
    },
    {
     "data": {
      "image/png": "[encoded data removed]",
      "text/plain": [
       "<Figure size 1080x720 with 1 Axes>"
      ]
     },
     "metadata": {
      "needs_background": "light"
     },
     "output_type": "display_data"
    }
   ],
   "source": [
    "plt.figure(figsize=(15,10))\n",
    "sns.countplot(dataset1['hsc_%'])"
   ]
  },
  {
   "cell_type": "code",
   "execution_count": 17,
   "metadata": {},
   "outputs": [
    {
     "name": "stderr",
     "output_type": "stream",
     "text": [
      "C:\\Users\\souvik\\anaconda3\\envs\\tensorflow\\lib\\site-packages\\seaborn\\_decorators.py:43: FutureWarning: Pass the following variable as a keyword arg: x. From version 0.12, the only valid positional argument will be `data`, and passing other arguments without an explicit keyword will result in an error or misinterpretation.\n",
      "  FutureWarning\n"
     ]
    },
    {
     "data": {
      "text/plain": [
       "<AxesSubplot:xlabel='ent_%', ylabel='count'>"
      ]
     },
     "execution_count": 17,
     "metadata": {},
     "output_type": "execute_result"
    },
    {
     "data": {
      "image/png": "[encoded data removed]",
      "text/plain": [
       "<Figure size 1080x720 with 1 Axes>"
      ]
     },
     "metadata": {
      "needs_background": "light"
     },
     "output_type": "display_data"
    }
   ],
   "source": [
    "plt.figure(figsize=(15,10))\n",
    "sns.countplot(dataset1['ent_%'])"
   ]
  },
  {
   "cell_type": "code",
   "execution_count": 18,
   "metadata": {},
   "outputs": [
    {
     "data": {
      "text/plain": [
       "<AxesSubplot:xlabel='secondary exam marks percentage', ylabel='course'>"
      ]
     },
     "execution_count": 18,
     "metadata": {},
     "output_type": "execute_result"
    },
    {
     "data": {
      "image/png": "[encoded data removed]",
      "text/plain": [
       "<Figure size 1080x720 with 1 Axes>"
      ]
     },
     "metadata": {
      "needs_background": "light"
     },
     "output_type": "display_data"
    }
   ],
   "source": [
    "plt.figure(figsize=(15,10))\n",
    "plt.xlabel(\"secondary exam marks percentage\")\n",
    "plt.ylabel(\"course\")\n",
    "sns.scatterplot(x='sc_%', y='course',hue='category',data=dataset1)"
   ]
  },
  {
   "cell_type": "code",
   "execution_count": 19,
   "metadata": {},
   "outputs": [
    {
     "data": {
      "text/plain": [
       "<AxesSubplot:xlabel='higher secondary exam marks percentage', ylabel='course'>"
      ]
     },
     "execution_count": 19,
     "metadata": {},
     "output_type": "execute_result"
    },
    {
     "data": {
      "image/png": "[encoded data removed]",
      "text/plain": [
       "<Figure size 1080x720 with 1 Axes>"
      ]
     },
     "metadata": {
      "needs_background": "light"
     },
     "output_type": "display_data"
    }
   ],
   "source": [
    "plt.figure(figsize=(15,10))\n",
    "plt.xlabel(\"higher secondary exam marks percentage\")\n",
    "plt.ylabel(\"course\")\n",
    "sns.scatterplot(x='hsc_%', y='course',hue='category',data=dataset1)"
   ]
  },
  {
   "cell_type": "code",
   "execution_count": 20,
   "metadata": {},
   "outputs": [
    {
     "data": {
      "text/plain": [
       "<AxesSubplot:xlabel='entrance exam marks percentage', ylabel='course'>"
      ]
     },
     "execution_count": 20,
     "metadata": {},
     "output_type": "execute_result"
    },
    {
     "data": {
      "image/png": "[encoded data removed]",
      "text/plain": [
       "<Figure size 1080x720 with 1 Axes>"
      ]
     },
     "metadata": {
      "needs_background": "light"
     },
     "output_type": "display_data"
    }
   ],
   "source": [
    "plt.figure(figsize=(15,10))\n",
    "plt.xlabel(\"entrance exam marks percentage\")\n",
    "plt.ylabel(\"course\")\n",
    "sns.scatterplot(x='ent_%', y='course',hue='category',data=dataset1)"
   ]
  },
  {
   "cell_type": "code",
   "execution_count": 21,
   "metadata": {},
   "outputs": [
    {
     "data": {
      "text/plain": [
       "Text(0, 0.5, 'secondary exam marks')"
      ]
     },
     "execution_count": 21,
     "metadata": {},
     "output_type": "execute_result"
    },
    {
     "data": {
      "text/plain": [
       "<Figure size 1080x720 with 0 Axes>"
      ]
     },
     "metadata": {},
     "output_type": "display_data"
    },
    {
     "data": {
      "image/png": "[encoded data removed]",
      "text/plain": [
       "<Figure size 432x288 with 1 Axes>"
      ]
     },
     "metadata": {
      "needs_background": "light"
     },
     "output_type": "display_data"
    }
   ],
   "source": [
    "import numpy as np\n",
    "pivot1=\\\n",
    "dataset1.pivot_table(index='category',values='sc_%',aggfunc=np.mean)\n",
    "plt.figure(figsize=(15,10))\n",
    "pivot1.plot(kind='bar',color='yellow')\n",
    "plt.xlabel(\"category\")\n",
    "plt.ylabel(\"secondary exam marks\")"
   ]
  },
  {
   "cell_type": "code",
   "execution_count": 22,
   "metadata": {},
   "outputs": [
    {
     "data": {
      "text/plain": [
       "Text(0, 0.5, 'higher secondary exam marks')"
      ]
     },
     "execution_count": 22,
     "metadata": {},
     "output_type": "execute_result"
    },
    {
     "data": {
      "text/plain": [
       "<Figure size 1080x720 with 0 Axes>"
      ]
     },
     "metadata": {},
     "output_type": "display_data"
    },
    {
     "data": {
      "image/png": "[encoded data removed]",
      "text/plain": [
       "<Figure size 432x288 with 1 Axes>"
      ]
     },
     "metadata": {
      "needs_background": "light"
     },
     "output_type": "display_data"
    }
   ],
   "source": [
    "pivot2=\\\n",
    "dataset1.pivot_table(index='category',values='hsc_%',aggfunc=np.mean)\n",
    "plt.figure(figsize=(15,10))\n",
    "pivot2.plot(kind='bar',color='red')\n",
    "plt.xlabel(\"category\")\n",
    "plt.ylabel(\"higher secondary exam marks\")"
   ]
  },
  {
   "cell_type": "code",
   "execution_count": 23,
   "metadata": {},
   "outputs": [
    {
     "data": {
      "text/plain": [
       "Text(0, 0.5, 'entrance exam marks')"
      ]
     },
     "execution_count": 23,
     "metadata": {},
     "output_type": "execute_result"
    },
    {
     "data": {
      "text/plain": [
       "<Figure size 1080x720 with 0 Axes>"
      ]
     },
     "metadata": {},
     "output_type": "display_data"
    },
    {
     "data": {
      "image/png": "[encoded data removed]",
      "text/plain": [
       "<Figure size 432x288 with 1 Axes>"
      ]
     },
     "metadata": {
      "needs_background": "light"
     },
     "output_type": "display_data"
    }
   ],
   "source": [
    "pivot3=\\\n",
    "dataset1.pivot_table(index='category',values='ent_%',aggfunc=np.mean)\n",
    "plt.figure(figsize=(15,10))\n",
    "pivot3.plot(kind='bar',color='yellow')\n",
    "plt.xlabel(\"category\")\n",
    "plt.ylabel(\"entrance exam marks\")"
   ]
  },
  {
   "cell_type": "code",
   "execution_count": 24,
   "metadata": {},
   "outputs": [
    {
     "data": {
      "text/plain": [
       "<seaborn.axisgrid.PairGrid at 0x2482fcc6908>"
      ]
     },
     "execution_count": 24,
     "metadata": {},
     "output_type": "execute_result"
    },
    {
     "data": {
      "image/png": "[encoded data removed]",
      "text/plain": [
       "<Figure size 900x900 with 30 Axes>"
      ]
     },
     "metadata": {
      "needs_background": "light"
     },
     "output_type": "display_data"
    }
   ],
   "source": [
    "sns.pairplot(dataset1)"
   ]
  },
  {
   "cell_type": "code",
   "execution_count": 25,
   "metadata": {},
   "outputs": [
    {
     "data": {
      "text/html": [
       "<div>\n",
       "<style scoped>\n",
       "    .dataframe tbody tr th:only-of-type {\n",
       "        vertical-align: middle;\n",
       "    }\n",
       "\n",
       "    .dataframe tbody tr th {\n",
       "        vertical-align: top;\n",
       "    }\n",
       "\n",
       "    .dataframe thead th {\n",
       "        text-align: right;\n",
       "    }\n",
       "</style>\n",
       "<table border=\"1\" class=\"dataframe\">\n",
       "  <thead>\n",
       "    <tr style=\"text-align: right;\">\n",
       "      <th></th>\n",
       "      <th>s_id</th>\n",
       "      <th>age</th>\n",
       "      <th>sc_%</th>\n",
       "      <th>hsc_%</th>\n",
       "      <th>ent_%</th>\n",
       "    </tr>\n",
       "  </thead>\n",
       "  <tbody>\n",
       "    <tr>\n",
       "      <th>s_id</th>\n",
       "      <td>1.000000</td>\n",
       "      <td>-0.190813</td>\n",
       "      <td>0.114508</td>\n",
       "      <td>0.051039</td>\n",
       "      <td>0.187697</td>\n",
       "    </tr>\n",
       "    <tr>\n",
       "      <th>age</th>\n",
       "      <td>-0.190813</td>\n",
       "      <td>1.000000</td>\n",
       "      <td>-0.079396</td>\n",
       "      <td>-0.125091</td>\n",
       "      <td>-0.312126</td>\n",
       "    </tr>\n",
       "    <tr>\n",
       "      <th>sc_%</th>\n",
       "      <td>0.114508</td>\n",
       "      <td>-0.079396</td>\n",
       "      <td>1.000000</td>\n",
       "      <td>0.684195</td>\n",
       "      <td>0.448664</td>\n",
       "    </tr>\n",
       "    <tr>\n",
       "      <th>hsc_%</th>\n",
       "      <td>0.051039</td>\n",
       "      <td>-0.125091</td>\n",
       "      <td>0.684195</td>\n",
       "      <td>1.000000</td>\n",
       "      <td>0.529201</td>\n",
       "    </tr>\n",
       "    <tr>\n",
       "      <th>ent_%</th>\n",
       "      <td>0.187697</td>\n",
       "      <td>-0.312126</td>\n",
       "      <td>0.448664</td>\n",
       "      <td>0.529201</td>\n",
       "      <td>1.000000</td>\n",
       "    </tr>\n",
       "  </tbody>\n",
       "</table>\n",
       "</div>"
      ],
      "text/plain": [
       "           s_id       age      sc_%     hsc_%     ent_%\n",
       "s_id   1.000000 -0.190813  0.114508  0.051039  0.187697\n",
       "age   -0.190813  1.000000 -0.079396 -0.125091 -0.312126\n",
       "sc_%   0.114508 -0.079396  1.000000  0.684195  0.448664\n",
       "hsc_%  0.051039 -0.125091  0.684195  1.000000  0.529201\n",
       "ent_%  0.187697 -0.312126  0.448664  0.529201  1.000000"
      ]
     },
     "execution_count": 25,
     "metadata": {},
     "output_type": "execute_result"
    }
   ],
   "source": [
    "dataset1.corr()"
   ]
  },
  {
   "cell_type": "code",
   "execution_count": 26,
   "metadata": {},
   "outputs": [
    {
     "data": {
      "text/plain": [
       "<AxesSubplot:>"
      ]
     },
     "execution_count": 26,
     "metadata": {},
     "output_type": "execute_result"
    },
    {
     "data": {
      "image/png": "[encoded data removed]",
      "text/plain": [
       "<Figure size 1080x720 with 2 Axes>"
      ]
     },
     "metadata": {
      "needs_background": "light"
     },
     "output_type": "display_data"
    }
   ],
   "source": [
    "plt.figure(figsize=(15,10))\n",
    "sns.heatmap(dataset1.corr(),annot=True,fmt='.0%')"
   ]
  },
  {
   "cell_type": "code",
   "execution_count": 27,
   "metadata": {},
   "outputs": [
    {
     "data": {
      "text/plain": [
       "0      True\n",
       "1      True\n",
       "2      True\n",
       "3      True\n",
       "4      True\n",
       "5     False\n",
       "6      True\n",
       "7     False\n",
       "8     False\n",
       "9      True\n",
       "10     True\n",
       "11    False\n",
       "12    False\n",
       "13     True\n",
       "14     True\n",
       "15     True\n",
       "16     True\n",
       "17    False\n",
       "18     True\n",
       "19     True\n",
       "20     True\n",
       "21     True\n",
       "22     True\n",
       "23     True\n",
       "24     True\n",
       "25     True\n",
       "26     True\n",
       "27    False\n",
       "28     True\n",
       "29     True\n",
       "30     True\n",
       "31     True\n",
       "32     True\n",
       "33     True\n",
       "34     True\n",
       "35    False\n",
       "36    False\n",
       "37     True\n",
       "38     True\n",
       "39     True\n",
       "40     True\n",
       "41    False\n",
       "42     True\n",
       "43     True\n",
       "44     True\n",
       "45     True\n",
       "46     True\n",
       "47     True\n",
       "48    False\n",
       "49     True\n",
       "50    False\n",
       "Name: sc_%, dtype: bool"
      ]
     },
     "execution_count": 27,
     "metadata": {},
     "output_type": "execute_result"
    }
   ],
   "source": [
    "marks_filter1=dataset1['sc_%']>60\n",
    "marks_filter1"
   ]
  },
  {
   "cell_type": "code",
   "execution_count": 28,
   "metadata": {},
   "outputs": [
    {
     "data": {
      "text/html": [
       "<div>\n",
       "<style scoped>\n",
       "    .dataframe tbody tr th:only-of-type {\n",
       "        vertical-align: middle;\n",
       "    }\n",
       "\n",
       "    .dataframe tbody tr th {\n",
       "        vertical-align: top;\n",
       "    }\n",
       "\n",
       "    .dataframe thead th {\n",
       "        text-align: right;\n",
       "    }\n",
       "</style>\n",
       "<table border=\"1\" class=\"dataframe\">\n",
       "  <thead>\n",
       "    <tr style=\"text-align: right;\">\n",
       "      <th></th>\n",
       "      <th>s_id</th>\n",
       "      <th>s_name</th>\n",
       "      <th>age</th>\n",
       "      <th>sc_%</th>\n",
       "      <th>hsc_%</th>\n",
       "      <th>ent_%</th>\n",
       "      <th>category</th>\n",
       "      <th>course</th>\n",
       "    </tr>\n",
       "  </thead>\n",
       "  <tbody>\n",
       "    <tr>\n",
       "      <th>0</th>\n",
       "      <td>1</td>\n",
       "      <td>s_kumar</td>\n",
       "      <td>19</td>\n",
       "      <td>73</td>\n",
       "      <td>64</td>\n",
       "      <td>32</td>\n",
       "      <td>gc</td>\n",
       "      <td>btech</td>\n",
       "    </tr>\n",
       "    <tr>\n",
       "      <th>1</th>\n",
       "      <td>2</td>\n",
       "      <td>p_das</td>\n",
       "      <td>21</td>\n",
       "      <td>61</td>\n",
       "      <td>61</td>\n",
       "      <td>55</td>\n",
       "      <td>gc</td>\n",
       "      <td>btech</td>\n",
       "    </tr>\n",
       "    <tr>\n",
       "      <th>2</th>\n",
       "      <td>3</td>\n",
       "      <td>c_kumar</td>\n",
       "      <td>21</td>\n",
       "      <td>61</td>\n",
       "      <td>73</td>\n",
       "      <td>71</td>\n",
       "      <td>sc</td>\n",
       "      <td>btech</td>\n",
       "    </tr>\n",
       "    <tr>\n",
       "      <th>3</th>\n",
       "      <td>4</td>\n",
       "      <td>s_bose</td>\n",
       "      <td>18</td>\n",
       "      <td>84</td>\n",
       "      <td>84</td>\n",
       "      <td>89</td>\n",
       "      <td>st</td>\n",
       "      <td>bca</td>\n",
       "    </tr>\n",
       "    <tr>\n",
       "      <th>4</th>\n",
       "      <td>5</td>\n",
       "      <td>p_das</td>\n",
       "      <td>23</td>\n",
       "      <td>92</td>\n",
       "      <td>67</td>\n",
       "      <td>53</td>\n",
       "      <td>gc</td>\n",
       "      <td>bca</td>\n",
       "    </tr>\n",
       "  </tbody>\n",
       "</table>\n",
       "</div>"
      ],
      "text/plain": [
       "   s_id   s_name  age  sc_%  hsc_%  ent_% category course\n",
       "0     1  s_kumar   19    73     64     32       gc  btech\n",
       "1     2    p_das   21    61     61     55       gc  btech\n",
       "2     3  c_kumar   21    61     73     71       sc  btech\n",
       "3     4   s_bose   18    84     84     89       st    bca\n",
       "4     5    p_das   23    92     67     53       gc    bca"
      ]
     },
     "execution_count": 28,
     "metadata": {},
     "output_type": "execute_result"
    }
   ],
   "source": [
    "filtered_reviews1=dataset1[marks_filter1]\n",
    "filtered_reviews1.head()"
   ]
  },
  {
   "cell_type": "code",
   "execution_count": 29,
   "metadata": {},
   "outputs": [
    {
     "data": {
      "text/plain": [
       "0      True\n",
       "1      True\n",
       "2      True\n",
       "3      True\n",
       "4      True\n",
       "5     False\n",
       "6      True\n",
       "7     False\n",
       "8     False\n",
       "9      True\n",
       "10     True\n",
       "11     True\n",
       "12     True\n",
       "13     True\n",
       "14     True\n",
       "15     True\n",
       "16     True\n",
       "17    False\n",
       "18     True\n",
       "19     True\n",
       "20     True\n",
       "21     True\n",
       "22     True\n",
       "23     True\n",
       "24     True\n",
       "25     True\n",
       "26     True\n",
       "27     True\n",
       "28    False\n",
       "29    False\n",
       "30     True\n",
       "31     True\n",
       "32     True\n",
       "33     True\n",
       "34     True\n",
       "35    False\n",
       "36    False\n",
       "37     True\n",
       "38     True\n",
       "39     True\n",
       "40     True\n",
       "41    False\n",
       "42     True\n",
       "43    False\n",
       "44     True\n",
       "45     True\n",
       "46     True\n",
       "47     True\n",
       "48    False\n",
       "49     True\n",
       "50     True\n",
       "Name: hsc_%, dtype: bool"
      ]
     },
     "execution_count": 29,
     "metadata": {},
     "output_type": "execute_result"
    }
   ],
   "source": [
    "marks_filter2=dataset1['hsc_%']>60\n",
    "marks_filter2"
   ]
  },
  {
   "cell_type": "code",
   "execution_count": 30,
   "metadata": {},
   "outputs": [
    {
     "data": {
      "text/html": [
       "<div>\n",
       "<style scoped>\n",
       "    .dataframe tbody tr th:only-of-type {\n",
       "        vertical-align: middle;\n",
       "    }\n",
       "\n",
       "    .dataframe tbody tr th {\n",
       "        vertical-align: top;\n",
       "    }\n",
       "\n",
       "    .dataframe thead th {\n",
       "        text-align: right;\n",
       "    }\n",
       "</style>\n",
       "<table border=\"1\" class=\"dataframe\">\n",
       "  <thead>\n",
       "    <tr style=\"text-align: right;\">\n",
       "      <th></th>\n",
       "      <th>s_id</th>\n",
       "      <th>s_name</th>\n",
       "      <th>age</th>\n",
       "      <th>sc_%</th>\n",
       "      <th>hsc_%</th>\n",
       "      <th>ent_%</th>\n",
       "      <th>category</th>\n",
       "      <th>course</th>\n",
       "    </tr>\n",
       "  </thead>\n",
       "  <tbody>\n",
       "    <tr>\n",
       "      <th>0</th>\n",
       "      <td>1</td>\n",
       "      <td>s_kumar</td>\n",
       "      <td>19</td>\n",
       "      <td>73</td>\n",
       "      <td>64</td>\n",
       "      <td>32</td>\n",
       "      <td>gc</td>\n",
       "      <td>btech</td>\n",
       "    </tr>\n",
       "    <tr>\n",
       "      <th>1</th>\n",
       "      <td>2</td>\n",
       "      <td>p_das</td>\n",
       "      <td>21</td>\n",
       "      <td>61</td>\n",
       "      <td>61</td>\n",
       "      <td>55</td>\n",
       "      <td>gc</td>\n",
       "      <td>btech</td>\n",
       "    </tr>\n",
       "    <tr>\n",
       "      <th>2</th>\n",
       "      <td>3</td>\n",
       "      <td>c_kumar</td>\n",
       "      <td>21</td>\n",
       "      <td>61</td>\n",
       "      <td>73</td>\n",
       "      <td>71</td>\n",
       "      <td>sc</td>\n",
       "      <td>btech</td>\n",
       "    </tr>\n",
       "    <tr>\n",
       "      <th>3</th>\n",
       "      <td>4</td>\n",
       "      <td>s_bose</td>\n",
       "      <td>18</td>\n",
       "      <td>84</td>\n",
       "      <td>84</td>\n",
       "      <td>89</td>\n",
       "      <td>st</td>\n",
       "      <td>bca</td>\n",
       "    </tr>\n",
       "    <tr>\n",
       "      <th>4</th>\n",
       "      <td>5</td>\n",
       "      <td>p_das</td>\n",
       "      <td>23</td>\n",
       "      <td>92</td>\n",
       "      <td>67</td>\n",
       "      <td>53</td>\n",
       "      <td>gc</td>\n",
       "      <td>bca</td>\n",
       "    </tr>\n",
       "  </tbody>\n",
       "</table>\n",
       "</div>"
      ],
      "text/plain": [
       "   s_id   s_name  age  sc_%  hsc_%  ent_% category course\n",
       "0     1  s_kumar   19    73     64     32       gc  btech\n",
       "1     2    p_das   21    61     61     55       gc  btech\n",
       "2     3  c_kumar   21    61     73     71       sc  btech\n",
       "3     4   s_bose   18    84     84     89       st    bca\n",
       "4     5    p_das   23    92     67     53       gc    bca"
      ]
     },
     "execution_count": 30,
     "metadata": {},
     "output_type": "execute_result"
    }
   ],
   "source": [
    "filtered_reviews2=dataset1[marks_filter2]\n",
    "filtered_reviews2.head()"
   ]
  },
  {
   "cell_type": "code",
   "execution_count": 31,
   "metadata": {},
   "outputs": [
    {
     "data": {
      "text/plain": [
       "0     False\n",
       "1     False\n",
       "2      True\n",
       "3      True\n",
       "4     False\n",
       "5     False\n",
       "6     False\n",
       "7     False\n",
       "8     False\n",
       "9     False\n",
       "10    False\n",
       "11    False\n",
       "12     True\n",
       "13     True\n",
       "14    False\n",
       "15     True\n",
       "16    False\n",
       "17    False\n",
       "18     True\n",
       "19     True\n",
       "20     True\n",
       "21     True\n",
       "22     True\n",
       "23     True\n",
       "24    False\n",
       "25    False\n",
       "26    False\n",
       "27    False\n",
       "28    False\n",
       "29    False\n",
       "30     True\n",
       "31     True\n",
       "32     True\n",
       "33     True\n",
       "34     True\n",
       "35    False\n",
       "36    False\n",
       "37     True\n",
       "38     True\n",
       "39     True\n",
       "40     True\n",
       "41    False\n",
       "42     True\n",
       "43     True\n",
       "44     True\n",
       "45     True\n",
       "46     True\n",
       "47     True\n",
       "48    False\n",
       "49     True\n",
       "50    False\n",
       "Name: ent_%, dtype: bool"
      ]
     },
     "execution_count": 31,
     "metadata": {},
     "output_type": "execute_result"
    }
   ],
   "source": [
    "marks_filter3=dataset1['ent_%']>60\n",
    "marks_filter3"
   ]
  },
  {
   "cell_type": "code",
   "execution_count": 32,
   "metadata": {},
   "outputs": [
    {
     "data": {
      "text/html": [
       "<div>\n",
       "<style scoped>\n",
       "    .dataframe tbody tr th:only-of-type {\n",
       "        vertical-align: middle;\n",
       "    }\n",
       "\n",
       "    .dataframe tbody tr th {\n",
       "        vertical-align: top;\n",
       "    }\n",
       "\n",
       "    .dataframe thead th {\n",
       "        text-align: right;\n",
       "    }\n",
       "</style>\n",
       "<table border=\"1\" class=\"dataframe\">\n",
       "  <thead>\n",
       "    <tr style=\"text-align: right;\">\n",
       "      <th></th>\n",
       "      <th>s_id</th>\n",
       "      <th>s_name</th>\n",
       "      <th>age</th>\n",
       "      <th>sc_%</th>\n",
       "      <th>hsc_%</th>\n",
       "      <th>ent_%</th>\n",
       "      <th>category</th>\n",
       "      <th>course</th>\n",
       "    </tr>\n",
       "  </thead>\n",
       "  <tbody>\n",
       "    <tr>\n",
       "      <th>2</th>\n",
       "      <td>3</td>\n",
       "      <td>c_kumar</td>\n",
       "      <td>21</td>\n",
       "      <td>61</td>\n",
       "      <td>73</td>\n",
       "      <td>71</td>\n",
       "      <td>sc</td>\n",
       "      <td>btech</td>\n",
       "    </tr>\n",
       "    <tr>\n",
       "      <th>3</th>\n",
       "      <td>4</td>\n",
       "      <td>s_bose</td>\n",
       "      <td>18</td>\n",
       "      <td>84</td>\n",
       "      <td>84</td>\n",
       "      <td>89</td>\n",
       "      <td>st</td>\n",
       "      <td>bca</td>\n",
       "    </tr>\n",
       "    <tr>\n",
       "      <th>12</th>\n",
       "      <td>13</td>\n",
       "      <td>s_khatun</td>\n",
       "      <td>21</td>\n",
       "      <td>55</td>\n",
       "      <td>81</td>\n",
       "      <td>67</td>\n",
       "      <td>gc</td>\n",
       "      <td>bba</td>\n",
       "    </tr>\n",
       "    <tr>\n",
       "      <th>13</th>\n",
       "      <td>14</td>\n",
       "      <td>s_ansari</td>\n",
       "      <td>21</td>\n",
       "      <td>62</td>\n",
       "      <td>62</td>\n",
       "      <td>78</td>\n",
       "      <td>obc_b</td>\n",
       "      <td>bba</td>\n",
       "    </tr>\n",
       "    <tr>\n",
       "      <th>15</th>\n",
       "      <td>16</td>\n",
       "      <td>k_chatter</td>\n",
       "      <td>21</td>\n",
       "      <td>87</td>\n",
       "      <td>77</td>\n",
       "      <td>78</td>\n",
       "      <td>obc_b</td>\n",
       "      <td>bba</td>\n",
       "    </tr>\n",
       "  </tbody>\n",
       "</table>\n",
       "</div>"
      ],
      "text/plain": [
       "    s_id     s_name  age  sc_%  hsc_%  ent_% category course\n",
       "2      3    c_kumar   21    61     73     71       sc  btech\n",
       "3      4     s_bose   18    84     84     89       st    bca\n",
       "12    13   s_khatun   21    55     81     67       gc    bba\n",
       "13    14   s_ansari   21    62     62     78    obc_b    bba\n",
       "15    16  k_chatter   21    87     77     78    obc_b    bba"
      ]
     },
     "execution_count": 32,
     "metadata": {},
     "output_type": "execute_result"
    }
   ],
   "source": [
    "filtered_reviews3=dataset1[marks_filter3]\n",
    "filtered_reviews3.head()"
   ]
  },
  {
   "cell_type": "code",
   "execution_count": 33,
   "metadata": {},
   "outputs": [
    {
     "data": {
      "text/html": [
       "<div>\n",
       "<style scoped>\n",
       "    .dataframe tbody tr th:only-of-type {\n",
       "        vertical-align: middle;\n",
       "    }\n",
       "\n",
       "    .dataframe tbody tr th {\n",
       "        vertical-align: top;\n",
       "    }\n",
       "\n",
       "    .dataframe thead th {\n",
       "        text-align: right;\n",
       "    }\n",
       "</style>\n",
       "<table border=\"1\" class=\"dataframe\">\n",
       "  <thead>\n",
       "    <tr style=\"text-align: right;\">\n",
       "      <th></th>\n",
       "      <th>s_id</th>\n",
       "      <th>l_6_m</th>\n",
       "      <th>applicable</th>\n",
       "    </tr>\n",
       "  </thead>\n",
       "  <tbody>\n",
       "    <tr>\n",
       "      <th>0</th>\n",
       "      <td>1</td>\n",
       "      <td>200000</td>\n",
       "      <td>y</td>\n",
       "    </tr>\n",
       "    <tr>\n",
       "      <th>1</th>\n",
       "      <td>2</td>\n",
       "      <td>200000</td>\n",
       "      <td>y</td>\n",
       "    </tr>\n",
       "    <tr>\n",
       "      <th>2</th>\n",
       "      <td>3</td>\n",
       "      <td>25000</td>\n",
       "      <td>y</td>\n",
       "    </tr>\n",
       "    <tr>\n",
       "      <th>3</th>\n",
       "      <td>4</td>\n",
       "      <td>67000</td>\n",
       "      <td>n</td>\n",
       "    </tr>\n",
       "    <tr>\n",
       "      <th>4</th>\n",
       "      <td>5</td>\n",
       "      <td>6000</td>\n",
       "      <td>n</td>\n",
       "    </tr>\n",
       "  </tbody>\n",
       "</table>\n",
       "</div>"
      ],
      "text/plain": [
       "   s_id   l_6_m applicable\n",
       "0     1  200000          y\n",
       "1     2  200000          y\n",
       "2     3   25000          y\n",
       "3     4   67000          n\n",
       "4     5    6000          n"
      ]
     },
     "execution_count": 33,
     "metadata": {},
     "output_type": "execute_result"
    }
   ],
   "source": [
    "dataset2=pd.read_csv('transactions.csv')\n",
    "dataset2.head()"
   ]
  },
  {
   "cell_type": "code",
   "execution_count": 34,
   "metadata": {},
   "outputs": [
    {
     "data": {
      "text/plain": [
       "(51, 3)"
      ]
     },
     "execution_count": 34,
     "metadata": {},
     "output_type": "execute_result"
    }
   ],
   "source": [
    "dataset2.shape"
   ]
  },
  {
   "cell_type": "code",
   "execution_count": 35,
   "metadata": {},
   "outputs": [
    {
     "data": {
      "text/plain": [
       "s_id          0\n",
       "l_6_m         0\n",
       "applicable    0\n",
       "dtype: int64"
      ]
     },
     "execution_count": 35,
     "metadata": {},
     "output_type": "execute_result"
    }
   ],
   "source": [
    "dataset2.isnull().sum()"
   ]
  },
  {
   "cell_type": "code",
   "execution_count": 36,
   "metadata": {},
   "outputs": [],
   "source": [
    "dataset2.drop('s_id',axis=1,inplace=True)"
   ]
  },
  {
   "cell_type": "code",
   "execution_count": 37,
   "metadata": {},
   "outputs": [
    {
     "data": {
      "text/html": [
       "<div>\n",
       "<style scoped>\n",
       "    .dataframe tbody tr th:only-of-type {\n",
       "        vertical-align: middle;\n",
       "    }\n",
       "\n",
       "    .dataframe tbody tr th {\n",
       "        vertical-align: top;\n",
       "    }\n",
       "\n",
       "    .dataframe thead th {\n",
       "        text-align: right;\n",
       "    }\n",
       "</style>\n",
       "<table border=\"1\" class=\"dataframe\">\n",
       "  <thead>\n",
       "    <tr style=\"text-align: right;\">\n",
       "      <th></th>\n",
       "      <th>l_6_m</th>\n",
       "      <th>applicable</th>\n",
       "    </tr>\n",
       "  </thead>\n",
       "  <tbody>\n",
       "    <tr>\n",
       "      <th>0</th>\n",
       "      <td>200000</td>\n",
       "      <td>y</td>\n",
       "    </tr>\n",
       "    <tr>\n",
       "      <th>1</th>\n",
       "      <td>200000</td>\n",
       "      <td>y</td>\n",
       "    </tr>\n",
       "    <tr>\n",
       "      <th>2</th>\n",
       "      <td>25000</td>\n",
       "      <td>y</td>\n",
       "    </tr>\n",
       "    <tr>\n",
       "      <th>3</th>\n",
       "      <td>67000</td>\n",
       "      <td>n</td>\n",
       "    </tr>\n",
       "    <tr>\n",
       "      <th>4</th>\n",
       "      <td>6000</td>\n",
       "      <td>n</td>\n",
       "    </tr>\n",
       "  </tbody>\n",
       "</table>\n",
       "</div>"
      ],
      "text/plain": [
       "    l_6_m applicable\n",
       "0  200000          y\n",
       "1  200000          y\n",
       "2   25000          y\n",
       "3   67000          n\n",
       "4    6000          n"
      ]
     },
     "execution_count": 37,
     "metadata": {},
     "output_type": "execute_result"
    }
   ],
   "source": [
    "dataset2.head()"
   ]
  },
  {
   "cell_type": "code",
   "execution_count": 38,
   "metadata": {},
   "outputs": [
    {
     "data": {
      "text/html": [
       "<div>\n",
       "<style scoped>\n",
       "    .dataframe tbody tr th:only-of-type {\n",
       "        vertical-align: middle;\n",
       "    }\n",
       "\n",
       "    .dataframe tbody tr th {\n",
       "        vertical-align: top;\n",
       "    }\n",
       "\n",
       "    .dataframe thead th {\n",
       "        text-align: right;\n",
       "    }\n",
       "</style>\n",
       "<table border=\"1\" class=\"dataframe\">\n",
       "  <thead>\n",
       "    <tr style=\"text-align: right;\">\n",
       "      <th></th>\n",
       "      <th>s_id</th>\n",
       "      <th>s_name</th>\n",
       "      <th>age</th>\n",
       "      <th>sc_%</th>\n",
       "      <th>hsc_%</th>\n",
       "      <th>ent_%</th>\n",
       "      <th>category</th>\n",
       "      <th>course</th>\n",
       "      <th>l_6_m</th>\n",
       "      <th>applicable</th>\n",
       "    </tr>\n",
       "  </thead>\n",
       "  <tbody>\n",
       "    <tr>\n",
       "      <th>0</th>\n",
       "      <td>1</td>\n",
       "      <td>s_kumar</td>\n",
       "      <td>19</td>\n",
       "      <td>73</td>\n",
       "      <td>64</td>\n",
       "      <td>32</td>\n",
       "      <td>gc</td>\n",
       "      <td>btech</td>\n",
       "      <td>200000</td>\n",
       "      <td>y</td>\n",
       "    </tr>\n",
       "    <tr>\n",
       "      <th>1</th>\n",
       "      <td>2</td>\n",
       "      <td>p_das</td>\n",
       "      <td>21</td>\n",
       "      <td>61</td>\n",
       "      <td>61</td>\n",
       "      <td>55</td>\n",
       "      <td>gc</td>\n",
       "      <td>btech</td>\n",
       "      <td>200000</td>\n",
       "      <td>y</td>\n",
       "    </tr>\n",
       "    <tr>\n",
       "      <th>2</th>\n",
       "      <td>3</td>\n",
       "      <td>c_kumar</td>\n",
       "      <td>21</td>\n",
       "      <td>61</td>\n",
       "      <td>73</td>\n",
       "      <td>71</td>\n",
       "      <td>sc</td>\n",
       "      <td>btech</td>\n",
       "      <td>25000</td>\n",
       "      <td>y</td>\n",
       "    </tr>\n",
       "    <tr>\n",
       "      <th>3</th>\n",
       "      <td>4</td>\n",
       "      <td>s_bose</td>\n",
       "      <td>18</td>\n",
       "      <td>84</td>\n",
       "      <td>84</td>\n",
       "      <td>89</td>\n",
       "      <td>st</td>\n",
       "      <td>bca</td>\n",
       "      <td>67000</td>\n",
       "      <td>n</td>\n",
       "    </tr>\n",
       "    <tr>\n",
       "      <th>4</th>\n",
       "      <td>5</td>\n",
       "      <td>p_das</td>\n",
       "      <td>23</td>\n",
       "      <td>92</td>\n",
       "      <td>67</td>\n",
       "      <td>53</td>\n",
       "      <td>gc</td>\n",
       "      <td>bca</td>\n",
       "      <td>6000</td>\n",
       "      <td>n</td>\n",
       "    </tr>\n",
       "  </tbody>\n",
       "</table>\n",
       "</div>"
      ],
      "text/plain": [
       "   s_id   s_name  age  sc_%  hsc_%  ent_% category course   l_6_m applicable\n",
       "0     1  s_kumar   19    73     64     32       gc  btech  200000          y\n",
       "1     2    p_das   21    61     61     55       gc  btech  200000          y\n",
       "2     3  c_kumar   21    61     73     71       sc  btech   25000          y\n",
       "3     4   s_bose   18    84     84     89       st    bca   67000          n\n",
       "4     5    p_das   23    92     67     53       gc    bca    6000          n"
      ]
     },
     "execution_count": 38,
     "metadata": {},
     "output_type": "execute_result"
    }
   ],
   "source": [
    "dataset3=pd.concat([dataset1,dataset2],axis=1)\n",
    "dataset3.head()"
   ]
  },
  {
   "cell_type": "code",
   "execution_count": 39,
   "metadata": {},
   "outputs": [
    {
     "data": {
      "text/html": [
       "<div>\n",
       "<style scoped>\n",
       "    .dataframe tbody tr th:only-of-type {\n",
       "        vertical-align: middle;\n",
       "    }\n",
       "\n",
       "    .dataframe tbody tr th {\n",
       "        vertical-align: top;\n",
       "    }\n",
       "\n",
       "    .dataframe thead th {\n",
       "        text-align: right;\n",
       "    }\n",
       "</style>\n",
       "<table border=\"1\" class=\"dataframe\">\n",
       "  <thead>\n",
       "    <tr style=\"text-align: right;\">\n",
       "      <th></th>\n",
       "      <th>s_id</th>\n",
       "      <th>s_name</th>\n",
       "      <th>age</th>\n",
       "      <th>sc_%</th>\n",
       "      <th>hsc_%</th>\n",
       "      <th>ent_%</th>\n",
       "      <th>category</th>\n",
       "      <th>course</th>\n",
       "      <th>l_6_m</th>\n",
       "      <th>applicable</th>\n",
       "    </tr>\n",
       "  </thead>\n",
       "  <tbody>\n",
       "    <tr>\n",
       "      <th>46</th>\n",
       "      <td>47</td>\n",
       "      <td>j_ansari</td>\n",
       "      <td>17</td>\n",
       "      <td>93</td>\n",
       "      <td>88</td>\n",
       "      <td>89</td>\n",
       "      <td>obc_a</td>\n",
       "      <td>bba</td>\n",
       "      <td>6700</td>\n",
       "      <td>n</td>\n",
       "    </tr>\n",
       "    <tr>\n",
       "      <th>47</th>\n",
       "      <td>48</td>\n",
       "      <td>f_mitra</td>\n",
       "      <td>15</td>\n",
       "      <td>67</td>\n",
       "      <td>67</td>\n",
       "      <td>61</td>\n",
       "      <td>sc</td>\n",
       "      <td>mba</td>\n",
       "      <td>65221</td>\n",
       "      <td>y</td>\n",
       "    </tr>\n",
       "    <tr>\n",
       "      <th>48</th>\n",
       "      <td>49</td>\n",
       "      <td>s_g</td>\n",
       "      <td>21</td>\n",
       "      <td>44</td>\n",
       "      <td>49</td>\n",
       "      <td>50</td>\n",
       "      <td>gc</td>\n",
       "      <td>mba</td>\n",
       "      <td>5691</td>\n",
       "      <td>n</td>\n",
       "    </tr>\n",
       "    <tr>\n",
       "      <th>49</th>\n",
       "      <td>50</td>\n",
       "      <td>a_mitra</td>\n",
       "      <td>17</td>\n",
       "      <td>78</td>\n",
       "      <td>71</td>\n",
       "      <td>66</td>\n",
       "      <td>sc</td>\n",
       "      <td>mcom</td>\n",
       "      <td>7800</td>\n",
       "      <td>y</td>\n",
       "    </tr>\n",
       "    <tr>\n",
       "      <th>50</th>\n",
       "      <td>51</td>\n",
       "      <td>c_sharma</td>\n",
       "      <td>16</td>\n",
       "      <td>59</td>\n",
       "      <td>65</td>\n",
       "      <td>56</td>\n",
       "      <td>gc</td>\n",
       "      <td>mcom</td>\n",
       "      <td>3750</td>\n",
       "      <td>n</td>\n",
       "    </tr>\n",
       "  </tbody>\n",
       "</table>\n",
       "</div>"
      ],
      "text/plain": [
       "    s_id    s_name  age  sc_%  hsc_%  ent_% category course  l_6_m applicable\n",
       "46    47  j_ansari   17    93     88     89    obc_a    bba   6700          n\n",
       "47    48   f_mitra   15    67     67     61       sc    mba  65221          y\n",
       "48    49       s_g   21    44     49     50       gc    mba   5691          n\n",
       "49    50   a_mitra   17    78     71     66       sc   mcom   7800          y\n",
       "50    51  c_sharma   16    59     65     56       gc   mcom   3750          n"
      ]
     },
     "execution_count": 39,
     "metadata": {},
     "output_type": "execute_result"
    }
   ],
   "source": [
    "dataset3.tail()"
   ]
  },
  {
   "cell_type": "code",
   "execution_count": 40,
   "metadata": {},
   "outputs": [
    {
     "data": {
      "text/plain": [
       "(51, 10)"
      ]
     },
     "execution_count": 40,
     "metadata": {},
     "output_type": "execute_result"
    }
   ],
   "source": [
    "dataset3.shape"
   ]
  },
  {
   "cell_type": "code",
   "execution_count": 41,
   "metadata": {},
   "outputs": [
    {
     "data": {
      "text/plain": [
       "s_id          0\n",
       "s_name        0\n",
       "age           0\n",
       "sc_%          0\n",
       "hsc_%         0\n",
       "ent_%         0\n",
       "category      0\n",
       "course        0\n",
       "l_6_m         0\n",
       "applicable    0\n",
       "dtype: int64"
      ]
     },
     "execution_count": 41,
     "metadata": {},
     "output_type": "execute_result"
    }
   ],
   "source": [
    "dataset3.isnull().sum()"
   ]
  },
  {
   "cell_type": "code",
   "execution_count": 42,
   "metadata": {},
   "outputs": [
    {
     "data": {
      "text/html": [
       "<div>\n",
       "<style scoped>\n",
       "    .dataframe tbody tr th:only-of-type {\n",
       "        vertical-align: middle;\n",
       "    }\n",
       "\n",
       "    .dataframe tbody tr th {\n",
       "        vertical-align: top;\n",
       "    }\n",
       "\n",
       "    .dataframe thead th {\n",
       "        text-align: right;\n",
       "    }\n",
       "</style>\n",
       "<table border=\"1\" class=\"dataframe\">\n",
       "  <thead>\n",
       "    <tr style=\"text-align: right;\">\n",
       "      <th></th>\n",
       "      <th>s_id</th>\n",
       "      <th>s_name</th>\n",
       "      <th>age</th>\n",
       "      <th>sc_%</th>\n",
       "      <th>hsc_%</th>\n",
       "      <th>ent_%</th>\n",
       "      <th>category</th>\n",
       "      <th>course</th>\n",
       "      <th>l_6_m</th>\n",
       "      <th>applicable</th>\n",
       "    </tr>\n",
       "  </thead>\n",
       "  <tbody>\n",
       "    <tr>\n",
       "      <th>0</th>\n",
       "      <td>1</td>\n",
       "      <td>s_kumar</td>\n",
       "      <td>19</td>\n",
       "      <td>73</td>\n",
       "      <td>64</td>\n",
       "      <td>32</td>\n",
       "      <td>gc</td>\n",
       "      <td>btech</td>\n",
       "      <td>200000</td>\n",
       "      <td>y</td>\n",
       "    </tr>\n",
       "    <tr>\n",
       "      <th>1</th>\n",
       "      <td>2</td>\n",
       "      <td>p_das</td>\n",
       "      <td>21</td>\n",
       "      <td>61</td>\n",
       "      <td>61</td>\n",
       "      <td>55</td>\n",
       "      <td>gc</td>\n",
       "      <td>btech</td>\n",
       "      <td>200000</td>\n",
       "      <td>y</td>\n",
       "    </tr>\n",
       "    <tr>\n",
       "      <th>2</th>\n",
       "      <td>3</td>\n",
       "      <td>c_kumar</td>\n",
       "      <td>21</td>\n",
       "      <td>61</td>\n",
       "      <td>73</td>\n",
       "      <td>71</td>\n",
       "      <td>sc</td>\n",
       "      <td>btech</td>\n",
       "      <td>25000</td>\n",
       "      <td>y</td>\n",
       "    </tr>\n",
       "    <tr>\n",
       "      <th>3</th>\n",
       "      <td>4</td>\n",
       "      <td>s_bose</td>\n",
       "      <td>18</td>\n",
       "      <td>84</td>\n",
       "      <td>84</td>\n",
       "      <td>89</td>\n",
       "      <td>st</td>\n",
       "      <td>bca</td>\n",
       "      <td>67000</td>\n",
       "      <td>n</td>\n",
       "    </tr>\n",
       "    <tr>\n",
       "      <th>4</th>\n",
       "      <td>5</td>\n",
       "      <td>p_das</td>\n",
       "      <td>23</td>\n",
       "      <td>92</td>\n",
       "      <td>67</td>\n",
       "      <td>53</td>\n",
       "      <td>gc</td>\n",
       "      <td>bca</td>\n",
       "      <td>6000</td>\n",
       "      <td>n</td>\n",
       "    </tr>\n",
       "    <tr>\n",
       "      <th>5</th>\n",
       "      <td>6</td>\n",
       "      <td>c_singh</td>\n",
       "      <td>22</td>\n",
       "      <td>43</td>\n",
       "      <td>43</td>\n",
       "      <td>56</td>\n",
       "      <td>gc</td>\n",
       "      <td>bca</td>\n",
       "      <td>100000</td>\n",
       "      <td>n</td>\n",
       "    </tr>\n",
       "    <tr>\n",
       "      <th>6</th>\n",
       "      <td>7</td>\n",
       "      <td>v_das</td>\n",
       "      <td>18</td>\n",
       "      <td>71</td>\n",
       "      <td>71</td>\n",
       "      <td>55</td>\n",
       "      <td>st</td>\n",
       "      <td>bca</td>\n",
       "      <td>250000</td>\n",
       "      <td>n</td>\n",
       "    </tr>\n",
       "    <tr>\n",
       "      <th>7</th>\n",
       "      <td>8</td>\n",
       "      <td>b_kumar</td>\n",
       "      <td>18</td>\n",
       "      <td>44</td>\n",
       "      <td>44</td>\n",
       "      <td>55</td>\n",
       "      <td>obc_a</td>\n",
       "      <td>bca</td>\n",
       "      <td>41000</td>\n",
       "      <td>y</td>\n",
       "    </tr>\n",
       "    <tr>\n",
       "      <th>8</th>\n",
       "      <td>9</td>\n",
       "      <td>s_dey</td>\n",
       "      <td>18</td>\n",
       "      <td>45</td>\n",
       "      <td>55</td>\n",
       "      <td>55</td>\n",
       "      <td>obc_a</td>\n",
       "      <td>bca</td>\n",
       "      <td>2000</td>\n",
       "      <td>y</td>\n",
       "    </tr>\n",
       "    <tr>\n",
       "      <th>9</th>\n",
       "      <td>10</td>\n",
       "      <td>s_bose</td>\n",
       "      <td>19</td>\n",
       "      <td>67</td>\n",
       "      <td>67</td>\n",
       "      <td>55</td>\n",
       "      <td>sc</td>\n",
       "      <td>bca</td>\n",
       "      <td>7700</td>\n",
       "      <td>y</td>\n",
       "    </tr>\n",
       "    <tr>\n",
       "      <th>10</th>\n",
       "      <td>11</td>\n",
       "      <td>t_halder</td>\n",
       "      <td>24</td>\n",
       "      <td>96</td>\n",
       "      <td>96</td>\n",
       "      <td>55</td>\n",
       "      <td>sc</td>\n",
       "      <td>bca</td>\n",
       "      <td>100000</td>\n",
       "      <td>y</td>\n",
       "    </tr>\n",
       "    <tr>\n",
       "      <th>11</th>\n",
       "      <td>12</td>\n",
       "      <td>p_halder</td>\n",
       "      <td>23</td>\n",
       "      <td>43</td>\n",
       "      <td>67</td>\n",
       "      <td>55</td>\n",
       "      <td>sc</td>\n",
       "      <td>bba</td>\n",
       "      <td>25670</td>\n",
       "      <td>y</td>\n",
       "    </tr>\n",
       "    <tr>\n",
       "      <th>12</th>\n",
       "      <td>13</td>\n",
       "      <td>s_khatun</td>\n",
       "      <td>21</td>\n",
       "      <td>55</td>\n",
       "      <td>81</td>\n",
       "      <td>67</td>\n",
       "      <td>gc</td>\n",
       "      <td>bba</td>\n",
       "      <td>8350</td>\n",
       "      <td>n</td>\n",
       "    </tr>\n",
       "    <tr>\n",
       "      <th>13</th>\n",
       "      <td>14</td>\n",
       "      <td>s_ansari</td>\n",
       "      <td>21</td>\n",
       "      <td>62</td>\n",
       "      <td>62</td>\n",
       "      <td>78</td>\n",
       "      <td>obc_b</td>\n",
       "      <td>bba</td>\n",
       "      <td>210</td>\n",
       "      <td>n</td>\n",
       "    </tr>\n",
       "    <tr>\n",
       "      <th>14</th>\n",
       "      <td>15</td>\n",
       "      <td>d_das</td>\n",
       "      <td>21</td>\n",
       "      <td>68</td>\n",
       "      <td>68</td>\n",
       "      <td>42</td>\n",
       "      <td>obc_b</td>\n",
       "      <td>bba</td>\n",
       "      <td>70000</td>\n",
       "      <td>n</td>\n",
       "    </tr>\n",
       "    <tr>\n",
       "      <th>15</th>\n",
       "      <td>16</td>\n",
       "      <td>k_chatter</td>\n",
       "      <td>21</td>\n",
       "      <td>87</td>\n",
       "      <td>77</td>\n",
       "      <td>78</td>\n",
       "      <td>obc_b</td>\n",
       "      <td>bba</td>\n",
       "      <td>12000</td>\n",
       "      <td>y</td>\n",
       "    </tr>\n",
       "    <tr>\n",
       "      <th>16</th>\n",
       "      <td>17</td>\n",
       "      <td>a_das</td>\n",
       "      <td>21</td>\n",
       "      <td>79</td>\n",
       "      <td>79</td>\n",
       "      <td>33</td>\n",
       "      <td>obc_a</td>\n",
       "      <td>bba</td>\n",
       "      <td>30004</td>\n",
       "      <td>n</td>\n",
       "    </tr>\n",
       "    <tr>\n",
       "      <th>17</th>\n",
       "      <td>18</td>\n",
       "      <td>a_ganguly</td>\n",
       "      <td>21</td>\n",
       "      <td>59</td>\n",
       "      <td>60</td>\n",
       "      <td>43</td>\n",
       "      <td>gc</td>\n",
       "      <td>bba</td>\n",
       "      <td>3400</td>\n",
       "      <td>y</td>\n",
       "    </tr>\n",
       "    <tr>\n",
       "      <th>18</th>\n",
       "      <td>19</td>\n",
       "      <td>p_sharma</td>\n",
       "      <td>21</td>\n",
       "      <td>81</td>\n",
       "      <td>69</td>\n",
       "      <td>70</td>\n",
       "      <td>gc</td>\n",
       "      <td>bba</td>\n",
       "      <td>2100</td>\n",
       "      <td>n</td>\n",
       "    </tr>\n",
       "    <tr>\n",
       "      <th>19</th>\n",
       "      <td>20</td>\n",
       "      <td>r_sharma</td>\n",
       "      <td>21</td>\n",
       "      <td>81</td>\n",
       "      <td>81</td>\n",
       "      <td>80</td>\n",
       "      <td>st</td>\n",
       "      <td>bhm</td>\n",
       "      <td>2100</td>\n",
       "      <td>n</td>\n",
       "    </tr>\n",
       "    <tr>\n",
       "      <th>20</th>\n",
       "      <td>21</td>\n",
       "      <td>a_gupta</td>\n",
       "      <td>21</td>\n",
       "      <td>77</td>\n",
       "      <td>77</td>\n",
       "      <td>71</td>\n",
       "      <td>st</td>\n",
       "      <td>bhm</td>\n",
       "      <td>2700</td>\n",
       "      <td>n</td>\n",
       "    </tr>\n",
       "    <tr>\n",
       "      <th>21</th>\n",
       "      <td>22</td>\n",
       "      <td>g_gupta</td>\n",
       "      <td>21</td>\n",
       "      <td>96</td>\n",
       "      <td>92</td>\n",
       "      <td>90</td>\n",
       "      <td>st</td>\n",
       "      <td>bca</td>\n",
       "      <td>4200</td>\n",
       "      <td>n</td>\n",
       "    </tr>\n",
       "    <tr>\n",
       "      <th>22</th>\n",
       "      <td>23</td>\n",
       "      <td>s_roy</td>\n",
       "      <td>21</td>\n",
       "      <td>95</td>\n",
       "      <td>87</td>\n",
       "      <td>63</td>\n",
       "      <td>obc_b</td>\n",
       "      <td>barch</td>\n",
       "      <td>4455</td>\n",
       "      <td>y</td>\n",
       "    </tr>\n",
       "    <tr>\n",
       "      <th>23</th>\n",
       "      <td>24</td>\n",
       "      <td>a_sharma</td>\n",
       "      <td>23</td>\n",
       "      <td>65</td>\n",
       "      <td>65</td>\n",
       "      <td>67</td>\n",
       "      <td>gc</td>\n",
       "      <td>barch</td>\n",
       "      <td>8800</td>\n",
       "      <td>y</td>\n",
       "    </tr>\n",
       "    <tr>\n",
       "      <th>24</th>\n",
       "      <td>25</td>\n",
       "      <td>r_roy</td>\n",
       "      <td>24</td>\n",
       "      <td>66</td>\n",
       "      <td>61</td>\n",
       "      <td>49</td>\n",
       "      <td>gc</td>\n",
       "      <td>btech</td>\n",
       "      <td>3400</td>\n",
       "      <td>n</td>\n",
       "    </tr>\n",
       "    <tr>\n",
       "      <th>25</th>\n",
       "      <td>26</td>\n",
       "      <td>d_kumar</td>\n",
       "      <td>22</td>\n",
       "      <td>76</td>\n",
       "      <td>81</td>\n",
       "      <td>53</td>\n",
       "      <td>sc</td>\n",
       "      <td>bhm</td>\n",
       "      <td>20000</td>\n",
       "      <td>n</td>\n",
       "    </tr>\n",
       "    <tr>\n",
       "      <th>26</th>\n",
       "      <td>27</td>\n",
       "      <td>h_sharma</td>\n",
       "      <td>22</td>\n",
       "      <td>83</td>\n",
       "      <td>80</td>\n",
       "      <td>41</td>\n",
       "      <td>sc</td>\n",
       "      <td>bhm</td>\n",
       "      <td>23500</td>\n",
       "      <td>n</td>\n",
       "    </tr>\n",
       "    <tr>\n",
       "      <th>27</th>\n",
       "      <td>28</td>\n",
       "      <td>r_sharma</td>\n",
       "      <td>22</td>\n",
       "      <td>58</td>\n",
       "      <td>86</td>\n",
       "      <td>41</td>\n",
       "      <td>st</td>\n",
       "      <td>bhm</td>\n",
       "      <td>22900</td>\n",
       "      <td>n</td>\n",
       "    </tr>\n",
       "    <tr>\n",
       "      <th>28</th>\n",
       "      <td>29</td>\n",
       "      <td>a_roy</td>\n",
       "      <td>22</td>\n",
       "      <td>88</td>\n",
       "      <td>45</td>\n",
       "      <td>41</td>\n",
       "      <td>st</td>\n",
       "      <td>bhm</td>\n",
       "      <td>1200</td>\n",
       "      <td>n</td>\n",
       "    </tr>\n",
       "    <tr>\n",
       "      <th>29</th>\n",
       "      <td>30</td>\n",
       "      <td>r_khatun</td>\n",
       "      <td>21</td>\n",
       "      <td>87</td>\n",
       "      <td>56</td>\n",
       "      <td>41</td>\n",
       "      <td>st</td>\n",
       "      <td>bba</td>\n",
       "      <td>350</td>\n",
       "      <td>n</td>\n",
       "    </tr>\n",
       "    <tr>\n",
       "      <th>30</th>\n",
       "      <td>31</td>\n",
       "      <td>p_bose</td>\n",
       "      <td>18</td>\n",
       "      <td>87</td>\n",
       "      <td>87</td>\n",
       "      <td>89</td>\n",
       "      <td>gc</td>\n",
       "      <td>bba</td>\n",
       "      <td>470</td>\n",
       "      <td>n</td>\n",
       "    </tr>\n",
       "    <tr>\n",
       "      <th>31</th>\n",
       "      <td>32</td>\n",
       "      <td>s_sharma</td>\n",
       "      <td>19</td>\n",
       "      <td>87</td>\n",
       "      <td>87</td>\n",
       "      <td>94</td>\n",
       "      <td>obc_a</td>\n",
       "      <td>bba</td>\n",
       "      <td>33445</td>\n",
       "      <td>y</td>\n",
       "    </tr>\n",
       "    <tr>\n",
       "      <th>32</th>\n",
       "      <td>33</td>\n",
       "      <td>d_ansari</td>\n",
       "      <td>18</td>\n",
       "      <td>91</td>\n",
       "      <td>91</td>\n",
       "      <td>92</td>\n",
       "      <td>gc</td>\n",
       "      <td>btech</td>\n",
       "      <td>32975</td>\n",
       "      <td>y</td>\n",
       "    </tr>\n",
       "    <tr>\n",
       "      <th>33</th>\n",
       "      <td>34</td>\n",
       "      <td>l_roy</td>\n",
       "      <td>18</td>\n",
       "      <td>90</td>\n",
       "      <td>78</td>\n",
       "      <td>91</td>\n",
       "      <td>gc</td>\n",
       "      <td>barch</td>\n",
       "      <td>81000</td>\n",
       "      <td>y</td>\n",
       "    </tr>\n",
       "    <tr>\n",
       "      <th>34</th>\n",
       "      <td>35</td>\n",
       "      <td>a_bose</td>\n",
       "      <td>24</td>\n",
       "      <td>76</td>\n",
       "      <td>61</td>\n",
       "      <td>77</td>\n",
       "      <td>gc</td>\n",
       "      <td>bca</td>\n",
       "      <td>3490</td>\n",
       "      <td>y</td>\n",
       "    </tr>\n",
       "    <tr>\n",
       "      <th>35</th>\n",
       "      <td>36</td>\n",
       "      <td>d_sanyal</td>\n",
       "      <td>23</td>\n",
       "      <td>60</td>\n",
       "      <td>60</td>\n",
       "      <td>23</td>\n",
       "      <td>obc_a</td>\n",
       "      <td>bca</td>\n",
       "      <td>4355</td>\n",
       "      <td>y</td>\n",
       "    </tr>\n",
       "    <tr>\n",
       "      <th>36</th>\n",
       "      <td>37</td>\n",
       "      <td>p_khatun</td>\n",
       "      <td>23</td>\n",
       "      <td>50</td>\n",
       "      <td>50</td>\n",
       "      <td>34</td>\n",
       "      <td>sc</td>\n",
       "      <td>bca</td>\n",
       "      <td>4500</td>\n",
       "      <td>n</td>\n",
       "    </tr>\n",
       "    <tr>\n",
       "      <th>37</th>\n",
       "      <td>38</td>\n",
       "      <td>c_sanyal</td>\n",
       "      <td>22</td>\n",
       "      <td>82</td>\n",
       "      <td>85</td>\n",
       "      <td>89</td>\n",
       "      <td>st</td>\n",
       "      <td>btech</td>\n",
       "      <td>7000</td>\n",
       "      <td>y</td>\n",
       "    </tr>\n",
       "    <tr>\n",
       "      <th>38</th>\n",
       "      <td>39</td>\n",
       "      <td>a_p</td>\n",
       "      <td>22</td>\n",
       "      <td>77</td>\n",
       "      <td>72</td>\n",
       "      <td>79</td>\n",
       "      <td>st</td>\n",
       "      <td>barch</td>\n",
       "      <td>8175</td>\n",
       "      <td>n</td>\n",
       "    </tr>\n",
       "    <tr>\n",
       "      <th>39</th>\n",
       "      <td>40</td>\n",
       "      <td>s_k</td>\n",
       "      <td>22</td>\n",
       "      <td>67</td>\n",
       "      <td>67</td>\n",
       "      <td>76</td>\n",
       "      <td>gc</td>\n",
       "      <td>bhm</td>\n",
       "      <td>2321</td>\n",
       "      <td>y</td>\n",
       "    </tr>\n",
       "    <tr>\n",
       "      <th>40</th>\n",
       "      <td>41</td>\n",
       "      <td>p_das</td>\n",
       "      <td>22</td>\n",
       "      <td>89</td>\n",
       "      <td>89</td>\n",
       "      <td>69</td>\n",
       "      <td>st</td>\n",
       "      <td>bhm</td>\n",
       "      <td>4987</td>\n",
       "      <td>n</td>\n",
       "    </tr>\n",
       "    <tr>\n",
       "      <th>41</th>\n",
       "      <td>42</td>\n",
       "      <td>b_dash</td>\n",
       "      <td>21</td>\n",
       "      <td>54</td>\n",
       "      <td>55</td>\n",
       "      <td>38</td>\n",
       "      <td>sc</td>\n",
       "      <td>bba</td>\n",
       "      <td>5000</td>\n",
       "      <td>n</td>\n",
       "    </tr>\n",
       "    <tr>\n",
       "      <th>42</th>\n",
       "      <td>43</td>\n",
       "      <td>g_gupta</td>\n",
       "      <td>24</td>\n",
       "      <td>64</td>\n",
       "      <td>64</td>\n",
       "      <td>65</td>\n",
       "      <td>gc</td>\n",
       "      <td>mba</td>\n",
       "      <td>56000</td>\n",
       "      <td>n</td>\n",
       "    </tr>\n",
       "    <tr>\n",
       "      <th>43</th>\n",
       "      <td>44</td>\n",
       "      <td>g_sharma</td>\n",
       "      <td>19</td>\n",
       "      <td>71</td>\n",
       "      <td>60</td>\n",
       "      <td>77</td>\n",
       "      <td>gc</td>\n",
       "      <td>mba</td>\n",
       "      <td>41000</td>\n",
       "      <td>n</td>\n",
       "    </tr>\n",
       "    <tr>\n",
       "      <th>44</th>\n",
       "      <td>45</td>\n",
       "      <td>k_das</td>\n",
       "      <td>19</td>\n",
       "      <td>70</td>\n",
       "      <td>70</td>\n",
       "      <td>70</td>\n",
       "      <td>gc</td>\n",
       "      <td>mba</td>\n",
       "      <td>4476</td>\n",
       "      <td>y</td>\n",
       "    </tr>\n",
       "    <tr>\n",
       "      <th>45</th>\n",
       "      <td>46</td>\n",
       "      <td>k_bose</td>\n",
       "      <td>17</td>\n",
       "      <td>83</td>\n",
       "      <td>83</td>\n",
       "      <td>83</td>\n",
       "      <td>obc_b</td>\n",
       "      <td>mba</td>\n",
       "      <td>3411</td>\n",
       "      <td>y</td>\n",
       "    </tr>\n",
       "    <tr>\n",
       "      <th>46</th>\n",
       "      <td>47</td>\n",
       "      <td>j_ansari</td>\n",
       "      <td>17</td>\n",
       "      <td>93</td>\n",
       "      <td>88</td>\n",
       "      <td>89</td>\n",
       "      <td>obc_a</td>\n",
       "      <td>bba</td>\n",
       "      <td>6700</td>\n",
       "      <td>n</td>\n",
       "    </tr>\n",
       "    <tr>\n",
       "      <th>47</th>\n",
       "      <td>48</td>\n",
       "      <td>f_mitra</td>\n",
       "      <td>15</td>\n",
       "      <td>67</td>\n",
       "      <td>67</td>\n",
       "      <td>61</td>\n",
       "      <td>sc</td>\n",
       "      <td>mba</td>\n",
       "      <td>65221</td>\n",
       "      <td>y</td>\n",
       "    </tr>\n",
       "    <tr>\n",
       "      <th>48</th>\n",
       "      <td>49</td>\n",
       "      <td>s_g</td>\n",
       "      <td>21</td>\n",
       "      <td>44</td>\n",
       "      <td>49</td>\n",
       "      <td>50</td>\n",
       "      <td>gc</td>\n",
       "      <td>mba</td>\n",
       "      <td>5691</td>\n",
       "      <td>n</td>\n",
       "    </tr>\n",
       "    <tr>\n",
       "      <th>49</th>\n",
       "      <td>50</td>\n",
       "      <td>a_mitra</td>\n",
       "      <td>17</td>\n",
       "      <td>78</td>\n",
       "      <td>71</td>\n",
       "      <td>66</td>\n",
       "      <td>sc</td>\n",
       "      <td>mcom</td>\n",
       "      <td>7800</td>\n",
       "      <td>y</td>\n",
       "    </tr>\n",
       "    <tr>\n",
       "      <th>50</th>\n",
       "      <td>51</td>\n",
       "      <td>c_sharma</td>\n",
       "      <td>16</td>\n",
       "      <td>59</td>\n",
       "      <td>65</td>\n",
       "      <td>56</td>\n",
       "      <td>gc</td>\n",
       "      <td>mcom</td>\n",
       "      <td>3750</td>\n",
       "      <td>n</td>\n",
       "    </tr>\n",
       "  </tbody>\n",
       "</table>\n",
       "</div>"
      ],
      "text/plain": [
       "    s_id     s_name  age  sc_%  hsc_%  ent_% category course   l_6_m  \\\n",
       "0      1    s_kumar   19    73     64     32       gc  btech  200000   \n",
       "1      2      p_das   21    61     61     55       gc  btech  200000   \n",
       "2      3    c_kumar   21    61     73     71       sc  btech   25000   \n",
       "3      4     s_bose   18    84     84     89       st    bca   67000   \n",
       "4      5      p_das   23    92     67     53       gc    bca    6000   \n",
       "5      6    c_singh   22    43     43     56       gc    bca  100000   \n",
       "6      7      v_das   18    71     71     55       st    bca  250000   \n",
       "7      8    b_kumar   18    44     44     55    obc_a    bca   41000   \n",
       "8      9      s_dey   18    45     55     55    obc_a    bca    2000   \n",
       "9     10     s_bose   19    67     67     55       sc    bca    7700   \n",
       "10    11   t_halder   24    96     96     55       sc    bca  100000   \n",
       "11    12   p_halder   23    43     67     55       sc    bba   25670   \n",
       "12    13   s_khatun   21    55     81     67       gc    bba    8350   \n",
       "13    14   s_ansari   21    62     62     78    obc_b    bba     210   \n",
       "14    15      d_das   21    68     68     42    obc_b    bba   70000   \n",
       "15    16  k_chatter   21    87     77     78    obc_b    bba   12000   \n",
       "16    17      a_das   21    79     79     33    obc_a    bba   30004   \n",
       "17    18  a_ganguly   21    59     60     43       gc    bba    3400   \n",
       "18    19   p_sharma   21    81     69     70       gc    bba    2100   \n",
       "19    20   r_sharma   21    81     81     80       st    bhm    2100   \n",
       "20    21    a_gupta   21    77     77     71       st    bhm    2700   \n",
       "21    22    g_gupta   21    96     92     90       st    bca    4200   \n",
       "22    23      s_roy   21    95     87     63    obc_b  barch    4455   \n",
       "23    24   a_sharma   23    65     65     67       gc  barch    8800   \n",
       "24    25      r_roy   24    66     61     49       gc  btech    3400   \n",
       "25    26    d_kumar   22    76     81     53       sc    bhm   20000   \n",
       "26    27   h_sharma   22    83     80     41       sc    bhm   23500   \n",
       "27    28   r_sharma   22    58     86     41       st    bhm   22900   \n",
       "28    29      a_roy   22    88     45     41       st    bhm    1200   \n",
       "29    30   r_khatun   21    87     56     41       st    bba     350   \n",
       "30    31     p_bose   18    87     87     89       gc    bba     470   \n",
       "31    32   s_sharma   19    87     87     94    obc_a    bba   33445   \n",
       "32    33   d_ansari   18    91     91     92       gc  btech   32975   \n",
       "33    34      l_roy   18    90     78     91       gc  barch   81000   \n",
       "34    35     a_bose   24    76     61     77       gc    bca    3490   \n",
       "35    36   d_sanyal   23    60     60     23    obc_a    bca    4355   \n",
       "36    37   p_khatun   23    50     50     34       sc    bca    4500   \n",
       "37    38   c_sanyal   22    82     85     89       st  btech    7000   \n",
       "38    39        a_p   22    77     72     79       st  barch    8175   \n",
       "39    40        s_k   22    67     67     76       gc    bhm    2321   \n",
       "40    41      p_das   22    89     89     69       st    bhm    4987   \n",
       "41    42     b_dash   21    54     55     38       sc    bba    5000   \n",
       "42    43    g_gupta   24    64     64     65       gc    mba   56000   \n",
       "43    44   g_sharma   19    71     60     77       gc    mba   41000   \n",
       "44    45      k_das   19    70     70     70       gc    mba    4476   \n",
       "45    46     k_bose   17    83     83     83    obc_b    mba    3411   \n",
       "46    47   j_ansari   17    93     88     89    obc_a    bba    6700   \n",
       "47    48    f_mitra   15    67     67     61       sc    mba   65221   \n",
       "48    49        s_g   21    44     49     50       gc    mba    5691   \n",
       "49    50    a_mitra   17    78     71     66       sc   mcom    7800   \n",
       "50    51   c_sharma   16    59     65     56       gc   mcom    3750   \n",
       "\n",
       "   applicable  \n",
       "0           y  \n",
       "1           y  \n",
       "2           y  \n",
       "3           n  \n",
       "4           n  \n",
       "5           n  \n",
       "6           n  \n",
       "7           y  \n",
       "8           y  \n",
       "9           y  \n",
       "10          y  \n",
       "11          y  \n",
       "12          n  \n",
       "13          n  \n",
       "14          n  \n",
       "15          y  \n",
       "16          n  \n",
       "17          y  \n",
       "18          n  \n",
       "19          n  \n",
       "20          n  \n",
       "21          n  \n",
       "22          y  \n",
       "23          y  \n",
       "24          n  \n",
       "25          n  \n",
       "26          n  \n",
       "27          n  \n",
       "28          n  \n",
       "29          n  \n",
       "30          n  \n",
       "31          y  \n",
       "32          y  \n",
       "33          y  \n",
       "34          y  \n",
       "35          y  \n",
       "36          n  \n",
       "37          y  \n",
       "38          n  \n",
       "39          y  \n",
       "40          n  \n",
       "41          n  \n",
       "42          n  \n",
       "43          n  \n",
       "44          y  \n",
       "45          y  \n",
       "46          n  \n",
       "47          y  \n",
       "48          n  \n",
       "49          y  \n",
       "50          n  "
      ]
     },
     "execution_count": 42,
     "metadata": {},
     "output_type": "execute_result"
    }
   ],
   "source": [
    "dataset3.dropna(axis=1)"
   ]
  },
  {
   "cell_type": "code",
   "execution_count": 43,
   "metadata": {},
   "outputs": [],
   "source": [
    "dataset3.drop(['age','s_name','category','course'],axis=1,inplace=True)"
   ]
  },
  {
   "cell_type": "code",
   "execution_count": 44,
   "metadata": {},
   "outputs": [
    {
     "data": {
      "text/html": [
       "<div>\n",
       "<style scoped>\n",
       "    .dataframe tbody tr th:only-of-type {\n",
       "        vertical-align: middle;\n",
       "    }\n",
       "\n",
       "    .dataframe tbody tr th {\n",
       "        vertical-align: top;\n",
       "    }\n",
       "\n",
       "    .dataframe thead th {\n",
       "        text-align: right;\n",
       "    }\n",
       "</style>\n",
       "<table border=\"1\" class=\"dataframe\">\n",
       "  <thead>\n",
       "    <tr style=\"text-align: right;\">\n",
       "      <th></th>\n",
       "      <th>s_id</th>\n",
       "      <th>sc_%</th>\n",
       "      <th>hsc_%</th>\n",
       "      <th>ent_%</th>\n",
       "      <th>l_6_m</th>\n",
       "      <th>applicable</th>\n",
       "    </tr>\n",
       "  </thead>\n",
       "  <tbody>\n",
       "    <tr>\n",
       "      <th>0</th>\n",
       "      <td>1</td>\n",
       "      <td>73</td>\n",
       "      <td>64</td>\n",
       "      <td>32</td>\n",
       "      <td>200000</td>\n",
       "      <td>y</td>\n",
       "    </tr>\n",
       "    <tr>\n",
       "      <th>1</th>\n",
       "      <td>2</td>\n",
       "      <td>61</td>\n",
       "      <td>61</td>\n",
       "      <td>55</td>\n",
       "      <td>200000</td>\n",
       "      <td>y</td>\n",
       "    </tr>\n",
       "    <tr>\n",
       "      <th>2</th>\n",
       "      <td>3</td>\n",
       "      <td>61</td>\n",
       "      <td>73</td>\n",
       "      <td>71</td>\n",
       "      <td>25000</td>\n",
       "      <td>y</td>\n",
       "    </tr>\n",
       "    <tr>\n",
       "      <th>3</th>\n",
       "      <td>4</td>\n",
       "      <td>84</td>\n",
       "      <td>84</td>\n",
       "      <td>89</td>\n",
       "      <td>67000</td>\n",
       "      <td>n</td>\n",
       "    </tr>\n",
       "    <tr>\n",
       "      <th>4</th>\n",
       "      <td>5</td>\n",
       "      <td>92</td>\n",
       "      <td>67</td>\n",
       "      <td>53</td>\n",
       "      <td>6000</td>\n",
       "      <td>n</td>\n",
       "    </tr>\n",
       "  </tbody>\n",
       "</table>\n",
       "</div>"
      ],
      "text/plain": [
       "   s_id  sc_%  hsc_%  ent_%   l_6_m applicable\n",
       "0     1    73     64     32  200000          y\n",
       "1     2    61     61     55  200000          y\n",
       "2     3    61     73     71   25000          y\n",
       "3     4    84     84     89   67000          n\n",
       "4     5    92     67     53    6000          n"
      ]
     },
     "execution_count": 44,
     "metadata": {},
     "output_type": "execute_result"
    }
   ],
   "source": [
    "dataset3.head()"
   ]
  },
  {
   "cell_type": "code",
   "execution_count": 45,
   "metadata": {},
   "outputs": [
    {
     "data": {
      "text/html": [
       "<div>\n",
       "<style scoped>\n",
       "    .dataframe tbody tr th:only-of-type {\n",
       "        vertical-align: middle;\n",
       "    }\n",
       "\n",
       "    .dataframe tbody tr th {\n",
       "        vertical-align: top;\n",
       "    }\n",
       "\n",
       "    .dataframe thead th {\n",
       "        text-align: right;\n",
       "    }\n",
       "</style>\n",
       "<table border=\"1\" class=\"dataframe\">\n",
       "  <thead>\n",
       "    <tr style=\"text-align: right;\">\n",
       "      <th></th>\n",
       "      <th>s_id</th>\n",
       "      <th>sc_%</th>\n",
       "      <th>hsc_%</th>\n",
       "      <th>ent_%</th>\n",
       "      <th>l_6_m</th>\n",
       "      <th>applicable</th>\n",
       "    </tr>\n",
       "  </thead>\n",
       "  <tbody>\n",
       "    <tr>\n",
       "      <th>46</th>\n",
       "      <td>47</td>\n",
       "      <td>93</td>\n",
       "      <td>88</td>\n",
       "      <td>89</td>\n",
       "      <td>6700</td>\n",
       "      <td>n</td>\n",
       "    </tr>\n",
       "    <tr>\n",
       "      <th>47</th>\n",
       "      <td>48</td>\n",
       "      <td>67</td>\n",
       "      <td>67</td>\n",
       "      <td>61</td>\n",
       "      <td>65221</td>\n",
       "      <td>y</td>\n",
       "    </tr>\n",
       "    <tr>\n",
       "      <th>48</th>\n",
       "      <td>49</td>\n",
       "      <td>44</td>\n",
       "      <td>49</td>\n",
       "      <td>50</td>\n",
       "      <td>5691</td>\n",
       "      <td>n</td>\n",
       "    </tr>\n",
       "    <tr>\n",
       "      <th>49</th>\n",
       "      <td>50</td>\n",
       "      <td>78</td>\n",
       "      <td>71</td>\n",
       "      <td>66</td>\n",
       "      <td>7800</td>\n",
       "      <td>y</td>\n",
       "    </tr>\n",
       "    <tr>\n",
       "      <th>50</th>\n",
       "      <td>51</td>\n",
       "      <td>59</td>\n",
       "      <td>65</td>\n",
       "      <td>56</td>\n",
       "      <td>3750</td>\n",
       "      <td>n</td>\n",
       "    </tr>\n",
       "  </tbody>\n",
       "</table>\n",
       "</div>"
      ],
      "text/plain": [
       "    s_id  sc_%  hsc_%  ent_%  l_6_m applicable\n",
       "46    47    93     88     89   6700          n\n",
       "47    48    67     67     61  65221          y\n",
       "48    49    44     49     50   5691          n\n",
       "49    50    78     71     66   7800          y\n",
       "50    51    59     65     56   3750          n"
      ]
     },
     "execution_count": 45,
     "metadata": {},
     "output_type": "execute_result"
    }
   ],
   "source": [
    "dataset3.tail()"
   ]
  },
  {
   "cell_type": "code",
   "execution_count": 46,
   "metadata": {},
   "outputs": [
    {
     "data": {
      "text/plain": [
       "n    28\n",
       "y    23\n",
       "Name: applicable, dtype: int64"
      ]
     },
     "execution_count": 46,
     "metadata": {},
     "output_type": "execute_result"
    }
   ],
   "source": [
    "dataset3['applicable'].value_counts()"
   ]
  },
  {
   "cell_type": "code",
   "execution_count": 47,
   "metadata": {},
   "outputs": [
    {
     "name": "stderr",
     "output_type": "stream",
     "text": [
      "C:\\Users\\souvik\\anaconda3\\envs\\tensorflow\\lib\\site-packages\\seaborn\\_decorators.py:43: FutureWarning: Pass the following variable as a keyword arg: x. From version 0.12, the only valid positional argument will be `data`, and passing other arguments without an explicit keyword will result in an error or misinterpretation.\n",
      "  FutureWarning\n"
     ]
    },
    {
     "data": {
      "text/plain": [
       "<AxesSubplot:xlabel='applicable', ylabel='count'>"
      ]
     },
     "execution_count": 47,
     "metadata": {},
     "output_type": "execute_result"
    },
    {
     "data": {
      "image/png": "[encoded data removed]",
      "text/plain": [
       "<Figure size 432x288 with 1 Axes>"
      ]
     },
     "metadata": {
      "needs_background": "light"
     },
     "output_type": "display_data"
    }
   ],
   "source": [
    "sns.countplot(dataset3['applicable'],label='count')"
   ]
  },
  {
   "cell_type": "code",
   "execution_count": 48,
   "metadata": {},
   "outputs": [
    {
     "data": {
      "text/plain": [
       "0     1\n",
       "1     1\n",
       "2     1\n",
       "3     0\n",
       "4     0\n",
       "5     0\n",
       "6     0\n",
       "7     1\n",
       "8     1\n",
       "9     1\n",
       "10    1\n",
       "11    1\n",
       "12    0\n",
       "13    0\n",
       "14    0\n",
       "15    1\n",
       "16    0\n",
       "17    1\n",
       "18    0\n",
       "19    0\n",
       "20    0\n",
       "21    0\n",
       "22    1\n",
       "23    1\n",
       "24    0\n",
       "25    0\n",
       "26    0\n",
       "27    0\n",
       "28    0\n",
       "29    0\n",
       "30    0\n",
       "31    1\n",
       "32    1\n",
       "33    1\n",
       "34    1\n",
       "35    1\n",
       "36    0\n",
       "37    1\n",
       "38    0\n",
       "39    1\n",
       "40    0\n",
       "41    0\n",
       "42    0\n",
       "43    0\n",
       "44    1\n",
       "45    1\n",
       "46    0\n",
       "47    1\n",
       "48    0\n",
       "49    1\n",
       "50    0\n",
       "Name: applicable, dtype: int32"
      ]
     },
     "execution_count": 48,
     "metadata": {},
     "output_type": "execute_result"
    }
   ],
   "source": [
    "from sklearn.preprocessing import LabelEncoder\n",
    "lb=LabelEncoder()\n",
    "dataset3.iloc[:,-1]=lb.fit_transform(dataset3.iloc[:,-1].values)\n",
    "dataset3.iloc[:,-1]"
   ]
  },
  {
   "cell_type": "code",
   "execution_count": 49,
   "metadata": {},
   "outputs": [
    {
     "data": {
      "text/html": [
       "<div>\n",
       "<style scoped>\n",
       "    .dataframe tbody tr th:only-of-type {\n",
       "        vertical-align: middle;\n",
       "    }\n",
       "\n",
       "    .dataframe tbody tr th {\n",
       "        vertical-align: top;\n",
       "    }\n",
       "\n",
       "    .dataframe thead th {\n",
       "        text-align: right;\n",
       "    }\n",
       "</style>\n",
       "<table border=\"1\" class=\"dataframe\">\n",
       "  <thead>\n",
       "    <tr style=\"text-align: right;\">\n",
       "      <th></th>\n",
       "      <th>s_id</th>\n",
       "      <th>sc_%</th>\n",
       "      <th>hsc_%</th>\n",
       "      <th>ent_%</th>\n",
       "      <th>l_6_m</th>\n",
       "      <th>applicable</th>\n",
       "    </tr>\n",
       "  </thead>\n",
       "  <tbody>\n",
       "    <tr>\n",
       "      <th>0</th>\n",
       "      <td>1</td>\n",
       "      <td>73</td>\n",
       "      <td>64</td>\n",
       "      <td>32</td>\n",
       "      <td>200000</td>\n",
       "      <td>1</td>\n",
       "    </tr>\n",
       "    <tr>\n",
       "      <th>1</th>\n",
       "      <td>2</td>\n",
       "      <td>61</td>\n",
       "      <td>61</td>\n",
       "      <td>55</td>\n",
       "      <td>200000</td>\n",
       "      <td>1</td>\n",
       "    </tr>\n",
       "    <tr>\n",
       "      <th>2</th>\n",
       "      <td>3</td>\n",
       "      <td>61</td>\n",
       "      <td>73</td>\n",
       "      <td>71</td>\n",
       "      <td>25000</td>\n",
       "      <td>1</td>\n",
       "    </tr>\n",
       "    <tr>\n",
       "      <th>3</th>\n",
       "      <td>4</td>\n",
       "      <td>84</td>\n",
       "      <td>84</td>\n",
       "      <td>89</td>\n",
       "      <td>67000</td>\n",
       "      <td>0</td>\n",
       "    </tr>\n",
       "    <tr>\n",
       "      <th>4</th>\n",
       "      <td>5</td>\n",
       "      <td>92</td>\n",
       "      <td>67</td>\n",
       "      <td>53</td>\n",
       "      <td>6000</td>\n",
       "      <td>0</td>\n",
       "    </tr>\n",
       "  </tbody>\n",
       "</table>\n",
       "</div>"
      ],
      "text/plain": [
       "   s_id  sc_%  hsc_%  ent_%   l_6_m  applicable\n",
       "0     1    73     64     32  200000           1\n",
       "1     2    61     61     55  200000           1\n",
       "2     3    61     73     71   25000           1\n",
       "3     4    84     84     89   67000           0\n",
       "4     5    92     67     53    6000           0"
      ]
     },
     "execution_count": 49,
     "metadata": {},
     "output_type": "execute_result"
    }
   ],
   "source": [
    "dataset3.head()"
   ]
  },
  {
   "cell_type": "code",
   "execution_count": 50,
   "metadata": {},
   "outputs": [
    {
     "data": {
      "text/html": [
       "<div>\n",
       "<style scoped>\n",
       "    .dataframe tbody tr th:only-of-type {\n",
       "        vertical-align: middle;\n",
       "    }\n",
       "\n",
       "    .dataframe tbody tr th {\n",
       "        vertical-align: top;\n",
       "    }\n",
       "\n",
       "    .dataframe thead th {\n",
       "        text-align: right;\n",
       "    }\n",
       "</style>\n",
       "<table border=\"1\" class=\"dataframe\">\n",
       "  <thead>\n",
       "    <tr style=\"text-align: right;\">\n",
       "      <th></th>\n",
       "      <th>sc_%</th>\n",
       "      <th>hsc_%</th>\n",
       "      <th>ent_%</th>\n",
       "      <th>l_6_m</th>\n",
       "    </tr>\n",
       "  </thead>\n",
       "  <tbody>\n",
       "    <tr>\n",
       "      <th>sc_%</th>\n",
       "      <td>1.000000</td>\n",
       "      <td>0.684195</td>\n",
       "      <td>0.448664</td>\n",
       "      <td>-0.061213</td>\n",
       "    </tr>\n",
       "    <tr>\n",
       "      <th>hsc_%</th>\n",
       "      <td>0.684195</td>\n",
       "      <td>1.000000</td>\n",
       "      <td>0.529201</td>\n",
       "      <td>-0.049271</td>\n",
       "    </tr>\n",
       "    <tr>\n",
       "      <th>ent_%</th>\n",
       "      <td>0.448664</td>\n",
       "      <td>0.529201</td>\n",
       "      <td>1.000000</td>\n",
       "      <td>-0.160432</td>\n",
       "    </tr>\n",
       "    <tr>\n",
       "      <th>l_6_m</th>\n",
       "      <td>-0.061213</td>\n",
       "      <td>-0.049271</td>\n",
       "      <td>-0.160432</td>\n",
       "      <td>1.000000</td>\n",
       "    </tr>\n",
       "  </tbody>\n",
       "</table>\n",
       "</div>"
      ],
      "text/plain": [
       "           sc_%     hsc_%     ent_%     l_6_m\n",
       "sc_%   1.000000  0.684195  0.448664 -0.061213\n",
       "hsc_%  0.684195  1.000000  0.529201 -0.049271\n",
       "ent_%  0.448664  0.529201  1.000000 -0.160432\n",
       "l_6_m -0.061213 -0.049271 -0.160432  1.000000"
      ]
     },
     "execution_count": 50,
     "metadata": {},
     "output_type": "execute_result"
    }
   ],
   "source": [
    "dataset3.iloc[:,1:5].corr()"
   ]
  },
  {
   "cell_type": "code",
   "execution_count": 51,
   "metadata": {},
   "outputs": [
    {
     "data": {
      "text/plain": [
       "<AxesSubplot:>"
      ]
     },
     "execution_count": 51,
     "metadata": {},
     "output_type": "execute_result"
    },
    {
     "data": {
      "image/png": "[encoded data removed]",
      "text/plain": [
       "<Figure size 1080x720 with 2 Axes>"
      ]
     },
     "metadata": {
      "needs_background": "light"
     },
     "output_type": "display_data"
    }
   ],
   "source": [
    "plt.figure(figsize=(15,10))\n",
    "sns.heatmap(dataset3.iloc[:,1:5].corr(),annot=True,fmt='.0%')"
   ]
  },
  {
   "cell_type": "code",
   "execution_count": 52,
   "metadata": {},
   "outputs": [],
   "source": [
    "x=dataset3.iloc[:,1:5].values\n",
    "y=dataset3.iloc[:,-1].values"
   ]
  },
  {
   "cell_type": "code",
   "execution_count": 53,
   "metadata": {},
   "outputs": [
    {
     "data": {
      "text/plain": [
       "array([[    73,     64,     32, 200000],\n",
       "       [    61,     61,     55, 200000],\n",
       "       [    61,     73,     71,  25000],\n",
       "       [    84,     84,     89,  67000],\n",
       "       [    92,     67,     53,   6000],\n",
       "       [    43,     43,     56, 100000],\n",
       "       [    71,     71,     55, 250000],\n",
       "       [    44,     44,     55,  41000],\n",
       "       [    45,     55,     55,   2000],\n",
       "       [    67,     67,     55,   7700],\n",
       "       [    96,     96,     55, 100000],\n",
       "       [    43,     67,     55,  25670],\n",
       "       [    55,     81,     67,   8350],\n",
       "       [    62,     62,     78,    210],\n",
       "       [    68,     68,     42,  70000],\n",
       "       [    87,     77,     78,  12000],\n",
       "       [    79,     79,     33,  30004],\n",
       "       [    59,     60,     43,   3400],\n",
       "       [    81,     69,     70,   2100],\n",
       "       [    81,     81,     80,   2100],\n",
       "       [    77,     77,     71,   2700],\n",
       "       [    96,     92,     90,   4200],\n",
       "       [    95,     87,     63,   4455],\n",
       "       [    65,     65,     67,   8800],\n",
       "       [    66,     61,     49,   3400],\n",
       "       [    76,     81,     53,  20000],\n",
       "       [    83,     80,     41,  23500],\n",
       "       [    58,     86,     41,  22900],\n",
       "       [    88,     45,     41,   1200],\n",
       "       [    87,     56,     41,    350],\n",
       "       [    87,     87,     89,    470],\n",
       "       [    87,     87,     94,  33445],\n",
       "       [    91,     91,     92,  32975],\n",
       "       [    90,     78,     91,  81000],\n",
       "       [    76,     61,     77,   3490],\n",
       "       [    60,     60,     23,   4355],\n",
       "       [    50,     50,     34,   4500],\n",
       "       [    82,     85,     89,   7000],\n",
       "       [    77,     72,     79,   8175],\n",
       "       [    67,     67,     76,   2321],\n",
       "       [    89,     89,     69,   4987],\n",
       "       [    54,     55,     38,   5000],\n",
       "       [    64,     64,     65,  56000],\n",
       "       [    71,     60,     77,  41000],\n",
       "       [    70,     70,     70,   4476],\n",
       "       [    83,     83,     83,   3411],\n",
       "       [    93,     88,     89,   6700],\n",
       "       [    67,     67,     61,  65221],\n",
       "       [    44,     49,     50,   5691],\n",
       "       [    78,     71,     66,   7800],\n",
       "       [    59,     65,     56,   3750]], dtype=int64)"
      ]
     },
     "execution_count": 53,
     "metadata": {},
     "output_type": "execute_result"
    }
   ],
   "source": [
    "x"
   ]
  },
  {
   "cell_type": "code",
   "execution_count": 54,
   "metadata": {},
   "outputs": [
    {
     "data": {
      "text/plain": [
       "array([1, 1, 1, 0, 0, 0, 0, 1, 1, 1, 1, 1, 0, 0, 0, 1, 0, 1, 0, 0, 0, 0,\n",
       "       1, 1, 0, 0, 0, 0, 0, 0, 0, 1, 1, 1, 1, 1, 0, 1, 0, 1, 0, 0, 0, 0,\n",
       "       1, 1, 0, 1, 0, 1, 0])"
      ]
     },
     "execution_count": 54,
     "metadata": {},
     "output_type": "execute_result"
    }
   ],
   "source": [
    "y"
   ]
  },
  {
   "cell_type": "code",
   "execution_count": 55,
   "metadata": {},
   "outputs": [],
   "source": [
    "from sklearn.model_selection import train_test_split\n",
    "x_train,x_test,y_train,y_test=train_test_split(x,y,test_size=0.5,random_state=0)"
   ]
  },
  {
   "cell_type": "code",
   "execution_count": 56,
   "metadata": {},
   "outputs": [
    {
     "data": {
      "text/plain": [
       "RandomForestClassifier(criterion='entropy')"
      ]
     },
     "execution_count": 56,
     "metadata": {},
     "output_type": "execute_result"
    }
   ],
   "source": [
    "from sklearn.ensemble import RandomForestClassifier\n",
    "rf=RandomForestClassifier(n_estimators=100,criterion='entropy')\n",
    "rf.fit(x_train,y_train)"
   ]
  },
  {
   "cell_type": "code",
   "execution_count": 57,
   "metadata": {},
   "outputs": [
    {
     "name": "stdout",
     "output_type": "stream",
     "text": [
      "[1 1 0 0 0 0 0 0 0 1 0 1 0 1 1 0 1 0 1 0 1 0 0 0 0 1]\n"
     ]
    }
   ],
   "source": [
    "y_pred=rf.predict(x_test)\n",
    "print(y_pred)"
   ]
  },
  {
   "cell_type": "code",
   "execution_count": 58,
   "metadata": {},
   "outputs": [
    {
     "data": {
      "text/plain": [
       "array([0])"
      ]
     },
     "execution_count": 58,
     "metadata": {},
     "output_type": "execute_result"
    }
   ],
   "source": [
    "rf=RandomForestClassifier(n_estimators=5,criterion='entropy')\n",
    "rf.fit(x_train,y_train)\n",
    "classes={0:'1',1:'0'}\n",
    "n=[[8,200,100,150]]\n",
    "pred=rf.predict(n)\n",
    "pred"
   ]
  },
  {
   "cell_type": "code",
   "execution_count": 59,
   "metadata": {},
   "outputs": [
    {
     "data": {
      "text/plain": [
       "0.7844645405527362"
      ]
     },
     "execution_count": 59,
     "metadata": {},
     "output_type": "execute_result"
    }
   ],
   "source": [
    "rmse1=np.sqrt(mean_squared_error(y_test,y_pred))\n",
    "rmse1"
   ]
  },
  {
   "cell_type": "code",
   "execution_count": 60,
   "metadata": {},
   "outputs": [
    {
     "name": "stdout",
     "output_type": "stream",
     "text": [
      "0.38461538461538464\n"
     ]
    }
   ],
   "source": [
    "from sklearn import metrics\n",
    "accuracy=metrics.accuracy_score(y_test,y_pred)\n",
    "print(accuracy)"
   ]
  },
  {
   "cell_type": "code",
   "execution_count": 61,
   "metadata": {},
   "outputs": [],
   "source": [
    "count_missclassified1=(y_test!=y_pred).sum()"
   ]
  },
  {
   "cell_type": "code",
   "execution_count": 62,
   "metadata": {},
   "outputs": [
    {
     "name": "stdout",
     "output_type": "stream",
     "text": [
      "16\n"
     ]
    }
   ],
   "source": [
    "print(count_missclassified1)"
   ]
  },
  {
   "cell_type": "code",
   "execution_count": 63,
   "metadata": {},
   "outputs": [
    {
     "name": "stdout",
     "output_type": "stream",
     "text": [
      "[13:57:17] WARNING: C:/Users/Administrator/workspace/xgboost-win64_release_1.4.0/src/learner.cc:1095: Starting in XGBoost 1.3.0, the default evaluation metric used with the objective 'binary:logistic' was changed from 'error' to 'logloss'. Explicitly set eval_metric if you'd like to restore the old behavior.\n"
     ]
    },
    {
     "name": "stderr",
     "output_type": "stream",
     "text": [
      "C:\\Users\\souvik\\anaconda3\\envs\\tensorflow\\lib\\site-packages\\xgboost\\sklearn.py:1146: UserWarning: The use of label encoder in XGBClassifier is deprecated and will be removed in a future release. To remove this warning, do the following: 1) Pass option use_label_encoder=False when constructing XGBClassifier object; and 2) Encode your labels (y) as integers starting with 0, i.e. 0, 1, 2, ..., [num_class - 1].\n",
      "  warnings.warn(label_encoder_deprecation_msg, UserWarning)\n"
     ]
    },
    {
     "data": {
      "text/plain": [
       "array([1, 1, 0, 0, 0, 1, 0, 0, 0, 1, 0, 0, 0, 0, 1, 1, 1, 1, 1, 0, 1, 0,\n",
       "       0, 0, 0, 1])"
      ]
     },
     "execution_count": 63,
     "metadata": {},
     "output_type": "execute_result"
    }
   ],
   "source": [
    "from xgboost.sklearn import XGBClassifier\n",
    "xgbc=XGBClassifier()\n",
    "xgbc.fit(x_train,y_train)\n",
    "xgbpred=xgbc.predict(x_test)\n",
    "xgbpred"
   ]
  },
  {
   "cell_type": "code",
   "execution_count": 64,
   "metadata": {},
   "outputs": [
    {
     "data": {
      "text/plain": [
       "0.8086075400626399"
      ]
     },
     "execution_count": 64,
     "metadata": {},
     "output_type": "execute_result"
    }
   ],
   "source": [
    "error=np.sqrt(mean_squared_error(y_test,xgbpred))\n",
    "error"
   ]
  },
  {
   "cell_type": "code",
   "execution_count": 65,
   "metadata": {},
   "outputs": [
    {
     "data": {
      "text/plain": [
       "0.34615384615384615"
      ]
     },
     "execution_count": 65,
     "metadata": {},
     "output_type": "execute_result"
    }
   ],
   "source": [
    "accur=metrics.accuracy_score(y_test,xgbpred)\n",
    "accur"
   ]
  },
  {
   "cell_type": "code",
   "execution_count": 66,
   "metadata": {},
   "outputs": [
    {
     "data": {
      "text/plain": [
       "17"
      ]
     },
     "execution_count": 66,
     "metadata": {},
     "output_type": "execute_result"
    }
   ],
   "source": [
    "count_missclassified2=(y_test!=xgbpred).sum()\n",
    "count_missclassified2"
   ]
  },
  {
   "cell_type": "code",
   "execution_count": 67,
   "metadata": {},
   "outputs": [
    {
     "data": {
      "text/plain": [
       "DecisionTreeClassifier(criterion='entropy', max_depth=3)"
      ]
     },
     "execution_count": 67,
     "metadata": {},
     "output_type": "execute_result"
    }
   ],
   "source": [
    "from sklearn.tree import DecisionTreeClassifier\n",
    "dtree=DecisionTreeClassifier(criterion='entropy',max_depth=3)\n",
    "dtree.fit(x_train,y_train)\n"
   ]
  },
  {
   "cell_type": "code",
   "execution_count": 68,
   "metadata": {},
   "outputs": [
    {
     "name": "stdout",
     "output_type": "stream",
     "text": [
      "[1 1 0 0 0 0 0 0 0 1 0 1 0 1 1 0 1 0 1 0 1 0 0 0 0 1]\n"
     ]
    }
   ],
   "source": [
    "y_pred1=dtree.predict(x_test)\n",
    "print(y_pred1)"
   ]
  },
  {
   "cell_type": "code",
   "execution_count": 69,
   "metadata": {},
   "outputs": [
    {
     "data": {
      "text/plain": [
       "0.7844645405527362"
      ]
     },
     "execution_count": 69,
     "metadata": {},
     "output_type": "execute_result"
    }
   ],
   "source": [
    "rmse2=np.sqrt(mean_squared_error(y_test,y_pred1))\n",
    "rmse2"
   ]
  },
  {
   "cell_type": "code",
   "execution_count": 70,
   "metadata": {},
   "outputs": [
    {
     "name": "stdout",
     "output_type": "stream",
     "text": [
      "0.38461538461538464\n"
     ]
    }
   ],
   "source": [
    "accuracy1=metrics.accuracy_score(y_test,y_pred1)\n",
    "print(accuracy1)"
   ]
  },
  {
   "cell_type": "code",
   "execution_count": 71,
   "metadata": {},
   "outputs": [
    {
     "name": "stdout",
     "output_type": "stream",
     "text": [
      "16\n"
     ]
    }
   ],
   "source": [
    "count_missclassified3=(y_test!=y_pred1).sum()\n",
    "print(count_missclassified3)"
   ]
  },
  {
   "cell_type": "code",
   "execution_count": 72,
   "metadata": {},
   "outputs": [
    {
     "data": {
      "text/plain": [
       "<matplotlib.legend.Legend at 0x248327b5348>"
      ]
     },
     "execution_count": 72,
     "metadata": {},
     "output_type": "execute_result"
    },
    {
     "data": {
      "image/png": "[encoded data removed]",
      "text/plain": [
       "<Figure size 720x720 with 1 Axes>"
      ]
     },
     "metadata": {
      "needs_background": "light"
     },
     "output_type": "display_data"
    }
   ],
   "source": [
    "from sklearn.neighbors import KNeighborsClassifier\n",
    "k_range=range(1,10)\n",
    "scores={}\n",
    "score_list=[]\n",
    "training_accuracy=[]\n",
    "test_accuracy=[]\n",
    "for i in k_range:\n",
    "    knn=KNeighborsClassifier(n_neighbors=i)\n",
    "    knn.fit(x_train,y_train)\n",
    "    training_accuracy.append(knn.score(x_train,y_train))\n",
    "    test_accuracy.append(knn.score(x_test,y_test))\n",
    "    y_pred3=knn.predict(x_test)\n",
    "    scores[i]=metrics.accuracy_score(y_test,y_pred3)\n",
    "    score_list.append(metrics.accuracy_score(y_test,y_pred1))\n",
    "plt.figure(figsize=(10,10))\n",
    "plt.plot(k_range,training_accuracy,label=\"training accuracy\")\n",
    "plt.plot(k_range,test_accuracy,label=\"test accuracy\")\n",
    "plt.xlabel(\"range of n_neighbors\")\n",
    "plt.xlabel(\"accuracy\")\n",
    "plt.legend()"
   ]
  },
  {
   "cell_type": "code",
   "execution_count": 73,
   "metadata": {},
   "outputs": [
    {
     "data": {
      "text/plain": [
       "{1: 0.5,\n",
       " 2: 0.5,\n",
       " 3: 0.46153846153846156,\n",
       " 4: 0.5,\n",
       " 5: 0.5,\n",
       " 6: 0.5384615384615384,\n",
       " 7: 0.5384615384615384,\n",
       " 8: 0.5384615384615384,\n",
       " 9: 0.5}"
      ]
     },
     "execution_count": 73,
     "metadata": {},
     "output_type": "execute_result"
    }
   ],
   "source": [
    "scores"
   ]
  },
  {
   "cell_type": "code",
   "execution_count": 74,
   "metadata": {},
   "outputs": [
    {
     "name": "stdout",
     "output_type": "stream",
     "text": [
      "0.5\n"
     ]
    }
   ],
   "source": [
    "accuracy3=metrics.accuracy_score(y_test,y_pred3)\n",
    "print(accuracy3)"
   ]
  },
  {
   "cell_type": "code",
   "execution_count": 75,
   "metadata": {},
   "outputs": [
    {
     "data": {
      "image/png": "[encoded data removed]",
      "text/plain": [
       "<Figure size 432x288 with 1 Axes>"
      ]
     },
     "metadata": {
      "needs_background": "light"
     },
     "output_type": "display_data"
    }
   ],
   "source": [
    "plt.plot(k_range,score_list)\n",
    "plt.show()"
   ]
  },
  {
   "cell_type": "code",
   "execution_count": 76,
   "metadata": {},
   "outputs": [
    {
     "data": {
      "text/plain": [
       "KNeighborsClassifier(n_neighbors=3)"
      ]
     },
     "execution_count": 76,
     "metadata": {},
     "output_type": "execute_result"
    }
   ],
   "source": [
    "knn=KNeighborsClassifier(n_neighbors=3)\n",
    "knn.fit(x,y)"
   ]
  },
  {
   "cell_type": "code",
   "execution_count": 77,
   "metadata": {},
   "outputs": [
    {
     "name": "stdout",
     "output_type": "stream",
     "text": [
      "[0]\n"
     ]
    }
   ],
   "source": [
    "classes={0:'applicable'}\n",
    "n=[[84,84,89,67000]]\n",
    "pred=knn.predict(n)\n",
    "print(pred)"
   ]
  },
  {
   "cell_type": "code",
   "execution_count": 78,
   "metadata": {},
   "outputs": [
    {
     "data": {
      "text/html": [
       "<div>\n",
       "<style scoped>\n",
       "    .dataframe tbody tr th:only-of-type {\n",
       "        vertical-align: middle;\n",
       "    }\n",
       "\n",
       "    .dataframe tbody tr th {\n",
       "        vertical-align: top;\n",
       "    }\n",
       "\n",
       "    .dataframe thead th {\n",
       "        text-align: right;\n",
       "    }\n",
       "</style>\n",
       "<table border=\"1\" class=\"dataframe\">\n",
       "  <thead>\n",
       "    <tr style=\"text-align: right;\">\n",
       "      <th></th>\n",
       "      <th>s_id</th>\n",
       "      <th>sc_%</th>\n",
       "      <th>hsc_%</th>\n",
       "      <th>ent_%</th>\n",
       "      <th>l_6_m</th>\n",
       "      <th>applicable</th>\n",
       "    </tr>\n",
       "  </thead>\n",
       "  <tbody>\n",
       "    <tr>\n",
       "      <th>0</th>\n",
       "      <td>1</td>\n",
       "      <td>73</td>\n",
       "      <td>64</td>\n",
       "      <td>32</td>\n",
       "      <td>200000</td>\n",
       "      <td>1</td>\n",
       "    </tr>\n",
       "    <tr>\n",
       "      <th>1</th>\n",
       "      <td>2</td>\n",
       "      <td>61</td>\n",
       "      <td>61</td>\n",
       "      <td>55</td>\n",
       "      <td>200000</td>\n",
       "      <td>1</td>\n",
       "    </tr>\n",
       "    <tr>\n",
       "      <th>2</th>\n",
       "      <td>3</td>\n",
       "      <td>61</td>\n",
       "      <td>73</td>\n",
       "      <td>71</td>\n",
       "      <td>25000</td>\n",
       "      <td>1</td>\n",
       "    </tr>\n",
       "    <tr>\n",
       "      <th>3</th>\n",
       "      <td>4</td>\n",
       "      <td>84</td>\n",
       "      <td>84</td>\n",
       "      <td>89</td>\n",
       "      <td>67000</td>\n",
       "      <td>0</td>\n",
       "    </tr>\n",
       "    <tr>\n",
       "      <th>4</th>\n",
       "      <td>5</td>\n",
       "      <td>92</td>\n",
       "      <td>67</td>\n",
       "      <td>53</td>\n",
       "      <td>6000</td>\n",
       "      <td>0</td>\n",
       "    </tr>\n",
       "  </tbody>\n",
       "</table>\n",
       "</div>"
      ],
      "text/plain": [
       "   s_id  sc_%  hsc_%  ent_%   l_6_m  applicable\n",
       "0     1    73     64     32  200000           1\n",
       "1     2    61     61     55  200000           1\n",
       "2     3    61     73     71   25000           1\n",
       "3     4    84     84     89   67000           0\n",
       "4     5    92     67     53    6000           0"
      ]
     },
     "execution_count": 78,
     "metadata": {},
     "output_type": "execute_result"
    }
   ],
   "source": [
    "dataset3.head()"
   ]
  },
  {
   "cell_type": "code",
   "execution_count": 79,
   "metadata": {},
   "outputs": [
    {
     "name": "stderr",
     "output_type": "stream",
     "text": [
      "Using TensorFlow backend.\n"
     ]
    }
   ],
   "source": [
    "from keras.models import Sequential\n",
    "from keras.layers import Dense\n",
    "from keras.utils import np_utils\n",
    "from sklearn.preprocessing import LabelEncoder\n",
    "from sklearn.model_selection import KFold\n",
    "from keras.wrappers.scikit_learn import KerasClassifier\n",
    "from keras.utils import np_utils"
   ]
  },
  {
   "cell_type": "code",
   "execution_count": 80,
   "metadata": {},
   "outputs": [
    {
     "data": {
      "text/html": [
       "<div>\n",
       "<style scoped>\n",
       "    .dataframe tbody tr th:only-of-type {\n",
       "        vertical-align: middle;\n",
       "    }\n",
       "\n",
       "    .dataframe tbody tr th {\n",
       "        vertical-align: top;\n",
       "    }\n",
       "\n",
       "    .dataframe thead th {\n",
       "        text-align: right;\n",
       "    }\n",
       "</style>\n",
       "<table border=\"1\" class=\"dataframe\">\n",
       "  <thead>\n",
       "    <tr style=\"text-align: right;\">\n",
       "      <th></th>\n",
       "      <th>sc_%</th>\n",
       "      <th>hsc_%</th>\n",
       "      <th>ent_%</th>\n",
       "      <th>l_6_m</th>\n",
       "    </tr>\n",
       "  </thead>\n",
       "  <tbody>\n",
       "    <tr>\n",
       "      <th>0</th>\n",
       "      <td>73</td>\n",
       "      <td>64</td>\n",
       "      <td>32</td>\n",
       "      <td>200000</td>\n",
       "    </tr>\n",
       "    <tr>\n",
       "      <th>1</th>\n",
       "      <td>61</td>\n",
       "      <td>61</td>\n",
       "      <td>55</td>\n",
       "      <td>200000</td>\n",
       "    </tr>\n",
       "    <tr>\n",
       "      <th>2</th>\n",
       "      <td>61</td>\n",
       "      <td>73</td>\n",
       "      <td>71</td>\n",
       "      <td>25000</td>\n",
       "    </tr>\n",
       "    <tr>\n",
       "      <th>3</th>\n",
       "      <td>84</td>\n",
       "      <td>84</td>\n",
       "      <td>89</td>\n",
       "      <td>67000</td>\n",
       "    </tr>\n",
       "    <tr>\n",
       "      <th>4</th>\n",
       "      <td>92</td>\n",
       "      <td>67</td>\n",
       "      <td>53</td>\n",
       "      <td>6000</td>\n",
       "    </tr>\n",
       "    <tr>\n",
       "      <th>5</th>\n",
       "      <td>43</td>\n",
       "      <td>43</td>\n",
       "      <td>56</td>\n",
       "      <td>100000</td>\n",
       "    </tr>\n",
       "    <tr>\n",
       "      <th>6</th>\n",
       "      <td>71</td>\n",
       "      <td>71</td>\n",
       "      <td>55</td>\n",
       "      <td>250000</td>\n",
       "    </tr>\n",
       "    <tr>\n",
       "      <th>7</th>\n",
       "      <td>44</td>\n",
       "      <td>44</td>\n",
       "      <td>55</td>\n",
       "      <td>41000</td>\n",
       "    </tr>\n",
       "    <tr>\n",
       "      <th>8</th>\n",
       "      <td>45</td>\n",
       "      <td>55</td>\n",
       "      <td>55</td>\n",
       "      <td>2000</td>\n",
       "    </tr>\n",
       "    <tr>\n",
       "      <th>9</th>\n",
       "      <td>67</td>\n",
       "      <td>67</td>\n",
       "      <td>55</td>\n",
       "      <td>7700</td>\n",
       "    </tr>\n",
       "    <tr>\n",
       "      <th>10</th>\n",
       "      <td>96</td>\n",
       "      <td>96</td>\n",
       "      <td>55</td>\n",
       "      <td>100000</td>\n",
       "    </tr>\n",
       "    <tr>\n",
       "      <th>11</th>\n",
       "      <td>43</td>\n",
       "      <td>67</td>\n",
       "      <td>55</td>\n",
       "      <td>25670</td>\n",
       "    </tr>\n",
       "    <tr>\n",
       "      <th>12</th>\n",
       "      <td>55</td>\n",
       "      <td>81</td>\n",
       "      <td>67</td>\n",
       "      <td>8350</td>\n",
       "    </tr>\n",
       "    <tr>\n",
       "      <th>13</th>\n",
       "      <td>62</td>\n",
       "      <td>62</td>\n",
       "      <td>78</td>\n",
       "      <td>210</td>\n",
       "    </tr>\n",
       "    <tr>\n",
       "      <th>14</th>\n",
       "      <td>68</td>\n",
       "      <td>68</td>\n",
       "      <td>42</td>\n",
       "      <td>70000</td>\n",
       "    </tr>\n",
       "    <tr>\n",
       "      <th>15</th>\n",
       "      <td>87</td>\n",
       "      <td>77</td>\n",
       "      <td>78</td>\n",
       "      <td>12000</td>\n",
       "    </tr>\n",
       "    <tr>\n",
       "      <th>16</th>\n",
       "      <td>79</td>\n",
       "      <td>79</td>\n",
       "      <td>33</td>\n",
       "      <td>30004</td>\n",
       "    </tr>\n",
       "    <tr>\n",
       "      <th>17</th>\n",
       "      <td>59</td>\n",
       "      <td>60</td>\n",
       "      <td>43</td>\n",
       "      <td>3400</td>\n",
       "    </tr>\n",
       "    <tr>\n",
       "      <th>18</th>\n",
       "      <td>81</td>\n",
       "      <td>69</td>\n",
       "      <td>70</td>\n",
       "      <td>2100</td>\n",
       "    </tr>\n",
       "    <tr>\n",
       "      <th>19</th>\n",
       "      <td>81</td>\n",
       "      <td>81</td>\n",
       "      <td>80</td>\n",
       "      <td>2100</td>\n",
       "    </tr>\n",
       "    <tr>\n",
       "      <th>20</th>\n",
       "      <td>77</td>\n",
       "      <td>77</td>\n",
       "      <td>71</td>\n",
       "      <td>2700</td>\n",
       "    </tr>\n",
       "    <tr>\n",
       "      <th>21</th>\n",
       "      <td>96</td>\n",
       "      <td>92</td>\n",
       "      <td>90</td>\n",
       "      <td>4200</td>\n",
       "    </tr>\n",
       "    <tr>\n",
       "      <th>22</th>\n",
       "      <td>95</td>\n",
       "      <td>87</td>\n",
       "      <td>63</td>\n",
       "      <td>4455</td>\n",
       "    </tr>\n",
       "    <tr>\n",
       "      <th>23</th>\n",
       "      <td>65</td>\n",
       "      <td>65</td>\n",
       "      <td>67</td>\n",
       "      <td>8800</td>\n",
       "    </tr>\n",
       "    <tr>\n",
       "      <th>24</th>\n",
       "      <td>66</td>\n",
       "      <td>61</td>\n",
       "      <td>49</td>\n",
       "      <td>3400</td>\n",
       "    </tr>\n",
       "    <tr>\n",
       "      <th>25</th>\n",
       "      <td>76</td>\n",
       "      <td>81</td>\n",
       "      <td>53</td>\n",
       "      <td>20000</td>\n",
       "    </tr>\n",
       "    <tr>\n",
       "      <th>26</th>\n",
       "      <td>83</td>\n",
       "      <td>80</td>\n",
       "      <td>41</td>\n",
       "      <td>23500</td>\n",
       "    </tr>\n",
       "    <tr>\n",
       "      <th>27</th>\n",
       "      <td>58</td>\n",
       "      <td>86</td>\n",
       "      <td>41</td>\n",
       "      <td>22900</td>\n",
       "    </tr>\n",
       "    <tr>\n",
       "      <th>28</th>\n",
       "      <td>88</td>\n",
       "      <td>45</td>\n",
       "      <td>41</td>\n",
       "      <td>1200</td>\n",
       "    </tr>\n",
       "    <tr>\n",
       "      <th>29</th>\n",
       "      <td>87</td>\n",
       "      <td>56</td>\n",
       "      <td>41</td>\n",
       "      <td>350</td>\n",
       "    </tr>\n",
       "    <tr>\n",
       "      <th>30</th>\n",
       "      <td>87</td>\n",
       "      <td>87</td>\n",
       "      <td>89</td>\n",
       "      <td>470</td>\n",
       "    </tr>\n",
       "    <tr>\n",
       "      <th>31</th>\n",
       "      <td>87</td>\n",
       "      <td>87</td>\n",
       "      <td>94</td>\n",
       "      <td>33445</td>\n",
       "    </tr>\n",
       "    <tr>\n",
       "      <th>32</th>\n",
       "      <td>91</td>\n",
       "      <td>91</td>\n",
       "      <td>92</td>\n",
       "      <td>32975</td>\n",
       "    </tr>\n",
       "    <tr>\n",
       "      <th>33</th>\n",
       "      <td>90</td>\n",
       "      <td>78</td>\n",
       "      <td>91</td>\n",
       "      <td>81000</td>\n",
       "    </tr>\n",
       "    <tr>\n",
       "      <th>34</th>\n",
       "      <td>76</td>\n",
       "      <td>61</td>\n",
       "      <td>77</td>\n",
       "      <td>3490</td>\n",
       "    </tr>\n",
       "    <tr>\n",
       "      <th>35</th>\n",
       "      <td>60</td>\n",
       "      <td>60</td>\n",
       "      <td>23</td>\n",
       "      <td>4355</td>\n",
       "    </tr>\n",
       "    <tr>\n",
       "      <th>36</th>\n",
       "      <td>50</td>\n",
       "      <td>50</td>\n",
       "      <td>34</td>\n",
       "      <td>4500</td>\n",
       "    </tr>\n",
       "    <tr>\n",
       "      <th>37</th>\n",
       "      <td>82</td>\n",
       "      <td>85</td>\n",
       "      <td>89</td>\n",
       "      <td>7000</td>\n",
       "    </tr>\n",
       "    <tr>\n",
       "      <th>38</th>\n",
       "      <td>77</td>\n",
       "      <td>72</td>\n",
       "      <td>79</td>\n",
       "      <td>8175</td>\n",
       "    </tr>\n",
       "    <tr>\n",
       "      <th>39</th>\n",
       "      <td>67</td>\n",
       "      <td>67</td>\n",
       "      <td>76</td>\n",
       "      <td>2321</td>\n",
       "    </tr>\n",
       "    <tr>\n",
       "      <th>40</th>\n",
       "      <td>89</td>\n",
       "      <td>89</td>\n",
       "      <td>69</td>\n",
       "      <td>4987</td>\n",
       "    </tr>\n",
       "    <tr>\n",
       "      <th>41</th>\n",
       "      <td>54</td>\n",
       "      <td>55</td>\n",
       "      <td>38</td>\n",
       "      <td>5000</td>\n",
       "    </tr>\n",
       "    <tr>\n",
       "      <th>42</th>\n",
       "      <td>64</td>\n",
       "      <td>64</td>\n",
       "      <td>65</td>\n",
       "      <td>56000</td>\n",
       "    </tr>\n",
       "    <tr>\n",
       "      <th>43</th>\n",
       "      <td>71</td>\n",
       "      <td>60</td>\n",
       "      <td>77</td>\n",
       "      <td>41000</td>\n",
       "    </tr>\n",
       "    <tr>\n",
       "      <th>44</th>\n",
       "      <td>70</td>\n",
       "      <td>70</td>\n",
       "      <td>70</td>\n",
       "      <td>4476</td>\n",
       "    </tr>\n",
       "    <tr>\n",
       "      <th>45</th>\n",
       "      <td>83</td>\n",
       "      <td>83</td>\n",
       "      <td>83</td>\n",
       "      <td>3411</td>\n",
       "    </tr>\n",
       "    <tr>\n",
       "      <th>46</th>\n",
       "      <td>93</td>\n",
       "      <td>88</td>\n",
       "      <td>89</td>\n",
       "      <td>6700</td>\n",
       "    </tr>\n",
       "    <tr>\n",
       "      <th>47</th>\n",
       "      <td>67</td>\n",
       "      <td>67</td>\n",
       "      <td>61</td>\n",
       "      <td>65221</td>\n",
       "    </tr>\n",
       "    <tr>\n",
       "      <th>48</th>\n",
       "      <td>44</td>\n",
       "      <td>49</td>\n",
       "      <td>50</td>\n",
       "      <td>5691</td>\n",
       "    </tr>\n",
       "    <tr>\n",
       "      <th>49</th>\n",
       "      <td>78</td>\n",
       "      <td>71</td>\n",
       "      <td>66</td>\n",
       "      <td>7800</td>\n",
       "    </tr>\n",
       "    <tr>\n",
       "      <th>50</th>\n",
       "      <td>59</td>\n",
       "      <td>65</td>\n",
       "      <td>56</td>\n",
       "      <td>3750</td>\n",
       "    </tr>\n",
       "  </tbody>\n",
       "</table>\n",
       "</div>"
      ],
      "text/plain": [
       "    sc_%  hsc_%  ent_%   l_6_m\n",
       "0     73     64     32  200000\n",
       "1     61     61     55  200000\n",
       "2     61     73     71   25000\n",
       "3     84     84     89   67000\n",
       "4     92     67     53    6000\n",
       "5     43     43     56  100000\n",
       "6     71     71     55  250000\n",
       "7     44     44     55   41000\n",
       "8     45     55     55    2000\n",
       "9     67     67     55    7700\n",
       "10    96     96     55  100000\n",
       "11    43     67     55   25670\n",
       "12    55     81     67    8350\n",
       "13    62     62     78     210\n",
       "14    68     68     42   70000\n",
       "15    87     77     78   12000\n",
       "16    79     79     33   30004\n",
       "17    59     60     43    3400\n",
       "18    81     69     70    2100\n",
       "19    81     81     80    2100\n",
       "20    77     77     71    2700\n",
       "21    96     92     90    4200\n",
       "22    95     87     63    4455\n",
       "23    65     65     67    8800\n",
       "24    66     61     49    3400\n",
       "25    76     81     53   20000\n",
       "26    83     80     41   23500\n",
       "27    58     86     41   22900\n",
       "28    88     45     41    1200\n",
       "29    87     56     41     350\n",
       "30    87     87     89     470\n",
       "31    87     87     94   33445\n",
       "32    91     91     92   32975\n",
       "33    90     78     91   81000\n",
       "34    76     61     77    3490\n",
       "35    60     60     23    4355\n",
       "36    50     50     34    4500\n",
       "37    82     85     89    7000\n",
       "38    77     72     79    8175\n",
       "39    67     67     76    2321\n",
       "40    89     89     69    4987\n",
       "41    54     55     38    5000\n",
       "42    64     64     65   56000\n",
       "43    71     60     77   41000\n",
       "44    70     70     70    4476\n",
       "45    83     83     83    3411\n",
       "46    93     88     89    6700\n",
       "47    67     67     61   65221\n",
       "48    44     49     50    5691\n",
       "49    78     71     66    7800\n",
       "50    59     65     56    3750"
      ]
     },
     "execution_count": 80,
     "metadata": {},
     "output_type": "execute_result"
    }
   ],
   "source": [
    "x=dataset3.iloc[:,1:5]\n",
    "y=dataset3.iloc[:,-1]\n",
    "x"
   ]
  },
  {
   "cell_type": "code",
   "execution_count": 81,
   "metadata": {},
   "outputs": [
    {
     "data": {
      "text/plain": [
       "0     1\n",
       "1     1\n",
       "2     1\n",
       "3     0\n",
       "4     0\n",
       "5     0\n",
       "6     0\n",
       "7     1\n",
       "8     1\n",
       "9     1\n",
       "10    1\n",
       "11    1\n",
       "12    0\n",
       "13    0\n",
       "14    0\n",
       "15    1\n",
       "16    0\n",
       "17    1\n",
       "18    0\n",
       "19    0\n",
       "20    0\n",
       "21    0\n",
       "22    1\n",
       "23    1\n",
       "24    0\n",
       "25    0\n",
       "26    0\n",
       "27    0\n",
       "28    0\n",
       "29    0\n",
       "30    0\n",
       "31    1\n",
       "32    1\n",
       "33    1\n",
       "34    1\n",
       "35    1\n",
       "36    0\n",
       "37    1\n",
       "38    0\n",
       "39    1\n",
       "40    0\n",
       "41    0\n",
       "42    0\n",
       "43    0\n",
       "44    1\n",
       "45    1\n",
       "46    0\n",
       "47    1\n",
       "48    0\n",
       "49    1\n",
       "50    0\n",
       "Name: applicable, dtype: int32"
      ]
     },
     "execution_count": 81,
     "metadata": {},
     "output_type": "execute_result"
    }
   ],
   "source": [
    "y"
   ]
  },
  {
   "cell_type": "code",
   "execution_count": 82,
   "metadata": {},
   "outputs": [],
   "source": [
    "encoder=LabelEncoder()\n",
    "encoder.fit(y)\n",
    "encoded_y=encoder.transform(y)\n",
    "dummy_y=np_utils.to_categorical(encoded_y)"
   ]
  },
  {
   "cell_type": "code",
   "execution_count": 83,
   "metadata": {},
   "outputs": [
    {
     "data": {
      "text/plain": [
       "array([[0., 1.],\n",
       "       [0., 1.],\n",
       "       [0., 1.],\n",
       "       [1., 0.],\n",
       "       [1., 0.],\n",
       "       [1., 0.],\n",
       "       [1., 0.],\n",
       "       [0., 1.],\n",
       "       [0., 1.],\n",
       "       [0., 1.],\n",
       "       [0., 1.],\n",
       "       [0., 1.],\n",
       "       [1., 0.],\n",
       "       [1., 0.],\n",
       "       [1., 0.],\n",
       "       [0., 1.],\n",
       "       [1., 0.],\n",
       "       [0., 1.],\n",
       "       [1., 0.],\n",
       "       [1., 0.],\n",
       "       [1., 0.],\n",
       "       [1., 0.],\n",
       "       [0., 1.],\n",
       "       [0., 1.],\n",
       "       [1., 0.],\n",
       "       [1., 0.],\n",
       "       [1., 0.],\n",
       "       [1., 0.],\n",
       "       [1., 0.],\n",
       "       [1., 0.],\n",
       "       [1., 0.],\n",
       "       [0., 1.],\n",
       "       [0., 1.],\n",
       "       [0., 1.],\n",
       "       [0., 1.],\n",
       "       [0., 1.],\n",
       "       [1., 0.],\n",
       "       [0., 1.],\n",
       "       [1., 0.],\n",
       "       [0., 1.],\n",
       "       [1., 0.],\n",
       "       [1., 0.],\n",
       "       [1., 0.],\n",
       "       [1., 0.],\n",
       "       [0., 1.],\n",
       "       [0., 1.],\n",
       "       [1., 0.],\n",
       "       [0., 1.],\n",
       "       [1., 0.],\n",
       "       [0., 1.],\n",
       "       [1., 0.]], dtype=float32)"
      ]
     },
     "execution_count": 83,
     "metadata": {},
     "output_type": "execute_result"
    }
   ],
   "source": [
    "dummy_y"
   ]
  },
  {
   "cell_type": "code",
   "execution_count": 84,
   "metadata": {},
   "outputs": [],
   "source": [
    "from keras.callbacks import EarlyStopping\n",
    "def baseline_model():\n",
    "    model=Sequential()\n",
    "    model.add(Dense(8,input_dim=4,activation='relu'))\n",
    "    model.add(Dense(2,activation='softmax'))\n",
    "    model.compile(loss='categorical_crossentropy', optimizer='adam',metrics=['accuracy'])\n",
    "    return model\n",
    "\n",
    "\n"
   ]
  },
  {
   "cell_type": "code",
   "execution_count": 85,
   "metadata": {},
   "outputs": [],
   "source": [
    "estimator=KerasClassifier(build_fn=baseline_model,epochs=100,batch_size=5,verbose=0)"
   ]
  },
  {
   "cell_type": "code",
   "execution_count": 86,
   "metadata": {},
   "outputs": [],
   "source": [
    "Kfold=KFold(n_splits=10,shuffle=True)"
   ]
  },
  {
   "cell_type": "code",
   "execution_count": 87,
   "metadata": {},
   "outputs": [],
   "source": [
    "from sklearn.model_selection import cross_val_score\n",
    "results=cross_val_score(estimator,x,dummy_y,cv=Kfold)"
   ]
  },
  {
   "cell_type": "code",
   "execution_count": 88,
   "metadata": {},
   "outputs": [
    {
     "name": "stdout",
     "output_type": "stream",
     "text": [
      "Accuracy: 43.33% (19.83%)\n"
     ]
    }
   ],
   "source": [
    "print(\"Accuracy: %.2f%% (%.2f%%)\" % (results.mean()*100, results.std()*100))"
   ]
  },
  {
   "cell_type": "code",
   "execution_count": 89,
   "metadata": {},
   "outputs": [],
   "source": [
    "x_train,x_test,y_train,y_test=train_test_split(x,dummy_y,test_size=0.2,random_state=0)"
   ]
  },
  {
   "cell_type": "code",
   "execution_count": 90,
   "metadata": {},
   "outputs": [],
   "source": [
    "results1=cross_val_score(estimator,x_train,y_train,cv=Kfold)"
   ]
  },
  {
   "cell_type": "code",
   "execution_count": 91,
   "metadata": {},
   "outputs": [
    {
     "name": "stdout",
     "output_type": "stream",
     "text": [
      "Accuracy: 37.50% (23.05%)\n"
     ]
    }
   ],
   "source": [
    "print(\"Accuracy: %.2f%% (%.2f%%)\" % (results1.mean()*100, results1.std()*100))"
   ]
  },
  {
   "cell_type": "code",
   "execution_count": 92,
   "metadata": {},
   "outputs": [],
   "source": [
    "x_train,x_test,y_train,y_test=train_test_split(x,dummy_y,test_size=0.3,random_state=3)"
   ]
  },
  {
   "cell_type": "code",
   "execution_count": 93,
   "metadata": {},
   "outputs": [],
   "source": [
    "from keras.layers import Dense, Activation,Dropout\n",
    "from keras.layers.advanced_activations import LeakyReLU\n",
    "model=Sequential()\n",
    "model.add(Dense(8,input_dim=4,activation='relu'))\n",
    "model.add(Dropout(0.25))\n",
    "model.add(LeakyReLU(0.1))\n",
    "model.add(Dense(2,activation='softmax'))\n",
    "model.compile(loss='categorical_crossentropy', optimizer='adam',metrics=['accuracy'])"
   ]
  },
  {
   "cell_type": "code",
   "execution_count": 94,
   "metadata": {},
   "outputs": [],
   "source": [
    "es = EarlyStopping(monitor='val_loss', mode='min', verbose=0, patience=2)"
   ]
  },
  {
   "cell_type": "code",
   "execution_count": 95,
   "metadata": {},
   "outputs": [
    {
     "name": "stdout",
     "output_type": "stream",
     "text": [
      "Train on 35 samples, validate on 16 samples\n",
      "Epoch 1/20\n",
      "35/35 [==============================] - 0s 7ms/step - loss: 6744.1993 - accuracy: 0.4857 - val_loss: 1476.7814 - val_accuracy: 0.5625\n",
      "Epoch 2/20\n",
      "35/35 [==============================] - 0s 114us/step - loss: 5845.1188 - accuracy: 0.4571 - val_loss: 1441.7041 - val_accuracy: 0.5625\n",
      "Epoch 3/20\n",
      "35/35 [==============================] - 0s 436us/step - loss: 3877.4491 - accuracy: 0.5143 - val_loss: 1413.4302 - val_accuracy: 0.5625\n",
      "Epoch 4/20\n",
      "35/35 [==============================] - 0s 350us/step - loss: 3478.5873 - accuracy: 0.6571 - val_loss: 1384.3831 - val_accuracy: 0.5625\n",
      "Epoch 5/20\n",
      "35/35 [==============================] - 0s 408us/step - loss: 5337.2000 - accuracy: 0.5143 - val_loss: 1352.8882 - val_accuracy: 0.5625\n",
      "Epoch 6/20\n",
      "35/35 [==============================] - 0s 235us/step - loss: 8450.3509 - accuracy: 0.4571 - val_loss: 1319.7302 - val_accuracy: 0.5625\n",
      "Epoch 7/20\n",
      "35/35 [==============================] - 0s 272us/step - loss: 7061.7564 - accuracy: 0.4286 - val_loss: 1279.2686 - val_accuracy: 0.5625\n",
      "Epoch 8/20\n",
      "35/35 [==============================] - 0s 255us/step - loss: 4367.2088 - accuracy: 0.4286 - val_loss: 1237.8287 - val_accuracy: 0.5625\n",
      "Epoch 9/20\n",
      "35/35 [==============================] - 0s 390us/step - loss: 4730.4975 - accuracy: 0.3429 - val_loss: 1196.5924 - val_accuracy: 0.5625\n",
      "Epoch 10/20\n",
      "35/35 [==============================] - 0s 355us/step - loss: 8361.1919 - accuracy: 0.4286 - val_loss: 1153.8734 - val_accuracy: 0.5625\n",
      "Epoch 11/20\n",
      "35/35 [==============================] - 0s 407us/step - loss: 4363.3428 - accuracy: 0.5429 - val_loss: 1111.7953 - val_accuracy: 0.5625\n",
      "Epoch 12/20\n",
      "35/35 [==============================] - 0s 229us/step - loss: 4962.6786 - accuracy: 0.4571 - val_loss: 1073.0854 - val_accuracy: 0.5625\n",
      "Epoch 13/20\n",
      "35/35 [==============================] - 0s 283us/step - loss: 3884.6424 - accuracy: 0.5143 - val_loss: 1038.5354 - val_accuracy: 0.5625\n",
      "Epoch 14/20\n",
      "35/35 [==============================] - 0s 465us/step - loss: 4632.0509 - accuracy: 0.5714 - val_loss: 1010.4740 - val_accuracy: 0.5625\n",
      "Epoch 15/20\n",
      "35/35 [==============================] - 0s 303us/step - loss: 6251.2497 - accuracy: 0.3143 - val_loss: 988.9009 - val_accuracy: 0.5625\n",
      "Epoch 16/20\n",
      "35/35 [==============================] - 0s 237us/step - loss: 2003.2306 - accuracy: 0.6571 - val_loss: 968.3532 - val_accuracy: 0.5625\n",
      "Epoch 17/20\n",
      "35/35 [==============================] - 0s 311us/step - loss: 4455.9234 - accuracy: 0.5143 - val_loss: 943.8779 - val_accuracy: 0.5625\n",
      "Epoch 18/20\n",
      "35/35 [==============================] - 0s 328us/step - loss: 3707.8579 - accuracy: 0.4286 - val_loss: 919.4017 - val_accuracy: 0.5625\n",
      "Epoch 19/20\n",
      "35/35 [==============================] - 0s 337us/step - loss: 2606.7108 - accuracy: 0.5143 - val_loss: 896.7018 - val_accuracy: 0.5625\n",
      "Epoch 20/20\n",
      "35/35 [==============================] - 0s 335us/step - loss: 6177.0284 - accuracy: 0.5143 - val_loss: 872.9093 - val_accuracy: 0.5625\n"
     ]
    }
   ],
   "source": [
    "history = model.fit(x_train, y_train, epochs=20, batch_size=32, validation_data=(x_test, y_test), callbacks=[es])"
   ]
  },
  {
   "cell_type": "code",
   "execution_count": 96,
   "metadata": {},
   "outputs": [
    {
     "data": {
      "image/png": "[encoded data removed]",
      "text/plain": [
       "<Figure size 432x288 with 1 Axes>"
      ]
     },
     "metadata": {
      "needs_background": "light"
     },
     "output_type": "display_data"
    }
   ],
   "source": [
    "plt.plot(history.history['accuracy'])\n",
    "plt.plot(history.history['val_accuracy'])\n",
    "plt.show() "
   ]
  },
  {
   "cell_type": "code",
   "execution_count": 97,
   "metadata": {},
   "outputs": [
    {
     "data": {
      "image/png": "[encoded data removed]",
      "text/plain": [
       "<Figure size 432x288 with 1 Axes>"
      ]
     },
     "metadata": {
      "needs_background": "light"
     },
     "output_type": "display_data"
    }
   ],
   "source": [
    "plt.plot(history.history['loss'])\n",
    "plt.plot(history.history['val_loss'])\n",
    "plt.show()"
   ]
  },
  {
   "cell_type": "code",
   "execution_count": 98,
   "metadata": {},
   "outputs": [
    {
     "data": {
      "text/html": [
       "<div>\n",
       "<style scoped>\n",
       "    .dataframe tbody tr th:only-of-type {\n",
       "        vertical-align: middle;\n",
       "    }\n",
       "\n",
       "    .dataframe tbody tr th {\n",
       "        vertical-align: top;\n",
       "    }\n",
       "\n",
       "    .dataframe thead th {\n",
       "        text-align: right;\n",
       "    }\n",
       "</style>\n",
       "<table border=\"1\" class=\"dataframe\">\n",
       "  <thead>\n",
       "    <tr style=\"text-align: right;\">\n",
       "      <th></th>\n",
       "      <th>s_id</th>\n",
       "      <th>sc_%</th>\n",
       "      <th>hsc_%</th>\n",
       "      <th>ent_%</th>\n",
       "      <th>l_6_m</th>\n",
       "      <th>applicable</th>\n",
       "    </tr>\n",
       "  </thead>\n",
       "  <tbody>\n",
       "    <tr>\n",
       "      <th>0</th>\n",
       "      <td>1</td>\n",
       "      <td>73</td>\n",
       "      <td>64</td>\n",
       "      <td>32</td>\n",
       "      <td>200000</td>\n",
       "      <td>1</td>\n",
       "    </tr>\n",
       "    <tr>\n",
       "      <th>1</th>\n",
       "      <td>2</td>\n",
       "      <td>61</td>\n",
       "      <td>61</td>\n",
       "      <td>55</td>\n",
       "      <td>200000</td>\n",
       "      <td>1</td>\n",
       "    </tr>\n",
       "    <tr>\n",
       "      <th>2</th>\n",
       "      <td>3</td>\n",
       "      <td>61</td>\n",
       "      <td>73</td>\n",
       "      <td>71</td>\n",
       "      <td>25000</td>\n",
       "      <td>1</td>\n",
       "    </tr>\n",
       "    <tr>\n",
       "      <th>3</th>\n",
       "      <td>4</td>\n",
       "      <td>84</td>\n",
       "      <td>84</td>\n",
       "      <td>89</td>\n",
       "      <td>67000</td>\n",
       "      <td>0</td>\n",
       "    </tr>\n",
       "    <tr>\n",
       "      <th>4</th>\n",
       "      <td>5</td>\n",
       "      <td>92</td>\n",
       "      <td>67</td>\n",
       "      <td>53</td>\n",
       "      <td>6000</td>\n",
       "      <td>0</td>\n",
       "    </tr>\n",
       "  </tbody>\n",
       "</table>\n",
       "</div>"
      ],
      "text/plain": [
       "   s_id  sc_%  hsc_%  ent_%   l_6_m  applicable\n",
       "0     1    73     64     32  200000           1\n",
       "1     2    61     61     55  200000           1\n",
       "2     3    61     73     71   25000           1\n",
       "3     4    84     84     89   67000           0\n",
       "4     5    92     67     53    6000           0"
      ]
     },
     "execution_count": 98,
     "metadata": {},
     "output_type": "execute_result"
    }
   ],
   "source": [
    "dataset3.head()"
   ]
  },
  {
   "cell_type": "code",
   "execution_count": 99,
   "metadata": {},
   "outputs": [
    {
     "data": {
      "text/html": [
       "<div>\n",
       "<style scoped>\n",
       "    .dataframe tbody tr th:only-of-type {\n",
       "        vertical-align: middle;\n",
       "    }\n",
       "\n",
       "    .dataframe tbody tr th {\n",
       "        vertical-align: top;\n",
       "    }\n",
       "\n",
       "    .dataframe thead th {\n",
       "        text-align: right;\n",
       "    }\n",
       "</style>\n",
       "<table border=\"1\" class=\"dataframe\">\n",
       "  <thead>\n",
       "    <tr style=\"text-align: right;\">\n",
       "      <th></th>\n",
       "      <th>sc_%</th>\n",
       "      <th>hsc_%</th>\n",
       "      <th>ent_%</th>\n",
       "      <th>l_6_m</th>\n",
       "    </tr>\n",
       "  </thead>\n",
       "  <tbody>\n",
       "    <tr>\n",
       "      <th>0</th>\n",
       "      <td>73</td>\n",
       "      <td>64</td>\n",
       "      <td>32</td>\n",
       "      <td>200000</td>\n",
       "    </tr>\n",
       "    <tr>\n",
       "      <th>1</th>\n",
       "      <td>61</td>\n",
       "      <td>61</td>\n",
       "      <td>55</td>\n",
       "      <td>200000</td>\n",
       "    </tr>\n",
       "    <tr>\n",
       "      <th>2</th>\n",
       "      <td>61</td>\n",
       "      <td>73</td>\n",
       "      <td>71</td>\n",
       "      <td>25000</td>\n",
       "    </tr>\n",
       "    <tr>\n",
       "      <th>3</th>\n",
       "      <td>84</td>\n",
       "      <td>84</td>\n",
       "      <td>89</td>\n",
       "      <td>67000</td>\n",
       "    </tr>\n",
       "    <tr>\n",
       "      <th>4</th>\n",
       "      <td>92</td>\n",
       "      <td>67</td>\n",
       "      <td>53</td>\n",
       "      <td>6000</td>\n",
       "    </tr>\n",
       "  </tbody>\n",
       "</table>\n",
       "</div>"
      ],
      "text/plain": [
       "   sc_%  hsc_%  ent_%   l_6_m\n",
       "0    73     64     32  200000\n",
       "1    61     61     55  200000\n",
       "2    61     73     71   25000\n",
       "3    84     84     89   67000\n",
       "4    92     67     53    6000"
      ]
     },
     "execution_count": 99,
     "metadata": {},
     "output_type": "execute_result"
    }
   ],
   "source": [
    "dtnew=dataset3.drop(['applicable','s_id'],axis=1)\n",
    "dtnew.head()"
   ]
  },
  {
   "cell_type": "code",
   "execution_count": 100,
   "metadata": {},
   "outputs": [],
   "source": [
    "x1=dtnew.iloc[:,0:3]\n",
    "y1=dtnew.iloc[:,-1]"
   ]
  },
  {
   "cell_type": "code",
   "execution_count": 101,
   "metadata": {},
   "outputs": [
    {
     "data": {
      "text/html": [
       "<div>\n",
       "<style scoped>\n",
       "    .dataframe tbody tr th:only-of-type {\n",
       "        vertical-align: middle;\n",
       "    }\n",
       "\n",
       "    .dataframe tbody tr th {\n",
       "        vertical-align: top;\n",
       "    }\n",
       "\n",
       "    .dataframe thead th {\n",
       "        text-align: right;\n",
       "    }\n",
       "</style>\n",
       "<table border=\"1\" class=\"dataframe\">\n",
       "  <thead>\n",
       "    <tr style=\"text-align: right;\">\n",
       "      <th></th>\n",
       "      <th>sc_%</th>\n",
       "      <th>hsc_%</th>\n",
       "      <th>ent_%</th>\n",
       "    </tr>\n",
       "  </thead>\n",
       "  <tbody>\n",
       "    <tr>\n",
       "      <th>0</th>\n",
       "      <td>73</td>\n",
       "      <td>64</td>\n",
       "      <td>32</td>\n",
       "    </tr>\n",
       "    <tr>\n",
       "      <th>1</th>\n",
       "      <td>61</td>\n",
       "      <td>61</td>\n",
       "      <td>55</td>\n",
       "    </tr>\n",
       "    <tr>\n",
       "      <th>2</th>\n",
       "      <td>61</td>\n",
       "      <td>73</td>\n",
       "      <td>71</td>\n",
       "    </tr>\n",
       "    <tr>\n",
       "      <th>3</th>\n",
       "      <td>84</td>\n",
       "      <td>84</td>\n",
       "      <td>89</td>\n",
       "    </tr>\n",
       "    <tr>\n",
       "      <th>4</th>\n",
       "      <td>92</td>\n",
       "      <td>67</td>\n",
       "      <td>53</td>\n",
       "    </tr>\n",
       "  </tbody>\n",
       "</table>\n",
       "</div>"
      ],
      "text/plain": [
       "   sc_%  hsc_%  ent_%\n",
       "0    73     64     32\n",
       "1    61     61     55\n",
       "2    61     73     71\n",
       "3    84     84     89\n",
       "4    92     67     53"
      ]
     },
     "execution_count": 101,
     "metadata": {},
     "output_type": "execute_result"
    }
   ],
   "source": [
    "x1.head()"
   ]
  },
  {
   "cell_type": "code",
   "execution_count": 102,
   "metadata": {},
   "outputs": [
    {
     "data": {
      "text/plain": [
       "0    200000\n",
       "1    200000\n",
       "2     25000\n",
       "3     67000\n",
       "4      6000\n",
       "Name: l_6_m, dtype: int64"
      ]
     },
     "execution_count": 102,
     "metadata": {},
     "output_type": "execute_result"
    }
   ],
   "source": [
    "y1.head()"
   ]
  },
  {
   "cell_type": "code",
   "execution_count": 103,
   "metadata": {},
   "outputs": [],
   "source": [
    "x1_train,x1_test,y1_train,y1_test=train_test_split(x1,y1,test_size=0.5,random_state=0)"
   ]
  },
  {
   "cell_type": "code",
   "execution_count": 104,
   "metadata": {},
   "outputs": [
    {
     "name": "stdout",
     "output_type": "stream",
     "text": [
      "[13:58:51] WARNING: C:/Users/Administrator/workspace/xgboost-win64_release_1.4.0/src/objective/regression_obj.cu:171: reg:linear is now deprecated in favor of reg:squarederror.\n"
     ]
    },
    {
     "data": {
      "text/plain": [
       "XGBRegressor(alpha=10, base_score=0.5, booster='gbtree', colsample_bylevel=1,\n",
       "             colsample_bynode=1, colsample_bytree=0.3, gamma=0, gpu_id=-1,\n",
       "             importance_type='gain', interaction_constraints='',\n",
       "             learning_rate=0.1, max_delta_step=0, max_depth=5,\n",
       "             min_child_weight=1, missing=nan, monotone_constraints='()',\n",
       "             n_estimators=10, n_jobs=8, num_parallel_tree=1,\n",
       "             objective='reg:linear', random_state=0, reg_alpha=10, reg_lambda=1,\n",
       "             scale_pos_weight=1, subsample=1, tree_method='exact',\n",
       "             validate_parameters=1, verbosity=None)"
      ]
     },
     "execution_count": 104,
     "metadata": {},
     "output_type": "execute_result"
    }
   ],
   "source": [
    "from xgboost.sklearn import XGBRegressor\n",
    "xgbsor=XGBRegressor(objective='reg:linear',colsample_bytree=0.3,learning_rate=0.1,max_depth=5, alpha=10,n_estimators=10)\n",
    "xgbsor.fit(x1_train,y1_train)"
   ]
  },
  {
   "cell_type": "code",
   "execution_count": 105,
   "metadata": {},
   "outputs": [
    {
     "name": "stderr",
     "output_type": "stream",
     "text": [
      "C:\\Users\\souvik\\anaconda3\\envs\\tensorflow\\lib\\site-packages\\xgboost\\data.py:114: UserWarning: Use subset (sliced data) of np.ndarray is not recommended because it will generate extra copies and increase memory consumption\n",
      "  \"because it will generate extra copies and increase \" +\n"
     ]
    }
   ],
   "source": [
    "prd1=xgbsor.predict(x1_test)"
   ]
  },
  {
   "cell_type": "code",
   "execution_count": 106,
   "metadata": {},
   "outputs": [
    {
     "data": {
      "text/plain": [
       "array([ 1827.3658 , 43975.91   , 26792.111  , 19121.672  , 34620.305  ,\n",
       "       10125.833  , 16984.555  ,  2036.0588 , 13167.72   ,  6629.3174 ,\n",
       "        2604.5195 ,   749.4486 ,  1260.7827 , 62906.6    , 14685.639  ,\n",
       "       33501.33   ,  7787.341  ,  8869.053  ,  2405.1506 , -1536.3417 ,\n",
       "       12886.238  ,   300.91336,  2036.0588 ,  8869.053  ,  2090.5103 ,\n",
       "       47313.336  ], dtype=float32)"
      ]
     },
     "execution_count": 106,
     "metadata": {},
     "output_type": "execute_result"
    }
   ],
   "source": [
    "prd1"
   ]
  },
  {
   "cell_type": "code",
   "execution_count": 107,
   "metadata": {},
   "outputs": [
    {
     "data": {
      "text/plain": [
       "29       350\n",
       "11     25670\n",
       "10    100000\n",
       "22      4455\n",
       "2      25000\n",
       "28      1200\n",
       "45      3411\n",
       "32     32975\n",
       "26     23500\n",
       "4       6000\n",
       "33     81000\n",
       "41      5000\n",
       "27     22900\n",
       "35      4355\n",
       "34      3490\n",
       "7      41000\n",
       "14     70000\n",
       "46      6700\n",
       "18      2100\n",
       "48      5691\n",
       "42     56000\n",
       "15     12000\n",
       "31     33445\n",
       "30       470\n",
       "16     30004\n",
       "43     41000\n",
       "Name: l_6_m, dtype: int64"
      ]
     },
     "execution_count": 107,
     "metadata": {},
     "output_type": "execute_result"
    }
   ],
   "source": [
    "y1_test"
   ]
  },
  {
   "cell_type": "code",
   "execution_count": 108,
   "metadata": {},
   "outputs": [
    {
     "data": {
      "text/plain": [
       "31239.683461063778"
      ]
     },
     "execution_count": 108,
     "metadata": {},
     "output_type": "execute_result"
    }
   ],
   "source": [
    "error1=np.sqrt(mean_squared_error(y1_test,prd1))\n",
    "error1"
   ]
  },
  {
   "cell_type": "code",
   "execution_count": 109,
   "metadata": {},
   "outputs": [
    {
     "data": {
      "text/html": [
       "<div>\n",
       "<style scoped>\n",
       "    .dataframe tbody tr th:only-of-type {\n",
       "        vertical-align: middle;\n",
       "    }\n",
       "\n",
       "    .dataframe tbody tr th {\n",
       "        vertical-align: top;\n",
       "    }\n",
       "\n",
       "    .dataframe thead th {\n",
       "        text-align: right;\n",
       "    }\n",
       "</style>\n",
       "<table border=\"1\" class=\"dataframe\">\n",
       "  <thead>\n",
       "    <tr style=\"text-align: right;\">\n",
       "      <th></th>\n",
       "      <th>actual</th>\n",
       "      <th>prediction</th>\n",
       "      <th>error</th>\n",
       "    </tr>\n",
       "  </thead>\n",
       "  <tbody>\n",
       "    <tr>\n",
       "      <th>29</th>\n",
       "      <td>350</td>\n",
       "      <td>1827.365845</td>\n",
       "      <td>-1477.365845</td>\n",
       "    </tr>\n",
       "    <tr>\n",
       "      <th>11</th>\n",
       "      <td>25670</td>\n",
       "      <td>43975.910156</td>\n",
       "      <td>-18305.910156</td>\n",
       "    </tr>\n",
       "    <tr>\n",
       "      <th>10</th>\n",
       "      <td>100000</td>\n",
       "      <td>26792.111328</td>\n",
       "      <td>73207.888672</td>\n",
       "    </tr>\n",
       "    <tr>\n",
       "      <th>22</th>\n",
       "      <td>4455</td>\n",
       "      <td>19121.671875</td>\n",
       "      <td>-14666.671875</td>\n",
       "    </tr>\n",
       "    <tr>\n",
       "      <th>2</th>\n",
       "      <td>25000</td>\n",
       "      <td>34620.304688</td>\n",
       "      <td>-9620.304688</td>\n",
       "    </tr>\n",
       "    <tr>\n",
       "      <th>28</th>\n",
       "      <td>1200</td>\n",
       "      <td>10125.833008</td>\n",
       "      <td>-8925.833008</td>\n",
       "    </tr>\n",
       "    <tr>\n",
       "      <th>45</th>\n",
       "      <td>3411</td>\n",
       "      <td>16984.554688</td>\n",
       "      <td>-13573.554688</td>\n",
       "    </tr>\n",
       "    <tr>\n",
       "      <th>32</th>\n",
       "      <td>32975</td>\n",
       "      <td>2036.058838</td>\n",
       "      <td>30938.941162</td>\n",
       "    </tr>\n",
       "    <tr>\n",
       "      <th>26</th>\n",
       "      <td>23500</td>\n",
       "      <td>13167.719727</td>\n",
       "      <td>10332.280273</td>\n",
       "    </tr>\n",
       "    <tr>\n",
       "      <th>4</th>\n",
       "      <td>6000</td>\n",
       "      <td>6629.317383</td>\n",
       "      <td>-629.317383</td>\n",
       "    </tr>\n",
       "    <tr>\n",
       "      <th>33</th>\n",
       "      <td>81000</td>\n",
       "      <td>2604.519531</td>\n",
       "      <td>78395.480469</td>\n",
       "    </tr>\n",
       "    <tr>\n",
       "      <th>41</th>\n",
       "      <td>5000</td>\n",
       "      <td>749.448608</td>\n",
       "      <td>4250.551392</td>\n",
       "    </tr>\n",
       "    <tr>\n",
       "      <th>27</th>\n",
       "      <td>22900</td>\n",
       "      <td>1260.782715</td>\n",
       "      <td>21639.217285</td>\n",
       "    </tr>\n",
       "    <tr>\n",
       "      <th>35</th>\n",
       "      <td>4355</td>\n",
       "      <td>62906.601562</td>\n",
       "      <td>-58551.601562</td>\n",
       "    </tr>\n",
       "    <tr>\n",
       "      <th>34</th>\n",
       "      <td>3490</td>\n",
       "      <td>14685.638672</td>\n",
       "      <td>-11195.638672</td>\n",
       "    </tr>\n",
       "    <tr>\n",
       "      <th>7</th>\n",
       "      <td>41000</td>\n",
       "      <td>33501.328125</td>\n",
       "      <td>7498.671875</td>\n",
       "    </tr>\n",
       "    <tr>\n",
       "      <th>14</th>\n",
       "      <td>70000</td>\n",
       "      <td>7787.340820</td>\n",
       "      <td>62212.659180</td>\n",
       "    </tr>\n",
       "    <tr>\n",
       "      <th>46</th>\n",
       "      <td>6700</td>\n",
       "      <td>8869.052734</td>\n",
       "      <td>-2169.052734</td>\n",
       "    </tr>\n",
       "    <tr>\n",
       "      <th>18</th>\n",
       "      <td>2100</td>\n",
       "      <td>2405.150635</td>\n",
       "      <td>-305.150635</td>\n",
       "    </tr>\n",
       "    <tr>\n",
       "      <th>48</th>\n",
       "      <td>5691</td>\n",
       "      <td>-1536.341675</td>\n",
       "      <td>7227.341675</td>\n",
       "    </tr>\n",
       "    <tr>\n",
       "      <th>42</th>\n",
       "      <td>56000</td>\n",
       "      <td>12886.238281</td>\n",
       "      <td>43113.761719</td>\n",
       "    </tr>\n",
       "    <tr>\n",
       "      <th>15</th>\n",
       "      <td>12000</td>\n",
       "      <td>300.913361</td>\n",
       "      <td>11699.086639</td>\n",
       "    </tr>\n",
       "    <tr>\n",
       "      <th>31</th>\n",
       "      <td>33445</td>\n",
       "      <td>2036.058838</td>\n",
       "      <td>31408.941162</td>\n",
       "    </tr>\n",
       "    <tr>\n",
       "      <th>30</th>\n",
       "      <td>470</td>\n",
       "      <td>8869.052734</td>\n",
       "      <td>-8399.052734</td>\n",
       "    </tr>\n",
       "    <tr>\n",
       "      <th>16</th>\n",
       "      <td>30004</td>\n",
       "      <td>2090.510254</td>\n",
       "      <td>27913.489746</td>\n",
       "    </tr>\n",
       "    <tr>\n",
       "      <th>43</th>\n",
       "      <td>41000</td>\n",
       "      <td>47313.335938</td>\n",
       "      <td>-6313.335938</td>\n",
       "    </tr>\n",
       "  </tbody>\n",
       "</table>\n",
       "</div>"
      ],
      "text/plain": [
       "    actual    prediction         error\n",
       "29     350   1827.365845  -1477.365845\n",
       "11   25670  43975.910156 -18305.910156\n",
       "10  100000  26792.111328  73207.888672\n",
       "22    4455  19121.671875 -14666.671875\n",
       "2    25000  34620.304688  -9620.304688\n",
       "28    1200  10125.833008  -8925.833008\n",
       "45    3411  16984.554688 -13573.554688\n",
       "32   32975   2036.058838  30938.941162\n",
       "26   23500  13167.719727  10332.280273\n",
       "4     6000   6629.317383   -629.317383\n",
       "33   81000   2604.519531  78395.480469\n",
       "41    5000    749.448608   4250.551392\n",
       "27   22900   1260.782715  21639.217285\n",
       "35    4355  62906.601562 -58551.601562\n",
       "34    3490  14685.638672 -11195.638672\n",
       "7    41000  33501.328125   7498.671875\n",
       "14   70000   7787.340820  62212.659180\n",
       "46    6700   8869.052734  -2169.052734\n",
       "18    2100   2405.150635   -305.150635\n",
       "48    5691  -1536.341675   7227.341675\n",
       "42   56000  12886.238281  43113.761719\n",
       "15   12000    300.913361  11699.086639\n",
       "31   33445   2036.058838  31408.941162\n",
       "30     470   8869.052734  -8399.052734\n",
       "16   30004   2090.510254  27913.489746\n",
       "43   41000  47313.335938  -6313.335938"
      ]
     },
     "execution_count": 109,
     "metadata": {},
     "output_type": "execute_result"
    }
   ],
   "source": [
    "pd.DataFrame({'actual':y1_test,'prediction':prd1,'error':(y1_test-prd1)})"
   ]
  },
  {
   "cell_type": "code",
   "execution_count": 110,
   "metadata": {},
   "outputs": [
    {
     "data": {
      "text/plain": [
       "<AxesSubplot:title={'center':'Feature importance'}, xlabel='F score', ylabel='Features'>"
      ]
     },
     "execution_count": 110,
     "metadata": {},
     "output_type": "execute_result"
    },
    {
     "data": {
      "image/png": "[encoded data removed]",
      "text/plain": [
       "<Figure size 432x288 with 1 Axes>"
      ]
     },
     "metadata": {
      "needs_background": "light"
     },
     "output_type": "display_data"
    }
   ],
   "source": [
    "import xgboost as xgb\n",
    "xgb.plot_importance(xgbsor)"
   ]
  },
  {
   "cell_type": "code",
   "execution_count": 111,
   "metadata": {},
   "outputs": [],
   "source": [
    "x1_train,x1_test,y1_train,y1_test=train_test_split(x1,y1,test_size=0.5,random_state=0)"
   ]
  },
  {
   "cell_type": "code",
   "execution_count": 112,
   "metadata": {},
   "outputs": [
    {
     "data": {
      "text/plain": [
       "array([144211.59437579,   2517.77915366,  72938.13540109,  70835.18074537,\n",
       "         3448.33968014, 164499.23510348,  14046.0500027 ,   2243.32122555,\n",
       "        95898.4367696 , 115307.28166021,  23192.15676744,  77854.99661759,\n",
       "        30370.51992394, 110481.90071362,  45567.26059101,  42507.8630641 ,\n",
       "        80363.2728957 ,  17117.83735381,  56388.76684856,  43456.46125834,\n",
       "        35895.91492218,  41963.49235515,  -3760.64876237,   5397.30075801,\n",
       "       103284.75502675,  36073.79180538])"
      ]
     },
     "execution_count": 112,
     "metadata": {},
     "output_type": "execute_result"
    }
   ],
   "source": [
    "from sklearn.linear_model import LinearRegression\n",
    "lr=LinearRegression()\n",
    "lr.fit(x1_train,y1_train)\n",
    "prd2=lr.predict(x1_test)\n",
    "prd2"
   ]
  },
  {
   "cell_type": "code",
   "execution_count": 113,
   "metadata": {},
   "outputs": [
    {
     "data": {
      "text/plain": [
       "array([ 2227.06781017, -1641.87026523, -1831.58990408])"
      ]
     },
     "execution_count": 113,
     "metadata": {},
     "output_type": "execute_result"
    }
   ],
   "source": [
    "lr.coef_"
   ]
  },
  {
   "cell_type": "code",
   "execution_count": 114,
   "metadata": {},
   "outputs": [
    {
     "data": {
      "text/plain": [
       "117496.61581085331"
      ]
     },
     "execution_count": 114,
     "metadata": {},
     "output_type": "execute_result"
    }
   ],
   "source": [
    "lr.intercept_"
   ]
  },
  {
   "cell_type": "code",
   "execution_count": 115,
   "metadata": {},
   "outputs": [
    {
     "data": {
      "text/plain": [
       "63906.33485141555"
      ]
     },
     "execution_count": 115,
     "metadata": {},
     "output_type": "execute_result"
    }
   ],
   "source": [
    "error2=np.sqrt(mean_squared_error(y1_test,prd2))\n",
    "error2"
   ]
  },
  {
   "cell_type": "code",
   "execution_count": 116,
   "metadata": {},
   "outputs": [
    {
     "data": {
      "text/html": [
       "<div>\n",
       "<style scoped>\n",
       "    .dataframe tbody tr th:only-of-type {\n",
       "        vertical-align: middle;\n",
       "    }\n",
       "\n",
       "    .dataframe tbody tr th {\n",
       "        vertical-align: top;\n",
       "    }\n",
       "\n",
       "    .dataframe thead th {\n",
       "        text-align: right;\n",
       "    }\n",
       "</style>\n",
       "<table border=\"1\" class=\"dataframe\">\n",
       "  <thead>\n",
       "    <tr style=\"text-align: right;\">\n",
       "      <th></th>\n",
       "      <th>actual</th>\n",
       "      <th>prediction</th>\n",
       "      <th>error</th>\n",
       "    </tr>\n",
       "  </thead>\n",
       "  <tbody>\n",
       "    <tr>\n",
       "      <th>29</th>\n",
       "      <td>350</td>\n",
       "      <td>144211.594376</td>\n",
       "      <td>-143861.594376</td>\n",
       "    </tr>\n",
       "    <tr>\n",
       "      <th>11</th>\n",
       "      <td>25670</td>\n",
       "      <td>2517.779154</td>\n",
       "      <td>23152.220846</td>\n",
       "    </tr>\n",
       "    <tr>\n",
       "      <th>10</th>\n",
       "      <td>100000</td>\n",
       "      <td>72938.135401</td>\n",
       "      <td>27061.864599</td>\n",
       "    </tr>\n",
       "    <tr>\n",
       "      <th>22</th>\n",
       "      <td>4455</td>\n",
       "      <td>70835.180745</td>\n",
       "      <td>-66380.180745</td>\n",
       "    </tr>\n",
       "    <tr>\n",
       "      <th>2</th>\n",
       "      <td>25000</td>\n",
       "      <td>3448.339680</td>\n",
       "      <td>21551.660320</td>\n",
       "    </tr>\n",
       "    <tr>\n",
       "      <th>28</th>\n",
       "      <td>1200</td>\n",
       "      <td>164499.235103</td>\n",
       "      <td>-163299.235103</td>\n",
       "    </tr>\n",
       "    <tr>\n",
       "      <th>45</th>\n",
       "      <td>3411</td>\n",
       "      <td>14046.050003</td>\n",
       "      <td>-10635.050003</td>\n",
       "    </tr>\n",
       "    <tr>\n",
       "      <th>32</th>\n",
       "      <td>32975</td>\n",
       "      <td>2243.321226</td>\n",
       "      <td>30731.678774</td>\n",
       "    </tr>\n",
       "    <tr>\n",
       "      <th>26</th>\n",
       "      <td>23500</td>\n",
       "      <td>95898.436770</td>\n",
       "      <td>-72398.436770</td>\n",
       "    </tr>\n",
       "    <tr>\n",
       "      <th>4</th>\n",
       "      <td>6000</td>\n",
       "      <td>115307.281660</td>\n",
       "      <td>-109307.281660</td>\n",
       "    </tr>\n",
       "    <tr>\n",
       "      <th>33</th>\n",
       "      <td>81000</td>\n",
       "      <td>23192.156767</td>\n",
       "      <td>57807.843233</td>\n",
       "    </tr>\n",
       "    <tr>\n",
       "      <th>41</th>\n",
       "      <td>5000</td>\n",
       "      <td>77854.996618</td>\n",
       "      <td>-72854.996618</td>\n",
       "    </tr>\n",
       "    <tr>\n",
       "      <th>27</th>\n",
       "      <td>22900</td>\n",
       "      <td>30370.519924</td>\n",
       "      <td>-7470.519924</td>\n",
       "    </tr>\n",
       "    <tr>\n",
       "      <th>35</th>\n",
       "      <td>4355</td>\n",
       "      <td>110481.900714</td>\n",
       "      <td>-106126.900714</td>\n",
       "    </tr>\n",
       "    <tr>\n",
       "      <th>34</th>\n",
       "      <td>3490</td>\n",
       "      <td>45567.260591</td>\n",
       "      <td>-42077.260591</td>\n",
       "    </tr>\n",
       "    <tr>\n",
       "      <th>7</th>\n",
       "      <td>41000</td>\n",
       "      <td>42507.863064</td>\n",
       "      <td>-1507.863064</td>\n",
       "    </tr>\n",
       "    <tr>\n",
       "      <th>14</th>\n",
       "      <td>70000</td>\n",
       "      <td>80363.272896</td>\n",
       "      <td>-10363.272896</td>\n",
       "    </tr>\n",
       "    <tr>\n",
       "      <th>46</th>\n",
       "      <td>6700</td>\n",
       "      <td>17117.837354</td>\n",
       "      <td>-10417.837354</td>\n",
       "    </tr>\n",
       "    <tr>\n",
       "      <th>18</th>\n",
       "      <td>2100</td>\n",
       "      <td>56388.766849</td>\n",
       "      <td>-54288.766849</td>\n",
       "    </tr>\n",
       "    <tr>\n",
       "      <th>48</th>\n",
       "      <td>5691</td>\n",
       "      <td>43456.461258</td>\n",
       "      <td>-37765.461258</td>\n",
       "    </tr>\n",
       "    <tr>\n",
       "      <th>42</th>\n",
       "      <td>56000</td>\n",
       "      <td>35895.914922</td>\n",
       "      <td>20104.085078</td>\n",
       "    </tr>\n",
       "    <tr>\n",
       "      <th>15</th>\n",
       "      <td>12000</td>\n",
       "      <td>41963.492355</td>\n",
       "      <td>-29963.492355</td>\n",
       "    </tr>\n",
       "    <tr>\n",
       "      <th>31</th>\n",
       "      <td>33445</td>\n",
       "      <td>-3760.648762</td>\n",
       "      <td>37205.648762</td>\n",
       "    </tr>\n",
       "    <tr>\n",
       "      <th>30</th>\n",
       "      <td>470</td>\n",
       "      <td>5397.300758</td>\n",
       "      <td>-4927.300758</td>\n",
       "    </tr>\n",
       "    <tr>\n",
       "      <th>16</th>\n",
       "      <td>30004</td>\n",
       "      <td>103284.755027</td>\n",
       "      <td>-73280.755027</td>\n",
       "    </tr>\n",
       "    <tr>\n",
       "      <th>43</th>\n",
       "      <td>41000</td>\n",
       "      <td>36073.791805</td>\n",
       "      <td>4926.208195</td>\n",
       "    </tr>\n",
       "  </tbody>\n",
       "</table>\n",
       "</div>"
      ],
      "text/plain": [
       "    actual     prediction          error\n",
       "29     350  144211.594376 -143861.594376\n",
       "11   25670    2517.779154   23152.220846\n",
       "10  100000   72938.135401   27061.864599\n",
       "22    4455   70835.180745  -66380.180745\n",
       "2    25000    3448.339680   21551.660320\n",
       "28    1200  164499.235103 -163299.235103\n",
       "45    3411   14046.050003  -10635.050003\n",
       "32   32975    2243.321226   30731.678774\n",
       "26   23500   95898.436770  -72398.436770\n",
       "4     6000  115307.281660 -109307.281660\n",
       "33   81000   23192.156767   57807.843233\n",
       "41    5000   77854.996618  -72854.996618\n",
       "27   22900   30370.519924   -7470.519924\n",
       "35    4355  110481.900714 -106126.900714\n",
       "34    3490   45567.260591  -42077.260591\n",
       "7    41000   42507.863064   -1507.863064\n",
       "14   70000   80363.272896  -10363.272896\n",
       "46    6700   17117.837354  -10417.837354\n",
       "18    2100   56388.766849  -54288.766849\n",
       "48    5691   43456.461258  -37765.461258\n",
       "42   56000   35895.914922   20104.085078\n",
       "15   12000   41963.492355  -29963.492355\n",
       "31   33445   -3760.648762   37205.648762\n",
       "30     470    5397.300758   -4927.300758\n",
       "16   30004  103284.755027  -73280.755027\n",
       "43   41000   36073.791805    4926.208195"
      ]
     },
     "execution_count": 116,
     "metadata": {},
     "output_type": "execute_result"
    }
   ],
   "source": [
    "pd.DataFrame({'actual':y1_test,'prediction':prd2,'error':(y1_test-prd2)})"
   ]
  },
  {
   "cell_type": "code",
   "execution_count": 117,
   "metadata": {},
   "outputs": [
    {
     "data": {
      "text/html": [
       "<div>\n",
       "<style scoped>\n",
       "    .dataframe tbody tr th:only-of-type {\n",
       "        vertical-align: middle;\n",
       "    }\n",
       "\n",
       "    .dataframe tbody tr th {\n",
       "        vertical-align: top;\n",
       "    }\n",
       "\n",
       "    .dataframe thead th {\n",
       "        text-align: right;\n",
       "    }\n",
       "</style>\n",
       "<table border=\"1\" class=\"dataframe\">\n",
       "  <thead>\n",
       "    <tr style=\"text-align: right;\">\n",
       "      <th></th>\n",
       "      <th>sc_%</th>\n",
       "    </tr>\n",
       "  </thead>\n",
       "  <tbody>\n",
       "    <tr>\n",
       "      <th>0</th>\n",
       "      <td>73</td>\n",
       "    </tr>\n",
       "    <tr>\n",
       "      <th>1</th>\n",
       "      <td>61</td>\n",
       "    </tr>\n",
       "    <tr>\n",
       "      <th>2</th>\n",
       "      <td>61</td>\n",
       "    </tr>\n",
       "    <tr>\n",
       "      <th>3</th>\n",
       "      <td>84</td>\n",
       "    </tr>\n",
       "    <tr>\n",
       "      <th>4</th>\n",
       "      <td>92</td>\n",
       "    </tr>\n",
       "  </tbody>\n",
       "</table>\n",
       "</div>"
      ],
      "text/plain": [
       "   sc_%\n",
       "0    73\n",
       "1    61\n",
       "2    61\n",
       "3    84\n",
       "4    92"
      ]
     },
     "execution_count": 117,
     "metadata": {},
     "output_type": "execute_result"
    }
   ],
   "source": [
    "d1=dtnew.iloc[:,:1]\n",
    "d2=dtnew.iloc[:,-3]\n",
    "d3=dtnew.iloc[:,-2]\n",
    "d1.head()"
   ]
  },
  {
   "cell_type": "code",
   "execution_count": 118,
   "metadata": {},
   "outputs": [
    {
     "data": {
      "text/plain": [
       "0    64\n",
       "1    61\n",
       "2    73\n",
       "3    84\n",
       "4    67\n",
       "Name: hsc_%, dtype: int64"
      ]
     },
     "execution_count": 118,
     "metadata": {},
     "output_type": "execute_result"
    }
   ],
   "source": [
    "d2.head()"
   ]
  },
  {
   "cell_type": "code",
   "execution_count": 119,
   "metadata": {},
   "outputs": [
    {
     "data": {
      "text/plain": [
       "0    32\n",
       "1    55\n",
       "2    71\n",
       "3    89\n",
       "4    53\n",
       "Name: ent_%, dtype: int64"
      ]
     },
     "execution_count": 119,
     "metadata": {},
     "output_type": "execute_result"
    }
   ],
   "source": [
    "d3.head()"
   ]
  },
  {
   "cell_type": "code",
   "execution_count": 120,
   "metadata": {},
   "outputs": [
    {
     "data": {
      "text/plain": [
       "LinearRegression()"
      ]
     },
     "execution_count": 120,
     "metadata": {},
     "output_type": "execute_result"
    }
   ],
   "source": [
    "l_train,l_test,r_train,r_test=train_test_split(d1,d2,test_size=0.2,random_state=0)\n",
    "rg=LinearRegression()\n",
    "rg.fit(l_train,r_train)"
   ]
  },
  {
   "cell_type": "code",
   "execution_count": 121,
   "metadata": {},
   "outputs": [
    {
     "data": {
      "image/png": "[encoded data removed]",
      "text/plain": [
       "<Figure size 432x288 with 1 Axes>"
      ]
     },
     "metadata": {
      "needs_background": "light"
     },
     "output_type": "display_data"
    }
   ],
   "source": [
    "plt.scatter(l_train,r_train,color='yellow')\n",
    "plt.plot(l_train,rg.predict(l_train),color='blue')\n",
    "plt.title('linear regression on student sc% and hsc% on training dataset')\n",
    "plt.show()"
   ]
  },
  {
   "cell_type": "code",
   "execution_count": 122,
   "metadata": {},
   "outputs": [
    {
     "data": {
      "image/png": "[encoded data removed]",
      "text/plain": [
       "<Figure size 432x288 with 1 Axes>"
      ]
     },
     "metadata": {
      "needs_background": "light"
     },
     "output_type": "display_data"
    }
   ],
   "source": [
    "plt.scatter(l_test,r_test,color='yellow')\n",
    "plt.plot(l_test,rg.predict(l_test),color='blue')\n",
    "plt.title('linear regression on student sc% and hsc% on test dataset')\n",
    "plt.show()"
   ]
  },
  {
   "cell_type": "code",
   "execution_count": 123,
   "metadata": {},
   "outputs": [
    {
     "data": {
      "text/plain": [
       "LinearRegression()"
      ]
     },
     "execution_count": 123,
     "metadata": {},
     "output_type": "execute_result"
    }
   ],
   "source": [
    "l_train,l_test,r_train,r_test=train_test_split(d1,d3,test_size=0.2,random_state=0)\n",
    "rg=LinearRegression()\n",
    "rg.fit(l_train,r_train)"
   ]
  },
  {
   "cell_type": "code",
   "execution_count": 124,
   "metadata": {},
   "outputs": [
    {
     "data": {
      "image/png": "[encoded data removed]",
      "text/plain": [
       "<Figure size 432x288 with 1 Axes>"
      ]
     },
     "metadata": {
      "needs_background": "light"
     },
     "output_type": "display_data"
    }
   ],
   "source": [
    "plt.scatter(l_train,r_train,color='red')\n",
    "plt.plot(l_train,rg.predict(l_train),color='blue')\n",
    "plt.title('linear regression on student sc% and ent% on training dataset')\n",
    "plt.show()"
   ]
  },
  {
   "cell_type": "code",
   "execution_count": 125,
   "metadata": {},
   "outputs": [
    {
     "data": {
      "image/png": "[encoded data removed]",
      "text/plain": [
       "<Figure size 432x288 with 1 Axes>"
      ]
     },
     "metadata": {
      "needs_background": "light"
     },
     "output_type": "display_data"
    }
   ],
   "source": [
    "plt.scatter(l_test,r_test,color='red')\n",
    "plt.plot(l_test,rg.predict(l_test),color='blue')\n",
    "plt.title('linear regression on student sc% and ent% on test dataset')\n",
    "plt.show()"
   ]
  },
  {
   "cell_type": "code",
   "execution_count": 126,
   "metadata": {},
   "outputs": [
    {
     "data": {
      "text/plain": [
       "array([  3400.,   3750., 250000., 250000.,   2321.,   3400.,   2100.,\n",
       "         4200.,  20000.,   3400.,  67000.,   4500.,  20000., 200000.,\n",
       "         4476.,   2000.,   3400.,   7000.,   4476.,   4500.,   8800.,\n",
       "         2100.,   4200.,   7000., 200000.,   4476.])"
      ]
     },
     "execution_count": 126,
     "metadata": {},
     "output_type": "execute_result"
    }
   ],
   "source": [
    "from sklearn.tree import DecisionTreeRegressor\n",
    "dtrg=DecisionTreeRegressor(random_state=0)\n",
    "dtrg.fit(x1_train,y1_train)\n",
    "prd3=dtrg.predict(x1_test)\n",
    "prd3"
   ]
  },
  {
   "cell_type": "code",
   "execution_count": 127,
   "metadata": {},
   "outputs": [
    {
     "data": {
      "text/plain": [
       "79069.77393586775"
      ]
     },
     "execution_count": 127,
     "metadata": {},
     "output_type": "execute_result"
    }
   ],
   "source": [
    "error3=np.sqrt(mean_squared_error(y1_test,prd3))\n",
    "error3"
   ]
  },
  {
   "cell_type": "code",
   "execution_count": 128,
   "metadata": {},
   "outputs": [
    {
     "data": {
      "text/html": [
       "<div>\n",
       "<style scoped>\n",
       "    .dataframe tbody tr th:only-of-type {\n",
       "        vertical-align: middle;\n",
       "    }\n",
       "\n",
       "    .dataframe tbody tr th {\n",
       "        vertical-align: top;\n",
       "    }\n",
       "\n",
       "    .dataframe thead th {\n",
       "        text-align: right;\n",
       "    }\n",
       "</style>\n",
       "<table border=\"1\" class=\"dataframe\">\n",
       "  <thead>\n",
       "    <tr style=\"text-align: right;\">\n",
       "      <th></th>\n",
       "      <th>actual</th>\n",
       "      <th>prediction</th>\n",
       "      <th>error</th>\n",
       "    </tr>\n",
       "  </thead>\n",
       "  <tbody>\n",
       "    <tr>\n",
       "      <th>29</th>\n",
       "      <td>350</td>\n",
       "      <td>3400.0</td>\n",
       "      <td>-3050.0</td>\n",
       "    </tr>\n",
       "    <tr>\n",
       "      <th>11</th>\n",
       "      <td>25670</td>\n",
       "      <td>3750.0</td>\n",
       "      <td>21920.0</td>\n",
       "    </tr>\n",
       "    <tr>\n",
       "      <th>10</th>\n",
       "      <td>100000</td>\n",
       "      <td>250000.0</td>\n",
       "      <td>-150000.0</td>\n",
       "    </tr>\n",
       "    <tr>\n",
       "      <th>22</th>\n",
       "      <td>4455</td>\n",
       "      <td>250000.0</td>\n",
       "      <td>-245545.0</td>\n",
       "    </tr>\n",
       "    <tr>\n",
       "      <th>2</th>\n",
       "      <td>25000</td>\n",
       "      <td>2321.0</td>\n",
       "      <td>22679.0</td>\n",
       "    </tr>\n",
       "    <tr>\n",
       "      <th>28</th>\n",
       "      <td>1200</td>\n",
       "      <td>3400.0</td>\n",
       "      <td>-2200.0</td>\n",
       "    </tr>\n",
       "    <tr>\n",
       "      <th>45</th>\n",
       "      <td>3411</td>\n",
       "      <td>2100.0</td>\n",
       "      <td>1311.0</td>\n",
       "    </tr>\n",
       "    <tr>\n",
       "      <th>32</th>\n",
       "      <td>32975</td>\n",
       "      <td>4200.0</td>\n",
       "      <td>28775.0</td>\n",
       "    </tr>\n",
       "    <tr>\n",
       "      <th>26</th>\n",
       "      <td>23500</td>\n",
       "      <td>20000.0</td>\n",
       "      <td>3500.0</td>\n",
       "    </tr>\n",
       "    <tr>\n",
       "      <th>4</th>\n",
       "      <td>6000</td>\n",
       "      <td>3400.0</td>\n",
       "      <td>2600.0</td>\n",
       "    </tr>\n",
       "    <tr>\n",
       "      <th>33</th>\n",
       "      <td>81000</td>\n",
       "      <td>67000.0</td>\n",
       "      <td>14000.0</td>\n",
       "    </tr>\n",
       "    <tr>\n",
       "      <th>41</th>\n",
       "      <td>5000</td>\n",
       "      <td>4500.0</td>\n",
       "      <td>500.0</td>\n",
       "    </tr>\n",
       "    <tr>\n",
       "      <th>27</th>\n",
       "      <td>22900</td>\n",
       "      <td>20000.0</td>\n",
       "      <td>2900.0</td>\n",
       "    </tr>\n",
       "    <tr>\n",
       "      <th>35</th>\n",
       "      <td>4355</td>\n",
       "      <td>200000.0</td>\n",
       "      <td>-195645.0</td>\n",
       "    </tr>\n",
       "    <tr>\n",
       "      <th>34</th>\n",
       "      <td>3490</td>\n",
       "      <td>4476.0</td>\n",
       "      <td>-986.0</td>\n",
       "    </tr>\n",
       "    <tr>\n",
       "      <th>7</th>\n",
       "      <td>41000</td>\n",
       "      <td>2000.0</td>\n",
       "      <td>39000.0</td>\n",
       "    </tr>\n",
       "    <tr>\n",
       "      <th>14</th>\n",
       "      <td>70000</td>\n",
       "      <td>3400.0</td>\n",
       "      <td>66600.0</td>\n",
       "    </tr>\n",
       "    <tr>\n",
       "      <th>46</th>\n",
       "      <td>6700</td>\n",
       "      <td>7000.0</td>\n",
       "      <td>-300.0</td>\n",
       "    </tr>\n",
       "    <tr>\n",
       "      <th>18</th>\n",
       "      <td>2100</td>\n",
       "      <td>4476.0</td>\n",
       "      <td>-2376.0</td>\n",
       "    </tr>\n",
       "    <tr>\n",
       "      <th>48</th>\n",
       "      <td>5691</td>\n",
       "      <td>4500.0</td>\n",
       "      <td>1191.0</td>\n",
       "    </tr>\n",
       "    <tr>\n",
       "      <th>42</th>\n",
       "      <td>56000</td>\n",
       "      <td>8800.0</td>\n",
       "      <td>47200.0</td>\n",
       "    </tr>\n",
       "    <tr>\n",
       "      <th>15</th>\n",
       "      <td>12000</td>\n",
       "      <td>2100.0</td>\n",
       "      <td>9900.0</td>\n",
       "    </tr>\n",
       "    <tr>\n",
       "      <th>31</th>\n",
       "      <td>33445</td>\n",
       "      <td>4200.0</td>\n",
       "      <td>29245.0</td>\n",
       "    </tr>\n",
       "    <tr>\n",
       "      <th>30</th>\n",
       "      <td>470</td>\n",
       "      <td>7000.0</td>\n",
       "      <td>-6530.0</td>\n",
       "    </tr>\n",
       "    <tr>\n",
       "      <th>16</th>\n",
       "      <td>30004</td>\n",
       "      <td>200000.0</td>\n",
       "      <td>-169996.0</td>\n",
       "    </tr>\n",
       "    <tr>\n",
       "      <th>43</th>\n",
       "      <td>41000</td>\n",
       "      <td>4476.0</td>\n",
       "      <td>36524.0</td>\n",
       "    </tr>\n",
       "  </tbody>\n",
       "</table>\n",
       "</div>"
      ],
      "text/plain": [
       "    actual  prediction     error\n",
       "29     350      3400.0   -3050.0\n",
       "11   25670      3750.0   21920.0\n",
       "10  100000    250000.0 -150000.0\n",
       "22    4455    250000.0 -245545.0\n",
       "2    25000      2321.0   22679.0\n",
       "28    1200      3400.0   -2200.0\n",
       "45    3411      2100.0    1311.0\n",
       "32   32975      4200.0   28775.0\n",
       "26   23500     20000.0    3500.0\n",
       "4     6000      3400.0    2600.0\n",
       "33   81000     67000.0   14000.0\n",
       "41    5000      4500.0     500.0\n",
       "27   22900     20000.0    2900.0\n",
       "35    4355    200000.0 -195645.0\n",
       "34    3490      4476.0    -986.0\n",
       "7    41000      2000.0   39000.0\n",
       "14   70000      3400.0   66600.0\n",
       "46    6700      7000.0    -300.0\n",
       "18    2100      4476.0   -2376.0\n",
       "48    5691      4500.0    1191.0\n",
       "42   56000      8800.0   47200.0\n",
       "15   12000      2100.0    9900.0\n",
       "31   33445      4200.0   29245.0\n",
       "30     470      7000.0   -6530.0\n",
       "16   30004    200000.0 -169996.0\n",
       "43   41000      4476.0   36524.0"
      ]
     },
     "execution_count": 128,
     "metadata": {},
     "output_type": "execute_result"
    }
   ],
   "source": [
    "pd.DataFrame({'actual':y1_test,'prediction':prd3,'error':(y1_test-prd3)})"
   ]
  },
  {
   "cell_type": "code",
   "execution_count": 129,
   "metadata": {},
   "outputs": [
    {
     "data": {
      "text/plain": [
       "array([ 50166.75,  55851.63, 125159.69,  75021.3 ,  20384.92,  56662.75,\n",
       "        12686.12,  14660.45,  57400.5 ,  66744.42,  32088.73,  17693.  ,\n",
       "        32241.5 , 105836.  ,  15340.59,  77007.5 ,  26205.34,  26860.19,\n",
       "         6097.47,  32749.5 ,  17347.43,  20682.57,  24438.32,  33998.32,\n",
       "       125509.  ,  27066.62])"
      ]
     },
     "execution_count": 129,
     "metadata": {},
     "output_type": "execute_result"
    }
   ],
   "source": [
    "from sklearn.ensemble import RandomForestRegressor\n",
    "rfr=RandomForestRegressor(random_state=0,max_depth=10,n_estimators=100)\n",
    "rfr.fit(x1_train,y1_train)\n",
    "prd4=rfr.predict(x1_test)\n",
    "prd4"
   ]
  },
  {
   "cell_type": "code",
   "execution_count": 130,
   "metadata": {},
   "outputs": [
    {
     "data": {
      "text/plain": [
       "42472.558262691266"
      ]
     },
     "execution_count": 130,
     "metadata": {},
     "output_type": "execute_result"
    }
   ],
   "source": [
    "error4=np.sqrt(mean_squared_error(y1_test,prd4))\n",
    "error4"
   ]
  },
  {
   "cell_type": "code",
   "execution_count": 131,
   "metadata": {},
   "outputs": [
    {
     "data": {
      "text/html": [
       "<div>\n",
       "<style scoped>\n",
       "    .dataframe tbody tr th:only-of-type {\n",
       "        vertical-align: middle;\n",
       "    }\n",
       "\n",
       "    .dataframe tbody tr th {\n",
       "        vertical-align: top;\n",
       "    }\n",
       "\n",
       "    .dataframe thead th {\n",
       "        text-align: right;\n",
       "    }\n",
       "</style>\n",
       "<table border=\"1\" class=\"dataframe\">\n",
       "  <thead>\n",
       "    <tr style=\"text-align: right;\">\n",
       "      <th></th>\n",
       "      <th>actual</th>\n",
       "      <th>prediction</th>\n",
       "      <th>error</th>\n",
       "    </tr>\n",
       "  </thead>\n",
       "  <tbody>\n",
       "    <tr>\n",
       "      <th>29</th>\n",
       "      <td>350</td>\n",
       "      <td>50166.75</td>\n",
       "      <td>-49816.75</td>\n",
       "    </tr>\n",
       "    <tr>\n",
       "      <th>11</th>\n",
       "      <td>25670</td>\n",
       "      <td>55851.63</td>\n",
       "      <td>-30181.63</td>\n",
       "    </tr>\n",
       "    <tr>\n",
       "      <th>10</th>\n",
       "      <td>100000</td>\n",
       "      <td>125159.69</td>\n",
       "      <td>-25159.69</td>\n",
       "    </tr>\n",
       "    <tr>\n",
       "      <th>22</th>\n",
       "      <td>4455</td>\n",
       "      <td>75021.30</td>\n",
       "      <td>-70566.30</td>\n",
       "    </tr>\n",
       "    <tr>\n",
       "      <th>2</th>\n",
       "      <td>25000</td>\n",
       "      <td>20384.92</td>\n",
       "      <td>4615.08</td>\n",
       "    </tr>\n",
       "    <tr>\n",
       "      <th>28</th>\n",
       "      <td>1200</td>\n",
       "      <td>56662.75</td>\n",
       "      <td>-55462.75</td>\n",
       "    </tr>\n",
       "    <tr>\n",
       "      <th>45</th>\n",
       "      <td>3411</td>\n",
       "      <td>12686.12</td>\n",
       "      <td>-9275.12</td>\n",
       "    </tr>\n",
       "    <tr>\n",
       "      <th>32</th>\n",
       "      <td>32975</td>\n",
       "      <td>14660.45</td>\n",
       "      <td>18314.55</td>\n",
       "    </tr>\n",
       "    <tr>\n",
       "      <th>26</th>\n",
       "      <td>23500</td>\n",
       "      <td>57400.50</td>\n",
       "      <td>-33900.50</td>\n",
       "    </tr>\n",
       "    <tr>\n",
       "      <th>4</th>\n",
       "      <td>6000</td>\n",
       "      <td>66744.42</td>\n",
       "      <td>-60744.42</td>\n",
       "    </tr>\n",
       "    <tr>\n",
       "      <th>33</th>\n",
       "      <td>81000</td>\n",
       "      <td>32088.73</td>\n",
       "      <td>48911.27</td>\n",
       "    </tr>\n",
       "    <tr>\n",
       "      <th>41</th>\n",
       "      <td>5000</td>\n",
       "      <td>17693.00</td>\n",
       "      <td>-12693.00</td>\n",
       "    </tr>\n",
       "    <tr>\n",
       "      <th>27</th>\n",
       "      <td>22900</td>\n",
       "      <td>32241.50</td>\n",
       "      <td>-9341.50</td>\n",
       "    </tr>\n",
       "    <tr>\n",
       "      <th>35</th>\n",
       "      <td>4355</td>\n",
       "      <td>105836.00</td>\n",
       "      <td>-101481.00</td>\n",
       "    </tr>\n",
       "    <tr>\n",
       "      <th>34</th>\n",
       "      <td>3490</td>\n",
       "      <td>15340.59</td>\n",
       "      <td>-11850.59</td>\n",
       "    </tr>\n",
       "    <tr>\n",
       "      <th>7</th>\n",
       "      <td>41000</td>\n",
       "      <td>77007.50</td>\n",
       "      <td>-36007.50</td>\n",
       "    </tr>\n",
       "    <tr>\n",
       "      <th>14</th>\n",
       "      <td>70000</td>\n",
       "      <td>26205.34</td>\n",
       "      <td>43794.66</td>\n",
       "    </tr>\n",
       "    <tr>\n",
       "      <th>46</th>\n",
       "      <td>6700</td>\n",
       "      <td>26860.19</td>\n",
       "      <td>-20160.19</td>\n",
       "    </tr>\n",
       "    <tr>\n",
       "      <th>18</th>\n",
       "      <td>2100</td>\n",
       "      <td>6097.47</td>\n",
       "      <td>-3997.47</td>\n",
       "    </tr>\n",
       "    <tr>\n",
       "      <th>48</th>\n",
       "      <td>5691</td>\n",
       "      <td>32749.50</td>\n",
       "      <td>-27058.50</td>\n",
       "    </tr>\n",
       "    <tr>\n",
       "      <th>42</th>\n",
       "      <td>56000</td>\n",
       "      <td>17347.43</td>\n",
       "      <td>38652.57</td>\n",
       "    </tr>\n",
       "    <tr>\n",
       "      <th>15</th>\n",
       "      <td>12000</td>\n",
       "      <td>20682.57</td>\n",
       "      <td>-8682.57</td>\n",
       "    </tr>\n",
       "    <tr>\n",
       "      <th>31</th>\n",
       "      <td>33445</td>\n",
       "      <td>24438.32</td>\n",
       "      <td>9006.68</td>\n",
       "    </tr>\n",
       "    <tr>\n",
       "      <th>30</th>\n",
       "      <td>470</td>\n",
       "      <td>33998.32</td>\n",
       "      <td>-33528.32</td>\n",
       "    </tr>\n",
       "    <tr>\n",
       "      <th>16</th>\n",
       "      <td>30004</td>\n",
       "      <td>125509.00</td>\n",
       "      <td>-95505.00</td>\n",
       "    </tr>\n",
       "    <tr>\n",
       "      <th>43</th>\n",
       "      <td>41000</td>\n",
       "      <td>27066.62</td>\n",
       "      <td>13933.38</td>\n",
       "    </tr>\n",
       "  </tbody>\n",
       "</table>\n",
       "</div>"
      ],
      "text/plain": [
       "    actual  prediction      error\n",
       "29     350    50166.75  -49816.75\n",
       "11   25670    55851.63  -30181.63\n",
       "10  100000   125159.69  -25159.69\n",
       "22    4455    75021.30  -70566.30\n",
       "2    25000    20384.92    4615.08\n",
       "28    1200    56662.75  -55462.75\n",
       "45    3411    12686.12   -9275.12\n",
       "32   32975    14660.45   18314.55\n",
       "26   23500    57400.50  -33900.50\n",
       "4     6000    66744.42  -60744.42\n",
       "33   81000    32088.73   48911.27\n",
       "41    5000    17693.00  -12693.00\n",
       "27   22900    32241.50   -9341.50\n",
       "35    4355   105836.00 -101481.00\n",
       "34    3490    15340.59  -11850.59\n",
       "7    41000    77007.50  -36007.50\n",
       "14   70000    26205.34   43794.66\n",
       "46    6700    26860.19  -20160.19\n",
       "18    2100     6097.47   -3997.47\n",
       "48    5691    32749.50  -27058.50\n",
       "42   56000    17347.43   38652.57\n",
       "15   12000    20682.57   -8682.57\n",
       "31   33445    24438.32    9006.68\n",
       "30     470    33998.32  -33528.32\n",
       "16   30004   125509.00  -95505.00\n",
       "43   41000    27066.62   13933.38"
      ]
     },
     "execution_count": 131,
     "metadata": {},
     "output_type": "execute_result"
    }
   ],
   "source": [
    "pd.DataFrame({'actual':y1_test,'prediction':prd4,'error':(y1_test-prd4)})"
   ]
  },
  {
   "cell_type": "code",
   "execution_count": 132,
   "metadata": {},
   "outputs": [
    {
     "data": {
      "text/html": [
       "<div>\n",
       "<style scoped>\n",
       "    .dataframe tbody tr th:only-of-type {\n",
       "        vertical-align: middle;\n",
       "    }\n",
       "\n",
       "    .dataframe tbody tr th {\n",
       "        vertical-align: top;\n",
       "    }\n",
       "\n",
       "    .dataframe thead th {\n",
       "        text-align: right;\n",
       "    }\n",
       "</style>\n",
       "<table border=\"1\" class=\"dataframe\">\n",
       "  <thead>\n",
       "    <tr style=\"text-align: right;\">\n",
       "      <th></th>\n",
       "      <th>xgbregressor_pred_rate</th>\n",
       "      <th>linearregression_pred_rate</th>\n",
       "      <th>decisiontreeregressor_pred_rate</th>\n",
       "      <th>randomforestregressor_pred_rate</th>\n",
       "    </tr>\n",
       "  </thead>\n",
       "  <tbody>\n",
       "    <tr>\n",
       "      <th>0</th>\n",
       "      <td>1827.365845</td>\n",
       "      <td>144211.594376</td>\n",
       "      <td>3400.0</td>\n",
       "      <td>50166.75</td>\n",
       "    </tr>\n",
       "    <tr>\n",
       "      <th>1</th>\n",
       "      <td>43975.910156</td>\n",
       "      <td>2517.779154</td>\n",
       "      <td>3750.0</td>\n",
       "      <td>55851.63</td>\n",
       "    </tr>\n",
       "    <tr>\n",
       "      <th>2</th>\n",
       "      <td>26792.111328</td>\n",
       "      <td>72938.135401</td>\n",
       "      <td>250000.0</td>\n",
       "      <td>125159.69</td>\n",
       "    </tr>\n",
       "    <tr>\n",
       "      <th>3</th>\n",
       "      <td>19121.671875</td>\n",
       "      <td>70835.180745</td>\n",
       "      <td>250000.0</td>\n",
       "      <td>75021.30</td>\n",
       "    </tr>\n",
       "    <tr>\n",
       "      <th>4</th>\n",
       "      <td>34620.304688</td>\n",
       "      <td>3448.339680</td>\n",
       "      <td>2321.0</td>\n",
       "      <td>20384.92</td>\n",
       "    </tr>\n",
       "    <tr>\n",
       "      <th>5</th>\n",
       "      <td>10125.833008</td>\n",
       "      <td>164499.235103</td>\n",
       "      <td>3400.0</td>\n",
       "      <td>56662.75</td>\n",
       "    </tr>\n",
       "    <tr>\n",
       "      <th>6</th>\n",
       "      <td>16984.554688</td>\n",
       "      <td>14046.050003</td>\n",
       "      <td>2100.0</td>\n",
       "      <td>12686.12</td>\n",
       "    </tr>\n",
       "    <tr>\n",
       "      <th>7</th>\n",
       "      <td>2036.058838</td>\n",
       "      <td>2243.321226</td>\n",
       "      <td>4200.0</td>\n",
       "      <td>14660.45</td>\n",
       "    </tr>\n",
       "    <tr>\n",
       "      <th>8</th>\n",
       "      <td>13167.719727</td>\n",
       "      <td>95898.436770</td>\n",
       "      <td>20000.0</td>\n",
       "      <td>57400.50</td>\n",
       "    </tr>\n",
       "    <tr>\n",
       "      <th>9</th>\n",
       "      <td>6629.317383</td>\n",
       "      <td>115307.281660</td>\n",
       "      <td>3400.0</td>\n",
       "      <td>66744.42</td>\n",
       "    </tr>\n",
       "    <tr>\n",
       "      <th>10</th>\n",
       "      <td>2604.519531</td>\n",
       "      <td>23192.156767</td>\n",
       "      <td>67000.0</td>\n",
       "      <td>32088.73</td>\n",
       "    </tr>\n",
       "    <tr>\n",
       "      <th>11</th>\n",
       "      <td>749.448608</td>\n",
       "      <td>77854.996618</td>\n",
       "      <td>4500.0</td>\n",
       "      <td>17693.00</td>\n",
       "    </tr>\n",
       "    <tr>\n",
       "      <th>12</th>\n",
       "      <td>1260.782715</td>\n",
       "      <td>30370.519924</td>\n",
       "      <td>20000.0</td>\n",
       "      <td>32241.50</td>\n",
       "    </tr>\n",
       "    <tr>\n",
       "      <th>13</th>\n",
       "      <td>62906.601562</td>\n",
       "      <td>110481.900714</td>\n",
       "      <td>200000.0</td>\n",
       "      <td>105836.00</td>\n",
       "    </tr>\n",
       "    <tr>\n",
       "      <th>14</th>\n",
       "      <td>14685.638672</td>\n",
       "      <td>45567.260591</td>\n",
       "      <td>4476.0</td>\n",
       "      <td>15340.59</td>\n",
       "    </tr>\n",
       "    <tr>\n",
       "      <th>15</th>\n",
       "      <td>33501.328125</td>\n",
       "      <td>42507.863064</td>\n",
       "      <td>2000.0</td>\n",
       "      <td>77007.50</td>\n",
       "    </tr>\n",
       "    <tr>\n",
       "      <th>16</th>\n",
       "      <td>7787.340820</td>\n",
       "      <td>80363.272896</td>\n",
       "      <td>3400.0</td>\n",
       "      <td>26205.34</td>\n",
       "    </tr>\n",
       "    <tr>\n",
       "      <th>17</th>\n",
       "      <td>8869.052734</td>\n",
       "      <td>17117.837354</td>\n",
       "      <td>7000.0</td>\n",
       "      <td>26860.19</td>\n",
       "    </tr>\n",
       "    <tr>\n",
       "      <th>18</th>\n",
       "      <td>2405.150635</td>\n",
       "      <td>56388.766849</td>\n",
       "      <td>4476.0</td>\n",
       "      <td>6097.47</td>\n",
       "    </tr>\n",
       "    <tr>\n",
       "      <th>19</th>\n",
       "      <td>-1536.341675</td>\n",
       "      <td>43456.461258</td>\n",
       "      <td>4500.0</td>\n",
       "      <td>32749.50</td>\n",
       "    </tr>\n",
       "    <tr>\n",
       "      <th>20</th>\n",
       "      <td>12886.238281</td>\n",
       "      <td>35895.914922</td>\n",
       "      <td>8800.0</td>\n",
       "      <td>17347.43</td>\n",
       "    </tr>\n",
       "    <tr>\n",
       "      <th>21</th>\n",
       "      <td>300.913361</td>\n",
       "      <td>41963.492355</td>\n",
       "      <td>2100.0</td>\n",
       "      <td>20682.57</td>\n",
       "    </tr>\n",
       "    <tr>\n",
       "      <th>22</th>\n",
       "      <td>2036.058838</td>\n",
       "      <td>-3760.648762</td>\n",
       "      <td>4200.0</td>\n",
       "      <td>24438.32</td>\n",
       "    </tr>\n",
       "    <tr>\n",
       "      <th>23</th>\n",
       "      <td>8869.052734</td>\n",
       "      <td>5397.300758</td>\n",
       "      <td>7000.0</td>\n",
       "      <td>33998.32</td>\n",
       "    </tr>\n",
       "    <tr>\n",
       "      <th>24</th>\n",
       "      <td>2090.510254</td>\n",
       "      <td>103284.755027</td>\n",
       "      <td>200000.0</td>\n",
       "      <td>125509.00</td>\n",
       "    </tr>\n",
       "    <tr>\n",
       "      <th>25</th>\n",
       "      <td>47313.335938</td>\n",
       "      <td>36073.791805</td>\n",
       "      <td>4476.0</td>\n",
       "      <td>27066.62</td>\n",
       "    </tr>\n",
       "  </tbody>\n",
       "</table>\n",
       "</div>"
      ],
      "text/plain": [
       "    xgbregressor_pred_rate  linearregression_pred_rate  \\\n",
       "0              1827.365845               144211.594376   \n",
       "1             43975.910156                 2517.779154   \n",
       "2             26792.111328                72938.135401   \n",
       "3             19121.671875                70835.180745   \n",
       "4             34620.304688                 3448.339680   \n",
       "5             10125.833008               164499.235103   \n",
       "6             16984.554688                14046.050003   \n",
       "7              2036.058838                 2243.321226   \n",
       "8             13167.719727                95898.436770   \n",
       "9              6629.317383               115307.281660   \n",
       "10             2604.519531                23192.156767   \n",
       "11              749.448608                77854.996618   \n",
       "12             1260.782715                30370.519924   \n",
       "13            62906.601562               110481.900714   \n",
       "14            14685.638672                45567.260591   \n",
       "15            33501.328125                42507.863064   \n",
       "16             7787.340820                80363.272896   \n",
       "17             8869.052734                17117.837354   \n",
       "18             2405.150635                56388.766849   \n",
       "19            -1536.341675                43456.461258   \n",
       "20            12886.238281                35895.914922   \n",
       "21              300.913361                41963.492355   \n",
       "22             2036.058838                -3760.648762   \n",
       "23             8869.052734                 5397.300758   \n",
       "24             2090.510254               103284.755027   \n",
       "25            47313.335938                36073.791805   \n",
       "\n",
       "    decisiontreeregressor_pred_rate  randomforestregressor_pred_rate  \n",
       "0                            3400.0                         50166.75  \n",
       "1                            3750.0                         55851.63  \n",
       "2                          250000.0                        125159.69  \n",
       "3                          250000.0                         75021.30  \n",
       "4                            2321.0                         20384.92  \n",
       "5                            3400.0                         56662.75  \n",
       "6                            2100.0                         12686.12  \n",
       "7                            4200.0                         14660.45  \n",
       "8                           20000.0                         57400.50  \n",
       "9                            3400.0                         66744.42  \n",
       "10                          67000.0                         32088.73  \n",
       "11                           4500.0                         17693.00  \n",
       "12                          20000.0                         32241.50  \n",
       "13                         200000.0                        105836.00  \n",
       "14                           4476.0                         15340.59  \n",
       "15                           2000.0                         77007.50  \n",
       "16                           3400.0                         26205.34  \n",
       "17                           7000.0                         26860.19  \n",
       "18                           4476.0                          6097.47  \n",
       "19                           4500.0                         32749.50  \n",
       "20                           8800.0                         17347.43  \n",
       "21                           2100.0                         20682.57  \n",
       "22                           4200.0                         24438.32  \n",
       "23                           7000.0                         33998.32  \n",
       "24                         200000.0                        125509.00  \n",
       "25                           4476.0                         27066.62  "
      ]
     },
     "execution_count": 132,
     "metadata": {},
     "output_type": "execute_result"
    }
   ],
   "source": [
    "pd.DataFrame({'xgbregressor_pred_rate':prd1,'linearregression_pred_rate':prd2,'decisiontreeregressor_pred_rate':prd3,'randomforestregressor_pred_rate':prd4})"
   ]
  }
 ],
 "metadata": {
  "kernelspec": {
   "display_name": "Python 3",
   "language": "python",
   "name": "python3"
  },
  "language_info": {
   "codemirror_mode": {
    "name": "ipython",
    "version": 3
   },
   "file_extension": ".py",
   "mimetype": "text/x-python",
   "name": "python",
   "nbconvert_exporter": "python",
   "pygments_lexer": "ipython3",
   "version": "3.7.9"
  }
 },
 "nbformat": 4,
 "nbformat_minor": 4
}
